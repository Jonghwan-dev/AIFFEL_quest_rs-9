{
 "cells": [
  {
   "cell_type": "code",
   "execution_count": 1,
   "id": "e7869663",
   "metadata": {},
   "outputs": [
    {
     "name": "stdout",
     "output_type": "stream",
     "text": [
      "(442, 10)\n"
     ]
    },
    {
     "data": {
      "text/html": [
       "<div>\n",
       "<style scoped>\n",
       "    .dataframe tbody tr th:only-of-type {\n",
       "        vertical-align: middle;\n",
       "    }\n",
       "\n",
       "    .dataframe tbody tr th {\n",
       "        vertical-align: top;\n",
       "    }\n",
       "\n",
       "    .dataframe thead th {\n",
       "        text-align: right;\n",
       "    }\n",
       "</style>\n",
       "<table border=\"1\" class=\"dataframe\">\n",
       "  <thead>\n",
       "    <tr style=\"text-align: right;\">\n",
       "      <th></th>\n",
       "      <th>age</th>\n",
       "      <th>sex</th>\n",
       "      <th>bmi</th>\n",
       "      <th>bp</th>\n",
       "      <th>s1</th>\n",
       "      <th>s2</th>\n",
       "      <th>s3</th>\n",
       "      <th>s4</th>\n",
       "      <th>s5</th>\n",
       "      <th>s6</th>\n",
       "    </tr>\n",
       "  </thead>\n",
       "  <tbody>\n",
       "    <tr>\n",
       "      <th>0</th>\n",
       "      <td>0.038076</td>\n",
       "      <td>0.050680</td>\n",
       "      <td>0.061696</td>\n",
       "      <td>0.021872</td>\n",
       "      <td>-0.044223</td>\n",
       "      <td>-0.034821</td>\n",
       "      <td>-0.043401</td>\n",
       "      <td>-0.002592</td>\n",
       "      <td>0.019908</td>\n",
       "      <td>-0.017646</td>\n",
       "    </tr>\n",
       "    <tr>\n",
       "      <th>1</th>\n",
       "      <td>-0.001882</td>\n",
       "      <td>-0.044642</td>\n",
       "      <td>-0.051474</td>\n",
       "      <td>-0.026328</td>\n",
       "      <td>-0.008449</td>\n",
       "      <td>-0.019163</td>\n",
       "      <td>0.074412</td>\n",
       "      <td>-0.039493</td>\n",
       "      <td>-0.068330</td>\n",
       "      <td>-0.092204</td>\n",
       "    </tr>\n",
       "    <tr>\n",
       "      <th>2</th>\n",
       "      <td>0.085299</td>\n",
       "      <td>0.050680</td>\n",
       "      <td>0.044451</td>\n",
       "      <td>-0.005671</td>\n",
       "      <td>-0.045599</td>\n",
       "      <td>-0.034194</td>\n",
       "      <td>-0.032356</td>\n",
       "      <td>-0.002592</td>\n",
       "      <td>0.002864</td>\n",
       "      <td>-0.025930</td>\n",
       "    </tr>\n",
       "    <tr>\n",
       "      <th>3</th>\n",
       "      <td>-0.089063</td>\n",
       "      <td>-0.044642</td>\n",
       "      <td>-0.011595</td>\n",
       "      <td>-0.036656</td>\n",
       "      <td>0.012191</td>\n",
       "      <td>0.024991</td>\n",
       "      <td>-0.036038</td>\n",
       "      <td>0.034309</td>\n",
       "      <td>0.022692</td>\n",
       "      <td>-0.009362</td>\n",
       "    </tr>\n",
       "    <tr>\n",
       "      <th>4</th>\n",
       "      <td>0.005383</td>\n",
       "      <td>-0.044642</td>\n",
       "      <td>-0.036385</td>\n",
       "      <td>0.021872</td>\n",
       "      <td>0.003935</td>\n",
       "      <td>0.015596</td>\n",
       "      <td>0.008142</td>\n",
       "      <td>-0.002592</td>\n",
       "      <td>-0.031991</td>\n",
       "      <td>-0.046641</td>\n",
       "    </tr>\n",
       "  </tbody>\n",
       "</table>\n",
       "</div>"
      ],
      "text/plain": [
       "        age       sex       bmi        bp        s1        s2        s3  \\\n",
       "0  0.038076  0.050680  0.061696  0.021872 -0.044223 -0.034821 -0.043401   \n",
       "1 -0.001882 -0.044642 -0.051474 -0.026328 -0.008449 -0.019163  0.074412   \n",
       "2  0.085299  0.050680  0.044451 -0.005671 -0.045599 -0.034194 -0.032356   \n",
       "3 -0.089063 -0.044642 -0.011595 -0.036656  0.012191  0.024991 -0.036038   \n",
       "4  0.005383 -0.044642 -0.036385  0.021872  0.003935  0.015596  0.008142   \n",
       "\n",
       "         s4        s5        s6  \n",
       "0 -0.002592  0.019908 -0.017646  \n",
       "1 -0.039493 -0.068330 -0.092204  \n",
       "2 -0.002592  0.002864 -0.025930  \n",
       "3  0.034309  0.022692 -0.009362  \n",
       "4 -0.002592 -0.031991 -0.046641  "
      ]
     },
     "execution_count": 1,
     "metadata": {},
     "output_type": "execute_result"
    }
   ],
   "source": [
    "from sklearn.datasets import load_diabetes\n",
    "from IPython.display import display, Image\n",
    "import pandas as pd\n",
    "\n",
    "# 필요한 모듈 불러오기 및 df화 하여 각각 확인해보기\n",
    "\n",
    "diabetes = load_diabetes()\n",
    "diabetes_df = pd.DataFrame(diabetes.data, columns=diabetes.feature_names)\n",
    "print(diabetes_df.shape)\n",
    "diabetes_df.head()"
   ]
  },
  {
   "cell_type": "code",
   "execution_count": 2,
   "id": "d59320ce",
   "metadata": {
    "scrolled": true
   },
   "outputs": [
    {
     "data": {
      "text/plain": [
       "array([151.,  75., 141., 206., 135.,  97., 138.,  63., 110., 310., 101.,\n",
       "        69., 179., 185., 118., 171., 166., 144.,  97., 168.,  68.,  49.,\n",
       "        68., 245., 184., 202., 137.,  85., 131., 283., 129.,  59., 341.,\n",
       "        87.,  65., 102., 265., 276., 252.,  90., 100.,  55.,  61.,  92.,\n",
       "       259.,  53., 190., 142.,  75., 142., 155., 225.,  59., 104., 182.,\n",
       "       128.,  52.,  37., 170., 170.,  61., 144.,  52., 128.,  71., 163.,\n",
       "       150.,  97., 160., 178.,  48., 270., 202., 111.,  85.,  42., 170.,\n",
       "       200., 252., 113., 143.,  51.,  52., 210.,  65., 141.,  55., 134.,\n",
       "        42., 111.,  98., 164.,  48.,  96.,  90., 162., 150., 279.,  92.,\n",
       "        83., 128., 102., 302., 198.,  95.,  53., 134., 144., 232.,  81.,\n",
       "       104.,  59., 246., 297., 258., 229., 275., 281., 179., 200., 200.,\n",
       "       173., 180.,  84., 121., 161.,  99., 109., 115., 268., 274., 158.,\n",
       "       107.,  83., 103., 272.,  85., 280., 336., 281., 118., 317., 235.,\n",
       "        60., 174., 259., 178., 128.,  96., 126., 288.,  88., 292.,  71.,\n",
       "       197., 186.,  25.,  84.,  96., 195.,  53., 217., 172., 131., 214.,\n",
       "        59.,  70., 220., 268., 152.,  47.,  74., 295., 101., 151., 127.,\n",
       "       237., 225.,  81., 151., 107.,  64., 138., 185., 265., 101., 137.,\n",
       "       143., 141.,  79., 292., 178.,  91., 116.,  86., 122.,  72., 129.,\n",
       "       142.,  90., 158.,  39., 196., 222., 277.,  99., 196., 202., 155.,\n",
       "        77., 191.,  70.,  73.,  49.,  65., 263., 248., 296., 214., 185.,\n",
       "        78.,  93., 252., 150.,  77., 208.,  77., 108., 160.,  53., 220.,\n",
       "       154., 259.,  90., 246., 124.,  67.,  72., 257., 262., 275., 177.,\n",
       "        71.,  47., 187., 125.,  78.,  51., 258., 215., 303., 243.,  91.,\n",
       "       150., 310., 153., 346.,  63.,  89.,  50.,  39., 103., 308., 116.,\n",
       "       145.,  74.,  45., 115., 264.,  87., 202., 127., 182., 241.,  66.,\n",
       "        94., 283.,  64., 102., 200., 265.,  94., 230., 181., 156., 233.,\n",
       "        60., 219.,  80.,  68., 332., 248.,  84., 200.,  55.,  85.,  89.,\n",
       "        31., 129.,  83., 275.,  65., 198., 236., 253., 124.,  44., 172.,\n",
       "       114., 142., 109., 180., 144., 163., 147.,  97., 220., 190., 109.,\n",
       "       191., 122., 230., 242., 248., 249., 192., 131., 237.,  78., 135.,\n",
       "       244., 199., 270., 164.,  72.,  96., 306.,  91., 214.,  95., 216.,\n",
       "       263., 178., 113., 200., 139., 139.,  88., 148.,  88., 243.,  71.,\n",
       "        77., 109., 272.,  60.,  54., 221.,  90., 311., 281., 182., 321.,\n",
       "        58., 262., 206., 233., 242., 123., 167.,  63., 197.,  71., 168.,\n",
       "       140., 217., 121., 235., 245.,  40.,  52., 104., 132.,  88.,  69.,\n",
       "       219.,  72., 201., 110.,  51., 277.,  63., 118.,  69., 273., 258.,\n",
       "        43., 198., 242., 232., 175.,  93., 168., 275., 293., 281.,  72.,\n",
       "       140., 189., 181., 209., 136., 261., 113., 131., 174., 257.,  55.,\n",
       "        84.,  42., 146., 212., 233.,  91., 111., 152., 120.,  67., 310.,\n",
       "        94., 183.,  66., 173.,  72.,  49.,  64.,  48., 178., 104., 132.,\n",
       "       220.,  57.])"
      ]
     },
     "execution_count": 2,
     "metadata": {},
     "output_type": "execute_result"
    }
   ],
   "source": [
    "df_X = diabetes.data\n",
    "df_y = diabetes.target\n",
    "\n",
    "#data와 target 분류 및 np array로 변환 (사실 위에서 df화 했기 때문에 필요없지만 한번 더)\n",
    "\n",
    "df_y"
   ]
  },
  {
   "cell_type": "code",
   "execution_count": 3,
   "id": "a873c6fb",
   "metadata": {},
   "outputs": [],
   "source": [
    "import numpy as np\n",
    "\n",
    "# 혹시모를 문제 대비 백업용 저장\n",
    "\n",
    "np_array_X = np.array(df_X)\n",
    "np_array_y = np.array(df_y)\n",
    "\n",
    "np.save('df_X.npy', np_array_X)\n",
    "np.save('df_y.npy', np_array_y)"
   ]
  },
  {
   "cell_type": "markdown",
   "id": "f64d8c09",
   "metadata": {},
   "source": [
    "아래에서 부터는 train test 데이터 분리"
   ]
  },
  {
   "cell_type": "code",
   "execution_count": 4,
   "id": "33c62a93",
   "metadata": {},
   "outputs": [
    {
     "name": "stdout",
     "output_type": "stream",
     "text": [
      "(353, 10) (353,)\n",
      "(89, 10) (89,)\n"
     ]
    }
   ],
   "source": [
    "from sklearn.model_selection import train_test_split\n",
    "\n",
    "X_train, X_test, y_train, y_test = train_test_split(df_X, df_y, test_size=0.2, random_state=15)\n",
    "\n",
    "print(X_train.shape, y_train.shape)\n",
    "print(X_test.shape, y_test.shape)"
   ]
  },
  {
   "cell_type": "markdown",
   "id": "c9491fb7",
   "metadata": {},
   "source": [
    "data에 10개의 feature가 있으므로, w는 10개 b는 1개!"
   ]
  },
  {
   "cell_type": "code",
   "execution_count": 5,
   "id": "16fefb83",
   "metadata": {},
   "outputs": [],
   "source": [
    "W = np.random.rand(10)\n",
    "b = np.random.rand()"
   ]
  },
  {
   "cell_type": "code",
   "execution_count": 6,
   "id": "a603927f",
   "metadata": {},
   "outputs": [
    {
     "name": "stdout",
     "output_type": "stream",
     "text": [
      "Model 준비완료\n",
      "mse로 준비완료\n",
      "Loss function 정의 완료\n"
     ]
    }
   ],
   "source": [
    "def model(X, W, b):\n",
    "    predictions = 0\n",
    "    for i in range(10):\n",
    "        predictions += X[:, i] * W[i]\n",
    "    predictions += b\n",
    "    return predictions\n",
    "print(\"Model 준비완료\")\n",
    "\n",
    "def MSE(a, b):\n",
    "    mse = ((a - b) ** 2).mean()  # 두 값의 차이의 제곱의 평균\n",
    "    return mse\n",
    "print(\"mse로 준비완료\")\n",
    "\n",
    "def loss(X, W, b, y):\n",
    "    predictions = model(X, W, b)\n",
    "    L = MSE(predictions, y)\n",
    "    return L\n",
    "print(\"Loss function 정의 완료\")"
   ]
  },
  {
   "cell_type": "code",
   "execution_count": 7,
   "id": "0cae010f",
   "metadata": {},
   "outputs": [
    {
     "name": "stdout",
     "output_type": "stream",
     "text": [
      "gradient 설정완료! 다차원 변수이므로 미분식 사용!\n"
     ]
    }
   ],
   "source": [
    "def gradient(X, W, b, y):\n",
    "    # N은 데이터 포인트의 개수\n",
    "    N = len(y)\n",
    "    \n",
    "    # y_pred 준비\n",
    "    y_pred = model(X, W, b)\n",
    "    \n",
    "    # 공식에 맞게 gradient 계산\n",
    "    dW = 1/N * 2 * X.T.dot(y_pred - y)\n",
    "        \n",
    "    # b의 gradient 계산\n",
    "    db = 2 * (y_pred - y).mean()\n",
    "    return dW, db\n",
    "print(\"gradient 설정완료! 다차원 변수이므로 미분식 사용!\")"
   ]
  },
  {
   "cell_type": "markdown",
   "id": "96131633",
   "metadata": {},
   "source": [
    "# 아래의 Learning rate을 조절하여 실험!"
   ]
  },
  {
   "cell_type": "code",
   "execution_count": 10,
   "id": "1fee1980",
   "metadata": {},
   "outputs": [],
   "source": [
    "LEARNING_RATE = 0.02"
   ]
  },
  {
   "cell_type": "code",
   "execution_count": 11,
   "id": "9c9ab1a6",
   "metadata": {},
   "outputs": [
    {
     "name": "stdout",
     "output_type": "stream",
     "text": [
      "Iteration 10 : Loss 2941.4370\n",
      "Iteration 20 : Loss 2941.4344\n",
      "Iteration 30 : Loss 2941.4319\n",
      "Iteration 40 : Loss 2941.4293\n",
      "Iteration 50 : Loss 2941.4268\n",
      "Iteration 60 : Loss 2941.4242\n",
      "Iteration 70 : Loss 2941.4217\n",
      "Iteration 80 : Loss 2941.4191\n",
      "Iteration 90 : Loss 2941.4166\n",
      "Iteration 100 : Loss 2941.4141\n",
      "Iteration 110 : Loss 2941.4115\n",
      "Iteration 120 : Loss 2941.4090\n",
      "Iteration 130 : Loss 2941.4065\n",
      "Iteration 140 : Loss 2941.4039\n",
      "Iteration 150 : Loss 2941.4014\n",
      "Iteration 160 : Loss 2941.3989\n",
      "Iteration 170 : Loss 2941.3964\n",
      "Iteration 180 : Loss 2941.3938\n",
      "Iteration 190 : Loss 2941.3913\n",
      "Iteration 200 : Loss 2941.3888\n",
      "Iteration 210 : Loss 2941.3863\n",
      "Iteration 220 : Loss 2941.3838\n",
      "Iteration 230 : Loss 2941.3813\n",
      "Iteration 240 : Loss 2941.3787\n",
      "Iteration 250 : Loss 2941.3762\n",
      "Iteration 260 : Loss 2941.3737\n",
      "Iteration 270 : Loss 2941.3712\n",
      "Iteration 280 : Loss 2941.3687\n",
      "Iteration 290 : Loss 2941.3662\n",
      "Iteration 300 : Loss 2941.3637\n",
      "Iteration 310 : Loss 2941.3612\n",
      "Iteration 320 : Loss 2941.3587\n",
      "Iteration 330 : Loss 2941.3562\n",
      "Iteration 340 : Loss 2941.3538\n",
      "Iteration 350 : Loss 2941.3513\n",
      "Iteration 360 : Loss 2941.3488\n",
      "Iteration 370 : Loss 2941.3463\n",
      "Iteration 380 : Loss 2941.3438\n",
      "Iteration 390 : Loss 2941.3413\n",
      "Iteration 400 : Loss 2941.3389\n",
      "Iteration 410 : Loss 2941.3364\n",
      "Iteration 420 : Loss 2941.3339\n",
      "Iteration 430 : Loss 2941.3314\n",
      "Iteration 440 : Loss 2941.3290\n",
      "Iteration 450 : Loss 2941.3265\n",
      "Iteration 460 : Loss 2941.3240\n",
      "Iteration 470 : Loss 2941.3216\n",
      "Iteration 480 : Loss 2941.3191\n",
      "Iteration 490 : Loss 2941.3166\n",
      "Iteration 500 : Loss 2941.3142\n",
      "Iteration 510 : Loss 2941.3117\n",
      "Iteration 520 : Loss 2941.3093\n",
      "Iteration 530 : Loss 2941.3068\n",
      "Iteration 540 : Loss 2941.3043\n",
      "Iteration 550 : Loss 2941.3019\n",
      "Iteration 560 : Loss 2941.2994\n",
      "Iteration 570 : Loss 2941.2970\n",
      "Iteration 580 : Loss 2941.2946\n",
      "Iteration 590 : Loss 2941.2921\n",
      "Iteration 600 : Loss 2941.2897\n",
      "Iteration 610 : Loss 2941.2872\n",
      "Iteration 620 : Loss 2941.2848\n",
      "Iteration 630 : Loss 2941.2824\n",
      "Iteration 640 : Loss 2941.2799\n",
      "Iteration 650 : Loss 2941.2775\n",
      "Iteration 660 : Loss 2941.2751\n",
      "Iteration 670 : Loss 2941.2726\n",
      "Iteration 680 : Loss 2941.2702\n",
      "Iteration 690 : Loss 2941.2678\n",
      "Iteration 700 : Loss 2941.2654\n",
      "Iteration 710 : Loss 2941.2629\n",
      "Iteration 720 : Loss 2941.2605\n",
      "Iteration 730 : Loss 2941.2581\n",
      "Iteration 740 : Loss 2941.2557\n",
      "Iteration 750 : Loss 2941.2533\n",
      "Iteration 760 : Loss 2941.2508\n",
      "Iteration 770 : Loss 2941.2484\n",
      "Iteration 780 : Loss 2941.2460\n",
      "Iteration 790 : Loss 2941.2436\n",
      "Iteration 800 : Loss 2941.2412\n",
      "Iteration 810 : Loss 2941.2388\n",
      "Iteration 820 : Loss 2941.2364\n",
      "Iteration 830 : Loss 2941.2340\n",
      "Iteration 840 : Loss 2941.2316\n",
      "Iteration 850 : Loss 2941.2292\n",
      "Iteration 860 : Loss 2941.2268\n",
      "Iteration 870 : Loss 2941.2244\n",
      "Iteration 880 : Loss 2941.2220\n",
      "Iteration 890 : Loss 2941.2196\n",
      "Iteration 900 : Loss 2941.2173\n",
      "Iteration 910 : Loss 2941.2149\n",
      "Iteration 920 : Loss 2941.2125\n",
      "Iteration 930 : Loss 2941.2101\n",
      "Iteration 940 : Loss 2941.2077\n",
      "Iteration 950 : Loss 2941.2053\n",
      "Iteration 960 : Loss 2941.2030\n",
      "Iteration 970 : Loss 2941.2006\n",
      "Iteration 980 : Loss 2941.1982\n",
      "Iteration 990 : Loss 2941.1958\n",
      "Iteration 1000 : Loss 2941.1935\n"
     ]
    }
   ],
   "source": [
    "losses = []\n",
    "\n",
    "for i in range(1, 1001):\n",
    "    dW, db = gradient(X_train, W, b, y_train)\n",
    "    W -= LEARNING_RATE * dW\n",
    "    b -= LEARNING_RATE * db\n",
    "    L = loss(X_train, W, b, y_train)\n",
    "    losses.append(L)\n",
    "    if i % 10 == 0:\n",
    "        print('Iteration %d : Loss %0.4f' % (i, L))"
   ]
  },
  {
   "cell_type": "code",
   "execution_count": 12,
   "id": "04fe4c15",
   "metadata": {},
   "outputs": [
    {
     "data": {
      "image/png": "[encoded data removed]",
      "text/plain": [
       "<Figure size 432x288 with 1 Axes>"
      ]
     },
     "metadata": {
      "needs_background": "light"
     },
     "output_type": "display_data"
    }
   ],
   "source": [
    "import matplotlib.pyplot as plt\n",
    "plt.plot(losses)\n",
    "plt.show()"
   ]
  },
  {
   "cell_type": "code",
   "execution_count": 13,
   "id": "3d50ff7e",
   "metadata": {},
   "outputs": [
    {
     "data": {
      "text/plain": [
       "(array([ -15.45664359, -203.28874932,  531.35974184,  310.55264016,\n",
       "         -90.41566202, -175.21097735, -168.30792574,  149.44100069,\n",
       "         490.75389001,   99.71518328]),\n",
       " 150.30060041321067)"
      ]
     },
     "execution_count": 13,
     "metadata": {},
     "output_type": "execute_result"
    }
   ],
   "source": [
    "W, b"
   ]
  },
  {
   "cell_type": "code",
   "execution_count": 14,
   "id": "3161a48f",
   "metadata": {},
   "outputs": [
    {
     "data": {
      "text/plain": [
       "2715.6568873361016"
      ]
     },
     "execution_count": 14,
     "metadata": {},
     "output_type": "execute_result"
    }
   ],
   "source": [
    "prediction = model(X_test, W, b)\n",
    "mse = loss(X_test, W, b, y_test)\n",
    "mse"
   ]
  },
  {
   "cell_type": "code",
   "execution_count": 18,
   "id": "4486663f",
   "metadata": {},
   "outputs": [
    {
     "data": {
      "image/png": "[encoded data removed]",
      "text/plain": [
       "<Figure size 432x288 with 1 Axes>"
      ]
     },
     "metadata": {
      "needs_background": "light"
     },
     "output_type": "display_data"
    }
   ],
   "source": [
    "plt.scatter(X_test[:, 0], y_test)\n",
    "plt.scatter(X_test[:, 0], prediction)\n",
    "plt.xlabel('First Feature (age)')\n",
    "plt.ylabel('Target (Diabetes Progression)')\n",
    "plt.title('Linear Regression: First Feature vs. Target')\n",
    "plt.show()"
   ]
  },
  {
   "cell_type": "code",
   "execution_count": null,
   "id": "ff89cabc",
   "metadata": {},
   "outputs": [],
   "source": []
  },
  {
   "cell_type": "code",
   "execution_count": null,
   "id": "276989d1",
   "metadata": {},
   "outputs": [],
   "source": []
  }
 ],
 "metadata": {
  "kernelspec": {
   "display_name": "Python 3 (ipykernel)",
   "language": "python",
   "name": "python3"
  },
  "language_info": {
   "codemirror_mode": {
    "name": "ipython",
    "version": 3
   },
   "file_extension": ".py",
   "mimetype": "text/x-python",
   "name": "python",
   "nbconvert_exporter": "python",
   "pygments_lexer": "ipython3",
   "version": "3.9.7"
  }
 },
 "nbformat": 4,
 "nbformat_minor": 5
}
