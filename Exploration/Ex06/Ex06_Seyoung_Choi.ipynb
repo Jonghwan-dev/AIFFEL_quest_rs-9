{
 "cells": [
  {
   "cell_type": "code",
   "execution_count": 4,
   "id": "32c55491",
   "metadata": {},
   "outputs": [
    {
     "name": "stderr",
     "output_type": "stream",
     "text": [
      "[nltk_data] Downloading package stopwords to /aiffel/nltk_data...\n",
      "[nltk_data]   Unzipping corpora/stopwords.zip.\n"
     ]
    },
    {
     "name": "stdout",
     "output_type": "stream",
     "text": [
      "3.6.5\n",
      "2.6.0\n",
      "1.3.3\n",
      "1.2.0\n"
     ]
    }
   ],
   "source": [
    "from importlib.metadata import version\n",
    "import tensorflow\n",
    "import summa\n",
    "import nltk\n",
    "nltk.download('stopwords')\n",
    "\n",
    "import numpy as np\n",
    "import pandas as pd\n",
    "import os\n",
    "import re\n",
    "import matplotlib.pyplot as plt\n",
    "from nltk.corpus import stopwords\n",
    "from bs4 import BeautifulSoup \n",
    "from tensorflow.keras.preprocessing.text import Tokenizer \n",
    "from tensorflow.keras.preprocessing.sequence import pad_sequences\n",
    "import urllib.request\n",
    "import warnings\n",
    "warnings.filterwarnings(\"ignore\", category=UserWarning, module='bs4')\n",
    "\n",
    "print(nltk.__version__)\n",
    "print(tensorflow.__version__)\n",
    "print(pd.__version__)\n",
    "print(version('summa'))"
   ]
  },
  {
   "cell_type": "markdown",
   "id": "12101a0b",
   "metadata": {},
   "source": [
    "# Step1. 데이터 수집하기"
   ]
  },
  {
   "cell_type": "code",
   "execution_count": 2,
   "id": "1df08fe3",
   "metadata": {},
   "outputs": [],
   "source": [
    "urllib.request.urlretrieve(\"https://raw.githubusercontent.com/sunnysai12345/News_Summary/master/news_summary_more.csv\", filename=\"news_summary_more.csv\")\n",
    "data = pd.read_csv('news_summary_more.csv', encoding='iso-8859-1')"
   ]
  },
  {
   "cell_type": "code",
   "execution_count": 3,
   "id": "32583842",
   "metadata": {},
   "outputs": [
    {
     "data": {
      "text/html": [
       "<div>\n",
       "<style scoped>\n",
       "    .dataframe tbody tr th:only-of-type {\n",
       "        vertical-align: middle;\n",
       "    }\n",
       "\n",
       "    .dataframe tbody tr th {\n",
       "        vertical-align: top;\n",
       "    }\n",
       "\n",
       "    .dataframe thead th {\n",
       "        text-align: right;\n",
       "    }\n",
       "</style>\n",
       "<table border=\"1\" class=\"dataframe\">\n",
       "  <thead>\n",
       "    <tr style=\"text-align: right;\">\n",
       "      <th></th>\n",
       "      <th>headlines</th>\n",
       "      <th>text</th>\n",
       "    </tr>\n",
       "  </thead>\n",
       "  <tbody>\n",
       "    <tr>\n",
       "      <th>96489</th>\n",
       "      <td>Tiger Global-backed startup Cube26 shuts down ...</td>\n",
       "      <td>New Delhi-based mobile technology startup Cube...</td>\n",
       "    </tr>\n",
       "    <tr>\n",
       "      <th>58182</th>\n",
       "      <td>Apple to launch cheapest ever 9.7-inch iPad in...</td>\n",
       "      <td>Technology giant Apple is planning to launch c...</td>\n",
       "    </tr>\n",
       "    <tr>\n",
       "      <th>5996</th>\n",
       "      <td>PokÃÂ©mon Go creator Niantic to raise $200 mn...</td>\n",
       "      <td>PokÃÂ©mon Go creator Niantic is raising $200 ...</td>\n",
       "    </tr>\n",
       "    <tr>\n",
       "      <th>89455</th>\n",
       "      <td>Was he fired? You're kidding: Russian FM on FB...</td>\n",
       "      <td>Russian Foreign Minister Sergey Lavrov on Wedn...</td>\n",
       "    </tr>\n",
       "    <tr>\n",
       "      <th>70232</th>\n",
       "      <td>Nobody has ever stood by me the way my kids ha...</td>\n",
       "      <td>Hollywood actress Angelina Jolie has said that...</td>\n",
       "    </tr>\n",
       "    <tr>\n",
       "      <th>91233</th>\n",
       "      <td>Dawood Ibrahim sick but not critical, seen at ...</td>\n",
       "      <td>Dawood Ibrahim, an accused in the 1993 Mumbai ...</td>\n",
       "    </tr>\n",
       "    <tr>\n",
       "      <th>25862</th>\n",
       "      <td>Anand Mahindra offers financial support to spr...</td>\n",
       "      <td>Offering financial support to Indian sprinter ...</td>\n",
       "    </tr>\n",
       "    <tr>\n",
       "      <th>45547</th>\n",
       "      <td>World's 500 richest lose more than Netflix's m...</td>\n",
       "      <td>The world's 500 richest people have lost a com...</td>\n",
       "    </tr>\n",
       "    <tr>\n",
       "      <th>72176</th>\n",
       "      <td>Kalraj Mishra confirms resigning ahead of Cabi...</td>\n",
       "      <td>Union Cabinet Minister of Micro, Small and Med...</td>\n",
       "    </tr>\n",
       "    <tr>\n",
       "      <th>35261</th>\n",
       "      <td>Priyanka to make B'wood comeback after 3 yrs w...</td>\n",
       "      <td>Priyanka Chopra will make her Bollywood comeba...</td>\n",
       "    </tr>\n",
       "  </tbody>\n",
       "</table>\n",
       "</div>"
      ],
      "text/plain": [
       "                                               headlines  \\\n",
       "96489  Tiger Global-backed startup Cube26 shuts down ...   \n",
       "58182  Apple to launch cheapest ever 9.7-inch iPad in...   \n",
       "5996   PokÃÂ©mon Go creator Niantic to raise $200 mn...   \n",
       "89455  Was he fired? You're kidding: Russian FM on FB...   \n",
       "70232  Nobody has ever stood by me the way my kids ha...   \n",
       "91233  Dawood Ibrahim sick but not critical, seen at ...   \n",
       "25862  Anand Mahindra offers financial support to spr...   \n",
       "45547  World's 500 richest lose more than Netflix's m...   \n",
       "72176  Kalraj Mishra confirms resigning ahead of Cabi...   \n",
       "35261  Priyanka to make B'wood comeback after 3 yrs w...   \n",
       "\n",
       "                                                    text  \n",
       "96489  New Delhi-based mobile technology startup Cube...  \n",
       "58182  Technology giant Apple is planning to launch c...  \n",
       "5996   PokÃÂ©mon Go creator Niantic is raising $200 ...  \n",
       "89455  Russian Foreign Minister Sergey Lavrov on Wedn...  \n",
       "70232  Hollywood actress Angelina Jolie has said that...  \n",
       "91233  Dawood Ibrahim, an accused in the 1993 Mumbai ...  \n",
       "25862  Offering financial support to Indian sprinter ...  \n",
       "45547  The world's 500 richest people have lost a com...  \n",
       "72176  Union Cabinet Minister of Micro, Small and Med...  \n",
       "35261  Priyanka Chopra will make her Bollywood comeba...  "
      ]
     },
     "execution_count": 3,
     "metadata": {},
     "output_type": "execute_result"
    }
   ],
   "source": [
    "data.sample(10)"
   ]
  },
  {
   "cell_type": "markdown",
   "id": "cd4e50f9",
   "metadata": {},
   "source": [
    "# Step 2. 데이터 전처리하기 (추상적 요약)"
   ]
  },
  {
   "cell_type": "code",
   "execution_count": 4,
   "id": "e4b6106e",
   "metadata": {},
   "outputs": [
    {
     "name": "stdout",
     "output_type": "stream",
     "text": [
      "text 열에서 중복을 배제한 유일한 샘플의 수 : 98360\n",
      "headlines 열에서 중복을 배제한 유일한 샘플의 수 : 98280\n"
     ]
    }
   ],
   "source": [
    "# 중복 샘플 유무부터 확인해보겠습니다.\n",
    "print('text 열에서 중복을 배제한 유일한 샘플의 수 :', data['text'].nunique())\n",
    "print('headlines 열에서 중복을 배제한 유일한 샘플의 수 :', data['headlines'].nunique())"
   ]
  },
  {
   "cell_type": "code",
   "execution_count": 5,
   "id": "e29c2851",
   "metadata": {
    "scrolled": true
   },
   "outputs": [
    {
     "name": "stdout",
     "output_type": "stream",
     "text": [
      "전체 샘플수 : 98360\n"
     ]
    }
   ],
   "source": [
    "data.drop_duplicates(subset = ['text'], inplace=True)\n",
    "print('전체 샘플수 :', (len(data)))"
   ]
  },
  {
   "cell_type": "markdown",
   "id": "9b8b4686",
   "metadata": {},
   "source": [
    "## 중폭 샘플 수가 없었나봅니다"
   ]
  },
  {
   "cell_type": "code",
   "execution_count": 6,
   "id": "03471d57",
   "metadata": {},
   "outputs": [
    {
     "name": "stdout",
     "output_type": "stream",
     "text": [
      "headlines    0\n",
      "text         0\n",
      "dtype: int64\n"
     ]
    }
   ],
   "source": [
    "# 결측치가 있는지 확인해보겠습니다\n",
    "print(data.isnull().sum())"
   ]
  },
  {
   "cell_type": "markdown",
   "id": "2b7a8e41",
   "metadata": {},
   "source": [
    "## 결측치가 없으므로 바로 정규화로 넘어가겠습니다."
   ]
  },
  {
   "cell_type": "code",
   "execution_count": 7,
   "id": "4d208921",
   "metadata": {},
   "outputs": [
    {
     "name": "stdout",
     "output_type": "stream",
     "text": [
      "정규화 사전의 수:  120\n"
     ]
    }
   ],
   "source": [
    "#정규화 사전 정의하기\n",
    "contractions = {\"ain't\": \"is not\", \"aren't\": \"are not\",\"can't\": \"cannot\", \"'cause\": \"because\", \"could've\": \"could have\", \"couldn't\": \"could not\",\n",
    "                           \"didn't\": \"did not\",  \"doesn't\": \"does not\", \"don't\": \"do not\", \"hadn't\": \"had not\", \"hasn't\": \"has not\", \"haven't\": \"have not\",\n",
    "                           \"he'd\": \"he would\",\"he'll\": \"he will\", \"he's\": \"he is\", \"how'd\": \"how did\", \"how'd'y\": \"how do you\", \"how'll\": \"how will\", \"how's\": \"how is\",\n",
    "                           \"I'd\": \"I would\", \"I'd've\": \"I would have\", \"I'll\": \"I will\", \"I'll've\": \"I will have\",\"I'm\": \"I am\", \"I've\": \"I have\", \"i'd\": \"i would\",\n",
    "                           \"i'd've\": \"i would have\", \"i'll\": \"i will\",  \"i'll've\": \"i will have\",\"i'm\": \"i am\", \"i've\": \"i have\", \"isn't\": \"is not\", \"it'd\": \"it would\",\n",
    "                           \"it'd've\": \"it would have\", \"it'll\": \"it will\", \"it'll've\": \"it will have\",\"it's\": \"it is\", \"let's\": \"let us\", \"ma'am\": \"madam\",\n",
    "                           \"mayn't\": \"may not\", \"might've\": \"might have\",\"mightn't\": \"might not\",\"mightn't've\": \"might not have\", \"must've\": \"must have\",\n",
    "                           \"mustn't\": \"must not\", \"mustn't've\": \"must not have\", \"needn't\": \"need not\", \"needn't've\": \"need not have\",\"o'clock\": \"of the clock\",\n",
    "                           \"oughtn't\": \"ought not\", \"oughtn't've\": \"ought not have\", \"shan't\": \"shall not\", \"sha'n't\": \"shall not\", \"shan't've\": \"shall not have\",\n",
    "                           \"she'd\": \"she would\", \"she'd've\": \"she would have\", \"she'll\": \"she will\", \"she'll've\": \"she will have\", \"she's\": \"she is\",\n",
    "                           \"should've\": \"should have\", \"shouldn't\": \"should not\", \"shouldn't've\": \"should not have\", \"so've\": \"so have\",\"so's\": \"so as\",\n",
    "                           \"this's\": \"this is\",\"that'd\": \"that would\", \"that'd've\": \"that would have\", \"that's\": \"that is\", \"there'd\": \"there would\",\n",
    "                           \"there'd've\": \"there would have\", \"there's\": \"there is\", \"here's\": \"here is\",\"they'd\": \"they would\", \"they'd've\": \"they would have\",\n",
    "                           \"they'll\": \"they will\", \"they'll've\": \"they will have\", \"they're\": \"they are\", \"they've\": \"they have\", \"to've\": \"to have\",\n",
    "                           \"wasn't\": \"was not\", \"we'd\": \"we would\", \"we'd've\": \"we would have\", \"we'll\": \"we will\", \"we'll've\": \"we will have\", \"we're\": \"we are\",\n",
    "                           \"we've\": \"we have\", \"weren't\": \"were not\", \"what'll\": \"what will\", \"what'll've\": \"what will have\", \"what're\": \"what are\",\n",
    "                           \"what's\": \"what is\", \"what've\": \"what have\", \"when's\": \"when is\", \"when've\": \"when have\", \"where'd\": \"where did\", \"where's\": \"where is\",\n",
    "                           \"where've\": \"where have\", \"who'll\": \"who will\", \"who'll've\": \"who will have\", \"who's\": \"who is\", \"who've\": \"who have\",\n",
    "                           \"why's\": \"why is\", \"why've\": \"why have\", \"will've\": \"will have\", \"won't\": \"will not\", \"won't've\": \"will not have\",\n",
    "                           \"would've\": \"would have\", \"wouldn't\": \"would not\", \"wouldn't've\": \"would not have\", \"y'all\": \"you all\",\n",
    "                           \"y'all'd\": \"you all would\",\"y'all'd've\": \"you all would have\",\"y'all're\": \"you all are\",\"y'all've\": \"you all have\",\n",
    "                           \"you'd\": \"you would\", \"you'd've\": \"you would have\", \"you'll\": \"you will\", \"you'll've\": \"you will have\",\n",
    "                           \"you're\": \"you are\", \"you've\": \"you have\"}\n",
    "\n",
    "print(\"정규화 사전의 수: \", len(contractions))"
   ]
  },
  {
   "cell_type": "code",
   "execution_count": 8,
   "id": "a01f7ce2",
   "metadata": {},
   "outputs": [
    {
     "name": "stdout",
     "output_type": "stream",
     "text": [
      "불용어 개수 : 179\n",
      "['i', 'me', 'my', 'myself', 'we', 'our', 'ours', 'ourselves', 'you', \"you're\", \"you've\", \"you'll\", \"you'd\", 'your', 'yours', 'yourself', 'yourselves', 'he', 'him', 'his', 'himself', 'she', \"she's\", 'her', 'hers', 'herself', 'it', \"it's\", 'its', 'itself', 'they', 'them', 'their', 'theirs', 'themselves', 'what', 'which', 'who', 'whom', 'this', 'that', \"that'll\", 'these', 'those', 'am', 'is', 'are', 'was', 'were', 'be', 'been', 'being', 'have', 'has', 'had', 'having', 'do', 'does', 'did', 'doing', 'a', 'an', 'the', 'and', 'but', 'if', 'or', 'because', 'as', 'until', 'while', 'of', 'at', 'by', 'for', 'with', 'about', 'against', 'between', 'into', 'through', 'during', 'before', 'after', 'above', 'below', 'to', 'from', 'up', 'down', 'in', 'out', 'on', 'off', 'over', 'under', 'again', 'further', 'then', 'once', 'here', 'there', 'when', 'where', 'why', 'how', 'all', 'any', 'both', 'each', 'few', 'more', 'most', 'other', 'some', 'such', 'no', 'nor', 'not', 'only', 'own', 'same', 'so', 'than', 'too', 'very', 's', 't', 'can', 'will', 'just', 'don', \"don't\", 'should', \"should've\", 'now', 'd', 'll', 'm', 'o', 're', 've', 'y', 'ain', 'aren', \"aren't\", 'couldn', \"couldn't\", 'didn', \"didn't\", 'doesn', \"doesn't\", 'hadn', \"hadn't\", 'hasn', \"hasn't\", 'haven', \"haven't\", 'isn', \"isn't\", 'ma', 'mightn', \"mightn't\", 'mustn', \"mustn't\", 'needn', \"needn't\", 'shan', \"shan't\", 'shouldn', \"shouldn't\", 'wasn', \"wasn't\", 'weren', \"weren't\", 'won', \"won't\", 'wouldn', \"wouldn't\"]\n"
     ]
    }
   ],
   "source": [
    "print('불용어 개수 :', len(stopwords.words('english') ))\n",
    "print(stopwords.words('english'))"
   ]
  },
  {
   "cell_type": "code",
   "execution_count": 9,
   "id": "7c2841f2",
   "metadata": {},
   "outputs": [],
   "source": [
    "# 데이터 전처리 함수\n",
    "def preprocess_sentence(sentence, remove_stopwords=True):\n",
    "    sentence = sentence.lower() # 텍스트 소문자화\n",
    "    sentence = BeautifulSoup(sentence, \"lxml\").text # <br />, <a href = ...> 등의 html 태그 제거\n",
    "    sentence = re.sub(r'\\([^)]*\\)', '', sentence) # 괄호로 닫힌 문자열 (...) 제거 Ex) my husband (and myself!) for => my husband for\n",
    "    sentence = re.sub('\"','', sentence) # 쌍따옴표 \" 제거\n",
    "    sentence = ' '.join([contractions[t] if t in contractions else t for t in sentence.split(\" \")]) # 약어 정규화\n",
    "    sentence = re.sub(r\"'s\\b\",\"\", sentence) # 소유격 제거. Ex) roland's -> roland\n",
    "    sentence = re.sub(\"[^a-zA-Z]\", \" \", sentence) # 영어 외 문자(숫자, 특수문자 등) 공백으로 변환\n",
    "    sentence = re.sub('[m]{2,}', 'mm', sentence) # m이 3개 이상이면 2개로 변경. Ex) ummmmmmm yeah -> umm yeah\n",
    "    \n",
    "    # 불용어 제거 (text)\n",
    "    if remove_stopwords:\n",
    "        tokens = ' '.join(word for word in sentence.split() if not word in stopwords.words('english') if len(word) > 1)\n",
    "    # 불용어 미제거 (headlines)\n",
    "    else:\n",
    "        tokens = ' '.join(word for word in sentence.split() if len(word) > 1)\n",
    "    return tokens"
   ]
  },
  {
   "cell_type": "markdown",
   "id": "77d606a7",
   "metadata": {},
   "source": [
    "## 짧은 headlines는 불용어 제거를 하지 않고 text 만 제거해줍니다."
   ]
  },
  {
   "cell_type": "code",
   "execution_count": 10,
   "id": "cbb487fa",
   "metadata": {},
   "outputs": [
    {
     "name": "stdout",
     "output_type": "stream",
     "text": [
      "text 전처리 후 결과:  ['saurav kant alumnus upgrad iiit pg program machine learning artificial intelligence sr systems engineer infosys almost years work experience program upgrad degree career support helped transition data scientist tech mahindra salary hike upgrad online power learning powered lakh careers', 'kunal shah credit card bill payment platform cred gave users chance win free food swiggy one year pranav kaushik delhi techie bagged reward spending cred coins users get one cred coin per rupee bill paid used avail rewards brands like ixigo bookmyshow ubereats cult fit', 'new zealand defeated india wickets fourth odi hamilton thursday win first match five match odi series india lost international match rohit sharma captaincy consecutive victories dating back march match witnessed india getting seventh lowest total odi cricket history', 'aegon life iterm insurance plan customers enjoy tax benefits premiums paid save taxes plan provides life cover age years also customers options insure critical illnesses disability accidental death benefit rider life cover age years', 'speaking sexual harassment allegations rajkumar hirani sonam kapoor said known hirani many years true metoo movement get derailed metoo movement always believe woman case need reserve judgment added hirani accused assistant worked sanju']\n"
     ]
    }
   ],
   "source": [
    "# 전체 Text 데이터에 대한 전처리 : 10분 이상 시간이 걸릴 수 있습니다. \n",
    "clean_text = []\n",
    "\n",
    "for sentence in data['text']:\n",
    "    processed_text = preprocess_sentence(sentence, remove_stopwords=True)\n",
    "    clean_text.append(processed_text)\n",
    "\n",
    "# 전처리 후 출력\n",
    "print(\"text 전처리 후 결과: \", clean_text[:5])"
   ]
  },
  {
   "cell_type": "code",
   "execution_count": 11,
   "id": "7703b700",
   "metadata": {},
   "outputs": [
    {
     "name": "stdout",
     "output_type": "stream",
     "text": [
      "headlines 전처리 후 결과:  ['upgrad learner switches to career in ml al with salary hike', 'delhi techie wins free food from swiggy for one year on cred', 'new zealand end rohit sharma led india match winning streak', 'aegon life iterm insurance plan helps customers save tax', 'have known hirani for yrs what if metoo claims are not true sonam']\n"
     ]
    }
   ],
   "source": [
    "# 전체 headlines 데이터에 대한 전처리\n",
    "clean_headlines = []\n",
    "\n",
    "for sentence in data['headlines']:\n",
    "    processed_headlines = preprocess_sentence(sentence, remove_stopwords=False)\n",
    "    clean_headlines.append(processed_headlines)\n",
    "\n",
    "print(\"headlines 전처리 후 결과: \", clean_headlines[:5])"
   ]
  },
  {
   "cell_type": "markdown",
   "id": "4270e79f",
   "metadata": {},
   "source": [
    "## 전처리 이후 생성된 empty값 null로 변경 후 제거하기"
   ]
  },
  {
   "cell_type": "code",
   "execution_count": 12,
   "id": "6c5d6a05",
   "metadata": {},
   "outputs": [
    {
     "name": "stdout",
     "output_type": "stream",
     "text": [
      "전체 샘플수 : 98360\n"
     ]
    }
   ],
   "source": [
    "data['text'] = clean_text\n",
    "data['headlines'] = clean_headlines\n",
    "\n",
    "# 빈 값을 Null 값으로 변환\n",
    "data.replace('', np.nan, inplace=True)\n",
    "data.dropna(axis=0, inplace=True)\n",
    "print('전체 샘플수 :', (len(data)))"
   ]
  },
  {
   "cell_type": "markdown",
   "id": "91f49976",
   "metadata": {},
   "source": [
    "여기서도 null값이 발생하지 않았습니다"
   ]
  },
  {
   "cell_type": "markdown",
   "id": "2ef34495",
   "metadata": {},
   "source": [
    "## text와 headlines의 최소, 최대, 평균 길이 구하고 분포 시각화하기"
   ]
  },
  {
   "cell_type": "code",
   "execution_count": 13,
   "id": "311cd7a8",
   "metadata": {},
   "outputs": [
    {
     "name": "stdout",
     "output_type": "stream",
     "text": [
      "텍스트의 최소 길이 : 1\n",
      "텍스트의 최대 길이 : 60\n",
      "텍스트의 평균 길이 : 35.09968483123221\n",
      "헤드라인의 최소 길이 : 1\n",
      "헤드라인의 최대 길이 : 16\n",
      "헤드라인의 평균 길이 : 9.299532330215534\n"
     ]
    },
    {
     "data": {
      "image/png": "[encoded data removed]",
      "text/plain": [
       "<Figure size 432x288 with 2 Axes>"
      ]
     },
     "metadata": {
      "needs_background": "light"
     },
     "output_type": "display_data"
    },
    {
     "data": {
      "image/png": "[encoded data removed]",
      "text/plain": [
       "<Figure size 432x288 with 1 Axes>"
      ]
     },
     "metadata": {
      "needs_background": "light"
     },
     "output_type": "display_data"
    },
    {
     "data": {
      "image/png": "[encoded data removed]",
      "text/plain": [
       "<Figure size 432x288 with 1 Axes>"
      ]
     },
     "metadata": {
      "needs_background": "light"
     },
     "output_type": "display_data"
    }
   ],
   "source": [
    "# 길이 분포 출력\n",
    "text_len = [len(s.split()) for s in data['text']]\n",
    "headlines_len = [len(s.split()) for s in data['headlines']]\n",
    "\n",
    "print('텍스트의 최소 길이 : {}'.format(np.min(text_len)))\n",
    "print('텍스트의 최대 길이 : {}'.format(np.max(text_len)))\n",
    "print('텍스트의 평균 길이 : {}'.format(np.mean(text_len)))\n",
    "print('헤드라인의 최소 길이 : {}'.format(np.min(headlines_len)))\n",
    "print('헤드라인의 최대 길이 : {}'.format(np.max(headlines_len)))\n",
    "print('헤드라인의 평균 길이 : {}'.format(np.mean(headlines_len)))\n",
    "\n",
    "plt.subplot(1,2,1)\n",
    "plt.boxplot(text_len)\n",
    "plt.title('text')\n",
    "plt.subplot(1,2,2)\n",
    "plt.boxplot(headlines_len)\n",
    "plt.title('headlines')\n",
    "plt.tight_layout()\n",
    "plt.show()\n",
    "\n",
    "plt.title('text')\n",
    "plt.hist(text_len, bins = 40)\n",
    "plt.xlabel('length of samples')\n",
    "plt.ylabel('number of samples')\n",
    "plt.show()\n",
    "\n",
    "plt.title('headlines')\n",
    "plt.hist(headlines_len, bins = 40)\n",
    "plt.xlabel('length of samples')\n",
    "plt.ylabel('number of samples')\n",
    "plt.show()"
   ]
  },
  {
   "cell_type": "code",
   "execution_count": 15,
   "id": "dcdbcaf7",
   "metadata": {
    "scrolled": true
   },
   "outputs": [
    {
     "name": "stdout",
     "output_type": "stream",
     "text": [
      "전체 샘플 중 길이가 45 이하인 샘플의 비율: 0.9967771451809678\n",
      "전체 샘플 중 길이가 12 이하인 샘플의 비율: 0.9880337535583571\n"
     ]
    }
   ],
   "source": [
    "text_max_len = 45\n",
    "headlines_max_len = 12\n",
    "\n",
    "def below_threshold_len(max_len, nested_list):\n",
    "  cnt = 0\n",
    "  for s in nested_list:\n",
    "    if(len(s.split()) <= max_len):\n",
    "        cnt = cnt + 1\n",
    "  print('전체 샘플 중 길이가 %s 이하인 샘플의 비율: %s'%(max_len, (cnt / len(nested_list))))\n",
    "\n",
    "below_threshold_len(text_max_len, data['text'])\n",
    "below_threshold_len(headlines_max_len,  data['headlines'])"
   ]
  },
  {
   "cell_type": "markdown",
   "id": "b605010a",
   "metadata": {},
   "source": [
    "## 생각보다 분포도 괜찮고, 잘 모여있는 것 같아서 이 정도로만 해도 괜찮을 것 같다"
   ]
  },
  {
   "cell_type": "code",
   "execution_count": 17,
   "id": "615419f5",
   "metadata": {},
   "outputs": [
    {
     "name": "stdout",
     "output_type": "stream",
     "text": [
      "전체 샘플수 : 96871\n"
     ]
    }
   ],
   "source": [
    "# 임의의 최대 길이 설정\n",
    "text_max_len = 45  # Text의 최대 길이\n",
    "headlines_max_len = 12  # headlines의 최대 길이\n",
    "\n",
    "# Text와 headlines 컬럼의 길이를 기준으로 필터링하는 코드\n",
    "data = data[data.apply(lambda x: len(x['text'].split()) <= text_max_len and len(x['headlines'].split()) <= headlines_max_len, axis=1)]\n",
    "\n",
    "print('전체 샘플수 :', (len(data)))"
   ]
  },
  {
   "cell_type": "markdown",
   "id": "e6fd1ff1",
   "metadata": {},
   "source": [
    "### 대략 1500개 정도가 지워짐"
   ]
  },
  {
   "cell_type": "markdown",
   "id": "b43df640",
   "metadata": {},
   "source": [
    "## 시작 토큰과 종료 토큰 추가하기"
   ]
  },
  {
   "cell_type": "code",
   "execution_count": 18,
   "id": "e98f49a4",
   "metadata": {
    "scrolled": true
   },
   "outputs": [
    {
     "data": {
      "text/html": [
       "<div>\n",
       "<style scoped>\n",
       "    .dataframe tbody tr th:only-of-type {\n",
       "        vertical-align: middle;\n",
       "    }\n",
       "\n",
       "    .dataframe tbody tr th {\n",
       "        vertical-align: top;\n",
       "    }\n",
       "\n",
       "    .dataframe thead th {\n",
       "        text-align: right;\n",
       "    }\n",
       "</style>\n",
       "<table border=\"1\" class=\"dataframe\">\n",
       "  <thead>\n",
       "    <tr style=\"text-align: right;\">\n",
       "      <th></th>\n",
       "      <th>headlines</th>\n",
       "      <th>text</th>\n",
       "      <th>decoder_input</th>\n",
       "      <th>decoder_target</th>\n",
       "    </tr>\n",
       "  </thead>\n",
       "  <tbody>\n",
       "    <tr>\n",
       "      <th>0</th>\n",
       "      <td>upgrad learner switches to career in ml al wit...</td>\n",
       "      <td>saurav kant alumnus upgrad iiit pg program mac...</td>\n",
       "      <td>sostoken upgrad learner switches to career in ...</td>\n",
       "      <td>upgrad learner switches to career in ml al wit...</td>\n",
       "    </tr>\n",
       "    <tr>\n",
       "      <th>1</th>\n",
       "      <td>delhi techie wins free food from swiggy for on...</td>\n",
       "      <td>kunal shah credit card bill payment platform c...</td>\n",
       "      <td>sostoken delhi techie wins free food from swig...</td>\n",
       "      <td>delhi techie wins free food from swiggy for on...</td>\n",
       "    </tr>\n",
       "    <tr>\n",
       "      <th>2</th>\n",
       "      <td>new zealand end rohit sharma led india match w...</td>\n",
       "      <td>new zealand defeated india wickets fourth odi ...</td>\n",
       "      <td>sostoken new zealand end rohit sharma led indi...</td>\n",
       "      <td>new zealand end rohit sharma led india match w...</td>\n",
       "    </tr>\n",
       "    <tr>\n",
       "      <th>3</th>\n",
       "      <td>aegon life iterm insurance plan helps customer...</td>\n",
       "      <td>aegon life iterm insurance plan customers enjo...</td>\n",
       "      <td>sostoken aegon life iterm insurance plan helps...</td>\n",
       "      <td>aegon life iterm insurance plan helps customer...</td>\n",
       "    </tr>\n",
       "    <tr>\n",
       "      <th>5</th>\n",
       "      <td>rahat fateh ali khan denies getting notice for...</td>\n",
       "      <td>pakistani singer rahat fateh ali khan denied r...</td>\n",
       "      <td>sostoken rahat fateh ali khan denies getting n...</td>\n",
       "      <td>rahat fateh ali khan denies getting notice for...</td>\n",
       "    </tr>\n",
       "  </tbody>\n",
       "</table>\n",
       "</div>"
      ],
      "text/plain": [
       "                                           headlines  \\\n",
       "0  upgrad learner switches to career in ml al wit...   \n",
       "1  delhi techie wins free food from swiggy for on...   \n",
       "2  new zealand end rohit sharma led india match w...   \n",
       "3  aegon life iterm insurance plan helps customer...   \n",
       "5  rahat fateh ali khan denies getting notice for...   \n",
       "\n",
       "                                                text  \\\n",
       "0  saurav kant alumnus upgrad iiit pg program mac...   \n",
       "1  kunal shah credit card bill payment platform c...   \n",
       "2  new zealand defeated india wickets fourth odi ...   \n",
       "3  aegon life iterm insurance plan customers enjo...   \n",
       "5  pakistani singer rahat fateh ali khan denied r...   \n",
       "\n",
       "                                       decoder_input  \\\n",
       "0  sostoken upgrad learner switches to career in ...   \n",
       "1  sostoken delhi techie wins free food from swig...   \n",
       "2  sostoken new zealand end rohit sharma led indi...   \n",
       "3  sostoken aegon life iterm insurance plan helps...   \n",
       "5  sostoken rahat fateh ali khan denies getting n...   \n",
       "\n",
       "                                      decoder_target  \n",
       "0  upgrad learner switches to career in ml al wit...  \n",
       "1  delhi techie wins free food from swiggy for on...  \n",
       "2  new zealand end rohit sharma led india match w...  \n",
       "3  aegon life iterm insurance plan helps customer...  \n",
       "5  rahat fateh ali khan denies getting notice for...  "
      ]
     },
     "execution_count": 18,
     "metadata": {},
     "output_type": "execute_result"
    }
   ],
   "source": [
    "data['decoder_input'] = data['headlines'].apply(lambda x : 'sostoken '+ x)\n",
    "data['decoder_target'] = data['headlines'].apply(lambda x : x + ' eostoken')\n",
    "data.head()"
   ]
  },
  {
   "cell_type": "markdown",
   "id": "59c3fe62",
   "metadata": {},
   "source": [
    "## 인코더의 입력, 디코더의 입력과 레이블을 각각 다시 Numpy 타입으로 저장"
   ]
  },
  {
   "cell_type": "code",
   "execution_count": 19,
   "id": "a3eb3e46",
   "metadata": {},
   "outputs": [],
   "source": [
    "encoder_input = np.array(data['text']) # 인코더의 입력\n",
    "decoder_input = np.array(data['decoder_input']) # 디코더의 입력\n",
    "decoder_target = np.array(data['decoder_target']) # 디코더의 레이블"
   ]
  },
  {
   "cell_type": "markdown",
   "id": "95bc3107",
   "metadata": {},
   "source": [
    "## 훈련데이터와 테스트데이터 분리 (8:2)"
   ]
  },
  {
   "cell_type": "code",
   "execution_count": 20,
   "id": "1daee68d",
   "metadata": {},
   "outputs": [
    {
     "name": "stdout",
     "output_type": "stream",
     "text": [
      "테스트 데이터의 수 : 19374\n",
      "훈련 데이터의 개수 : 77497\n",
      "훈련 레이블의 개수 : 77497\n",
      "테스트 데이터의 개수 : 19374\n",
      "테스트 레이블의 개수 : 19374\n"
     ]
    }
   ],
   "source": [
    "# encoder_input과 크기와 형태가 같은 순서가 섞인 정수 시퀀스 만들기\n",
    "indices = np.arange(encoder_input.shape[0])\n",
    "np.random.shuffle(indices)\n",
    "\n",
    "# 데이터 셈플 순서 다시 정의하기\n",
    "encoder_input = encoder_input[indices]\n",
    "decoder_input = decoder_input[indices]\n",
    "decoder_target = decoder_target[indices]\n",
    "\n",
    "#섞인 데이터 8:2 비율로 분리하기\n",
    "n_of_val = int(len(encoder_input)*0.2)\n",
    "print('테스트 데이터의 수 :', n_of_val) #테스트 데이터 수 확인해서 몇 개인지 대략 확인\n",
    "\n",
    "#전체 데이터 양분하기 (: 표시의 위치 주의!)\n",
    "encoder_input_train = encoder_input[:-n_of_val]\n",
    "decoder_input_train = decoder_input[:-n_of_val]\n",
    "decoder_target_train = decoder_target[:-n_of_val]\n",
    "\n",
    "encoder_input_test = encoder_input[-n_of_val:]\n",
    "decoder_input_test = decoder_input[-n_of_val:]\n",
    "decoder_target_test = decoder_target[-n_of_val:]\n",
    "\n",
    "print('훈련 데이터의 개수 :', len(encoder_input_train))\n",
    "print('훈련 레이블의 개수 :', len(decoder_input_train))\n",
    "print('테스트 데이터의 개수 :', len(encoder_input_test))\n",
    "print('테스트 레이블의 개수 :', len(decoder_input_test))"
   ]
  },
  {
   "cell_type": "markdown",
   "id": "3f47cc58",
   "metadata": {},
   "source": [
    "## 단어 집합 만들기 및 정수 인코딩"
   ]
  },
  {
   "cell_type": "code",
   "execution_count": 21,
   "id": "0bc2ad34",
   "metadata": {},
   "outputs": [
    {
     "name": "stdout",
     "output_type": "stream",
     "text": [
      "단어 집합(vocabulary)의 크기 : 69093\n",
      "등장 빈도가 6번 이하인 희귀 단어의 수: 47084\n",
      "단어 집합에서 희귀 단어를 제외시킬 경우의 단어 집합의 크기 22009\n",
      "단어 집합에서 희귀 단어의 비율: 68.14583242875545\n",
      "전체 등장 빈도에서 희귀 단어 등장 빈도 비율: 3.5153414744958678\n"
     ]
    }
   ],
   "source": [
    "src_tokenizer = Tokenizer() # 토크나이저 정의\n",
    "src_tokenizer.fit_on_texts(encoder_input_train) # 입력된 데이터로부터 단어 집합 생성\n",
    "\n",
    "threshold = 7\n",
    "total_cnt = len(src_tokenizer.word_index) # 단어의 수\n",
    "rare_cnt = 0 # 등장 빈도수가 threshold보다 작은 단어의 개수를 카운트\n",
    "total_freq = 0 # 훈련 데이터의 전체 단어 빈도수 총 합\n",
    "rare_freq = 0 # 등장 빈도수가 threshold보다 작은 단어의 등장 빈도수의 총 합\n",
    "\n",
    "# 단어와 빈도수의 쌍(pair)을 key와 value로 받는다.\n",
    "for key, value in src_tokenizer.word_counts.items():\n",
    "    total_freq = total_freq + value\n",
    "\n",
    "    # 단어의 등장 빈도수가 threshold보다 작으면\n",
    "    if(value < threshold):\n",
    "        rare_cnt = rare_cnt + 1\n",
    "        rare_freq = rare_freq + value\n",
    "\n",
    "print('단어 집합(vocabulary)의 크기 :', total_cnt)\n",
    "print('등장 빈도가 %s번 이하인 희귀 단어의 수: %s'%(threshold - 1, rare_cnt))\n",
    "print('단어 집합에서 희귀 단어를 제외시킬 경우의 단어 집합의 크기 %s'%(total_cnt - rare_cnt))\n",
    "print(\"단어 집합에서 희귀 단어의 비율:\", (rare_cnt / total_cnt)*100)\n",
    "print(\"전체 등장 빈도에서 희귀 단어 등장 빈도 비율:\", (rare_freq / total_freq)*100)"
   ]
  },
  {
   "cell_type": "markdown",
   "id": "91cd297d",
   "metadata": {},
   "source": [
    "## 단어 집합에서 빈도가 낮은 데이터를 제외하고, 집합의 크기를 20,000으로 제한 (위 코드의 결과에서 ‘단어 집합에서 희귀 단어를 제외시킬 경우의 단어 집합의 크기’ 참고)"
   ]
  },
  {
   "cell_type": "code",
   "execution_count": 22,
   "id": "0d25928c",
   "metadata": {},
   "outputs": [],
   "source": [
    "src_vocab = 20000\n",
    "src_tokenizer = Tokenizer(num_words=src_vocab) # 단어 집합의 크기를 20,000으로 제한\n",
    "src_tokenizer.fit_on_texts(encoder_input_train) # 단어 집합 재생성"
   ]
  },
  {
   "cell_type": "markdown",
   "id": "e8dfcea6",
   "metadata": {},
   "source": [
    "## 단어 집합 기반하여 주어진 텍스트 데이터의 단어들을 모두 정수로 변환하기"
   ]
  },
  {
   "cell_type": "code",
   "execution_count": 23,
   "id": "293134a0",
   "metadata": {},
   "outputs": [
    {
     "name": "stdout",
     "output_type": "stream",
     "text": [
      "[[1980, 5175, 273, 12126, 232, 80, 3621, 903, 83, 671, 2068, 12127, 1203, 468, 1264, 439, 7503, 2234, 6897, 3878, 11149, 8458, 1264, 355, 98, 371, 3213, 779, 903, 1, 886, 1084, 126, 310, 310, 11150], [36, 2138, 210, 66, 5789, 12, 6898, 4129, 12499, 3031, 376, 17, 3093, 156, 446, 3031, 882, 156, 1482, 8, 3031, 406, 959, 473, 14688, 9962, 2032, 7299, 2591, 2138, 93], [195, 2405, 16577, 2146, 44, 28, 2218, 14, 819, 1270, 2, 4635, 1234, 3032, 3214, 3598, 491, 24, 102, 1337, 9195, 93, 132, 4635, 143, 37, 849, 1622, 9963, 2146, 1]]\n"
     ]
    }
   ],
   "source": [
    "# 텍스트 시퀀스를 정수 시퀀스로 변환\n",
    "encoder_input_train = src_tokenizer.texts_to_sequences(encoder_input_train) \n",
    "encoder_input_test = src_tokenizer.texts_to_sequences(encoder_input_test)\n",
    "\n",
    "# 잘 진행되었는지 샘플 출력\n",
    "print(encoder_input_train[:3])"
   ]
  },
  {
   "cell_type": "markdown",
   "id": "1190aa2b",
   "metadata": {},
   "source": [
    "## headlines 에도 단어 집합 생성 및 정수화 진행하기"
   ]
  },
  {
   "cell_type": "code",
   "execution_count": 24,
   "id": "372cc6ae",
   "metadata": {},
   "outputs": [],
   "source": [
    "tar_tokenizer = Tokenizer()\n",
    "tar_tokenizer.fit_on_texts(decoder_input_train)"
   ]
  },
  {
   "cell_type": "code",
   "execution_count": 25,
   "id": "b3057afa",
   "metadata": {},
   "outputs": [
    {
     "name": "stdout",
     "output_type": "stream",
     "text": [
      "단어 집합(vocabulary)의 크기 : 29907\n",
      "등장 빈도가 5번 이하인 희귀 단어의 수: 19610\n",
      "단어 집합에서 희귀 단어를 제외시킬 경우의 단어 집합의 크기 10297\n",
      "단어 집합에서 희귀 단어의 비율: 65.5699334603939\n",
      "전체 등장 빈도에서 희귀 단어 등장 빈도 비율: 4.75728827643515\n"
     ]
    }
   ],
   "source": [
    "threshold = 6\n",
    "total_cnt = len(tar_tokenizer.word_index) # 단어의 수\n",
    "rare_cnt = 0 # 등장 빈도수가 threshold보다 작은 단어의 개수를 카운트\n",
    "total_freq = 0 # 훈련 데이터의 전체 단어 빈도수 총 합\n",
    "rare_freq = 0 # 등장 빈도수가 threshold보다 작은 단어의 등장 빈도수의 총 합\n",
    "\n",
    "# 단어와 빈도수의 쌍(pair)을 key와 value로 받는다.\n",
    "for key, value in tar_tokenizer.word_counts.items():\n",
    "    total_freq = total_freq + value\n",
    "\n",
    "    # 단어의 등장 빈도수가 threshold보다 작으면\n",
    "    if(value < threshold):\n",
    "        rare_cnt = rare_cnt + 1\n",
    "        rare_freq = rare_freq + value\n",
    "\n",
    "print('단어 집합(vocabulary)의 크기 :', total_cnt)\n",
    "print('등장 빈도가 %s번 이하인 희귀 단어의 수: %s'%(threshold - 1, rare_cnt))\n",
    "print('단어 집합에서 희귀 단어를 제외시킬 경우의 단어 집합의 크기 %s'%(total_cnt - rare_cnt))\n",
    "print(\"단어 집합에서 희귀 단어의 비율:\", (rare_cnt / total_cnt)*100)\n",
    "print(\"전체 등장 빈도에서 희귀 단어 등장 빈도 비율:\", (rare_freq / total_freq)*100)"
   ]
  },
  {
   "cell_type": "code",
   "execution_count": 26,
   "id": "8c3b5ee3",
   "metadata": {},
   "outputs": [
    {
     "name": "stdout",
     "output_type": "stream",
     "text": [
      "input\n",
      "input  [[1, 433, 1714, 83, 470, 1325, 1014, 175, 1945, 1622], [1, 69, 232, 3455, 3455, 14, 1715, 551], [1, 3970, 808, 52, 6442, 2288, 6, 237, 349], [1, 6443, 20, 40, 425, 19, 10, 5, 80, 5591], [1, 58, 808, 2651, 6, 226, 293, 3, 5592, 4483]]\n",
      "target\n",
      "decoder  [[433, 1714, 83, 470, 1325, 1014, 175, 1945, 1622, 2], [69, 232, 3455, 3455, 14, 1715, 551, 2], [3970, 808, 52, 6442, 2288, 6, 237, 349, 2], [6443, 20, 40, 425, 19, 10, 5, 80, 5591, 2], [58, 808, 2651, 6, 226, 293, 3, 5592, 4483, 2]]\n"
     ]
    }
   ],
   "source": [
    "tar_vocab = 10000\n",
    "tar_tokenizer = Tokenizer(num_words=tar_vocab) \n",
    "tar_tokenizer.fit_on_texts(decoder_input_train)\n",
    "tar_tokenizer.fit_on_texts(decoder_target_train)\n",
    "\n",
    "# 텍스트 시퀀스를 정수 시퀀스로 변환\n",
    "decoder_input_train = tar_tokenizer.texts_to_sequences(decoder_input_train) \n",
    "decoder_target_train = tar_tokenizer.texts_to_sequences(decoder_target_train)\n",
    "decoder_input_test = tar_tokenizer.texts_to_sequences(decoder_input_test)\n",
    "decoder_target_test = tar_tokenizer.texts_to_sequences(decoder_target_test)\n",
    "\n",
    "# 잘 변환되었는지 확인\n",
    "print('input')\n",
    "print('input ',decoder_input_train[:5])\n",
    "print('target')\n",
    "print('decoder ',decoder_target_train[:5])"
   ]
  },
  {
   "cell_type": "markdown",
   "id": "0ab90e8e",
   "metadata": {},
   "source": [
    "## 패딩 이전에 위의 처리로 생성된 빈 샘플 제거하기"
   ]
  },
  {
   "cell_type": "code",
   "execution_count": 27,
   "id": "b3cd2e4a",
   "metadata": {},
   "outputs": [
    {
     "name": "stdout",
     "output_type": "stream",
     "text": [
      "삭제할 훈련 데이터의 개수 : 0\n",
      "삭제할 테스트 데이터의 개수 : 0\n",
      "훈련 데이터의 개수 : 77497\n",
      "훈련 레이블의 개수 : 77497\n",
      "테스트 데이터의 개수 : 19374\n",
      "테스트 레이블의 개수 : 19374\n"
     ]
    }
   ],
   "source": [
    "drop_train = [index for index, sentence in enumerate(decoder_input_train) if len(sentence) == 1]\n",
    "drop_test = [index for index, sentence in enumerate(decoder_input_test) if len(sentence) == 1]\n",
    "\n",
    "print('삭제할 훈련 데이터의 개수 :', len(drop_train))\n",
    "print('삭제할 테스트 데이터의 개수 :', len(drop_test))\n",
    "\n",
    "encoder_input_train = [sentence for index, sentence in enumerate(encoder_input_train) if index not in drop_train]\n",
    "decoder_input_train = [sentence for index, sentence in enumerate(decoder_input_train) if index not in drop_train]\n",
    "decoder_target_train = [sentence for index, sentence in enumerate(decoder_target_train) if index not in drop_train]\n",
    "\n",
    "encoder_input_test = [sentence for index, sentence in enumerate(encoder_input_test) if index not in drop_test]\n",
    "decoder_input_test = [sentence for index, sentence in enumerate(decoder_input_test) if index not in drop_test]\n",
    "decoder_target_test = [sentence for index, sentence in enumerate(decoder_target_test) if index not in drop_test]\n",
    "\n",
    "print('훈련 데이터의 개수 :', len(encoder_input_train))\n",
    "print('훈련 레이블의 개수 :', len(decoder_input_train))\n",
    "print('테스트 데이터의 개수 :', len(encoder_input_test))\n",
    "print('테스트 레이블의 개수 :', len(decoder_input_test))"
   ]
  },
  {
   "cell_type": "markdown",
   "id": "19184749",
   "metadata": {},
   "source": [
    "## 패딩하기"
   ]
  },
  {
   "cell_type": "code",
   "execution_count": 29,
   "id": "5d081ca5",
   "metadata": {},
   "outputs": [],
   "source": [
    "encoder_input_train = pad_sequences(encoder_input_train, maxlen=text_max_len, padding='post')\n",
    "encoder_input_test = pad_sequences(encoder_input_test, maxlen=text_max_len, padding='post')\n",
    "decoder_input_train = pad_sequences(decoder_input_train, maxlen=headlines_max_len, padding='post')\n",
    "decoder_target_train = pad_sequences(decoder_target_train, maxlen=headlines_max_len, padding='post')\n",
    "decoder_input_test = pad_sequences(decoder_input_test, maxlen=headlines_max_len, padding='post')\n",
    "decoder_target_test = pad_sequences(decoder_target_test, maxlen=headlines_max_len, padding='post')"
   ]
  },
  {
   "cell_type": "markdown",
   "id": "802c8e8d",
   "metadata": {},
   "source": [
    "# Step 3. 어텐션 메커니즘 사용하기"
   ]
  },
  {
   "cell_type": "markdown",
   "id": "f3405a15",
   "metadata": {},
   "source": [
    "## 모델 설계하기"
   ]
  },
  {
   "cell_type": "code",
   "execution_count": 30,
   "id": "e6063d49",
   "metadata": {},
   "outputs": [],
   "source": [
    "from tensorflow.keras.layers import Input, LSTM, Embedding, Dense, Concatenate, TimeDistributed\n",
    "from tensorflow.keras.models import Model\n",
    "from tensorflow.keras.callbacks import EarlyStopping, ModelCheckpoint\n",
    "\n",
    "\n",
    "# 인코더 설계 시작\n",
    "embedding_dim = 128\n",
    "hidden_size = 256\n",
    "\n",
    "# 인코더\n",
    "encoder_inputs = Input(shape=(text_max_len,))\n",
    "\n",
    "# 인코더의 임베딩 층\n",
    "enc_emb = Embedding(src_vocab, embedding_dim)(encoder_inputs)\n",
    "\n",
    "# 인코더의 LSTM 1\n",
    "# encoder_lstm1 = LSTM(hidden_size, return_sequences=True, return_state=True ,dropout = 0.4, recurrent_dropout = 0.4)\n",
    "encoder_lstm1 = LSTM(hidden_size, return_sequences=True, return_state=True ,dropout = 0.4)\n",
    "encoder_output1, state_h1, state_c1 = encoder_lstm1(enc_emb)\n",
    "\n",
    "# 인코더의 LSTM 2\n",
    "encoder_lstm2 = LSTM(hidden_size, return_sequences=True, return_state=True, dropout=0.4)\n",
    "encoder_output2, state_h2, state_c2 = encoder_lstm2(encoder_output1)\n",
    "\n",
    "# 인코더의 LSTM 3\n",
    "encoder_lstm3 = LSTM(hidden_size, return_sequences=True, return_state=True, dropout=0.4)\n",
    "encoder_outputs, state_h, state_c = encoder_lstm3(encoder_output2)"
   ]
  },
  {
   "cell_type": "markdown",
   "id": "3b079ca9",
   "metadata": {},
   "source": [
    "## 디코더 설계하기"
   ]
  },
  {
   "cell_type": "code",
   "execution_count": 31,
   "id": "de33259e",
   "metadata": {},
   "outputs": [],
   "source": [
    "# 디코더 설계\n",
    "decoder_inputs = Input(shape=(None,))\n",
    "\n",
    "# 디코더의 임베딩 층\n",
    "dec_emb_layer = Embedding(tar_vocab, embedding_dim)\n",
    "dec_emb = dec_emb_layer(decoder_inputs)\n",
    "\n",
    "# 디코더의 LSTM\n",
    "# decoder_lstm = LSTM(hidden_size, return_sequences=True, return_state=True, dropout=0.4, recurrent_dropout=0.2)\n",
    "decoder_lstm = LSTM(hidden_size, return_sequences=True, return_state=True, dropout=0.4)\n",
    "decoder_outputs, _, _ = decoder_lstm(dec_emb, initial_state=[state_h, state_c])"
   ]
  },
  {
   "cell_type": "markdown",
   "id": "973942bd",
   "metadata": {},
   "source": [
    "## 디코더 출력층 설계하기"
   ]
  },
  {
   "cell_type": "code",
   "execution_count": 32,
   "id": "0c07dd3d",
   "metadata": {},
   "outputs": [
    {
     "name": "stdout",
     "output_type": "stream",
     "text": [
      "Model: \"model\"\n",
      "__________________________________________________________________________________________________\n",
      "Layer (type)                    Output Shape         Param #     Connected to                     \n",
      "==================================================================================================\n",
      "input_1 (InputLayer)            [(None, 45)]         0                                            \n",
      "__________________________________________________________________________________________________\n",
      "embedding (Embedding)           (None, 45, 128)      2560000     input_1[0][0]                    \n",
      "__________________________________________________________________________________________________\n",
      "lstm (LSTM)                     [(None, 45, 256), (N 394240      embedding[0][0]                  \n",
      "__________________________________________________________________________________________________\n",
      "input_2 (InputLayer)            [(None, None)]       0                                            \n",
      "__________________________________________________________________________________________________\n",
      "lstm_1 (LSTM)                   [(None, 45, 256), (N 525312      lstm[0][0]                       \n",
      "__________________________________________________________________________________________________\n",
      "embedding_1 (Embedding)         (None, None, 128)    1280000     input_2[0][0]                    \n",
      "__________________________________________________________________________________________________\n",
      "lstm_2 (LSTM)                   [(None, 45, 256), (N 525312      lstm_1[0][0]                     \n",
      "__________________________________________________________________________________________________\n",
      "lstm_3 (LSTM)                   [(None, None, 256),  394240      embedding_1[0][0]                \n",
      "                                                                 lstm_2[0][1]                     \n",
      "                                                                 lstm_2[0][2]                     \n",
      "__________________________________________________________________________________________________\n",
      "dense (Dense)                   (None, None, 10000)  2570000     lstm_3[0][0]                     \n",
      "==================================================================================================\n",
      "Total params: 8,249,104\n",
      "Trainable params: 8,249,104\n",
      "Non-trainable params: 0\n",
      "__________________________________________________________________________________________________\n"
     ]
    }
   ],
   "source": [
    "# 디코더의 출력층\n",
    "decoder_softmax_layer = Dense(tar_vocab, activation='softmax')\n",
    "decoder_softmax_outputs = decoder_softmax_layer(decoder_outputs) \n",
    "\n",
    "# 모델 정의\n",
    "model = Model([encoder_inputs, decoder_inputs], decoder_softmax_outputs)\n",
    "model.summary()"
   ]
  },
  {
   "cell_type": "markdown",
   "id": "1e77d47d",
   "metadata": {},
   "source": [
    "## 어텐션 층 만들고 디코더 출력층 수정하기"
   ]
  },
  {
   "cell_type": "code",
   "execution_count": 33,
   "id": "9e9614e0",
   "metadata": {},
   "outputs": [
    {
     "name": "stdout",
     "output_type": "stream",
     "text": [
      "Model: \"model_1\"\n",
      "__________________________________________________________________________________________________\n",
      "Layer (type)                    Output Shape         Param #     Connected to                     \n",
      "==================================================================================================\n",
      "input_1 (InputLayer)            [(None, 45)]         0                                            \n",
      "__________________________________________________________________________________________________\n",
      "embedding (Embedding)           (None, 45, 128)      2560000     input_1[0][0]                    \n",
      "__________________________________________________________________________________________________\n",
      "lstm (LSTM)                     [(None, 45, 256), (N 394240      embedding[0][0]                  \n",
      "__________________________________________________________________________________________________\n",
      "input_2 (InputLayer)            [(None, None)]       0                                            \n",
      "__________________________________________________________________________________________________\n",
      "lstm_1 (LSTM)                   [(None, 45, 256), (N 525312      lstm[0][0]                       \n",
      "__________________________________________________________________________________________________\n",
      "embedding_1 (Embedding)         (None, None, 128)    1280000     input_2[0][0]                    \n",
      "__________________________________________________________________________________________________\n",
      "lstm_2 (LSTM)                   [(None, 45, 256), (N 525312      lstm_1[0][0]                     \n",
      "__________________________________________________________________________________________________\n",
      "lstm_3 (LSTM)                   [(None, None, 256),  394240      embedding_1[0][0]                \n",
      "                                                                 lstm_2[0][1]                     \n",
      "                                                                 lstm_2[0][2]                     \n",
      "__________________________________________________________________________________________________\n",
      "attention_layer (AdditiveAttent (None, None, 256)    256         lstm_3[0][0]                     \n",
      "                                                                 lstm_2[0][0]                     \n",
      "__________________________________________________________________________________________________\n",
      "concat_layer (Concatenate)      (None, None, 512)    0           lstm_3[0][0]                     \n",
      "                                                                 attention_layer[0][0]            \n",
      "__________________________________________________________________________________________________\n",
      "dense_1 (Dense)                 (None, None, 10000)  5130000     concat_layer[0][0]               \n",
      "==================================================================================================\n",
      "Total params: 10,809,360\n",
      "Trainable params: 10,809,360\n",
      "Non-trainable params: 0\n",
      "__________________________________________________________________________________________________\n"
     ]
    }
   ],
   "source": [
    "from tensorflow.keras.layers import AdditiveAttention\n",
    "\n",
    "# 어텐션 층(어텐션 함수)\n",
    "attn_layer = AdditiveAttention(name='attention_layer')\n",
    "\n",
    "# 인코더와 디코더의 모든 time step의 hidden state를 어텐션 층에 전달하고 결과를 리턴\n",
    "attn_out = attn_layer([decoder_outputs, encoder_outputs])\n",
    "\n",
    "\n",
    "# 어텐션의 결과와 디코더의 hidden state들을 연결\n",
    "decoder_concat_input = Concatenate(axis=-1, name='concat_layer')([decoder_outputs, attn_out])\n",
    "\n",
    "# 디코더의 출력층\n",
    "decoder_softmax_layer = Dense(tar_vocab, activation='softmax')\n",
    "decoder_softmax_outputs = decoder_softmax_layer(decoder_concat_input)\n",
    "\n",
    "# 모델 정의\n",
    "model = Model([encoder_inputs, decoder_inputs], decoder_softmax_outputs)\n",
    "model.summary()"
   ]
  },
  {
   "cell_type": "markdown",
   "id": "2c32f951",
   "metadata": {},
   "source": [
    "## 모델 훈련하기"
   ]
  },
  {
   "cell_type": "code",
   "execution_count": 34,
   "id": "11875b67",
   "metadata": {
    "scrolled": true
   },
   "outputs": [
    {
     "name": "stdout",
     "output_type": "stream",
     "text": [
      "Epoch 1/50\n",
      "303/303 [==============================] - 37s 98ms/step - loss: 5.6234 - val_loss: 5.2042\n",
      "Epoch 2/50\n",
      "303/303 [==============================] - 29s 95ms/step - loss: 5.0388 - val_loss: 4.8244\n",
      "Epoch 3/50\n",
      "303/303 [==============================] - 29s 96ms/step - loss: 4.6944 - val_loss: 4.5702\n",
      "Epoch 4/50\n",
      "303/303 [==============================] - 30s 98ms/step - loss: 4.4338 - val_loss: 4.3831\n",
      "Epoch 5/50\n",
      "303/303 [==============================] - 30s 99ms/step - loss: 4.2251 - val_loss: 4.2390\n",
      "Epoch 6/50\n",
      "303/303 [==============================] - 31s 101ms/step - loss: 4.0569 - val_loss: 4.1299\n",
      "Epoch 7/50\n",
      "303/303 [==============================] - 32s 104ms/step - loss: 3.9107 - val_loss: 4.0452\n",
      "Epoch 8/50\n",
      "303/303 [==============================] - 31s 103ms/step - loss: 3.7850 - val_loss: 3.9760\n",
      "Epoch 9/50\n",
      "303/303 [==============================] - 31s 103ms/step - loss: 3.6734 - val_loss: 3.9208\n",
      "Epoch 10/50\n",
      "303/303 [==============================] - 31s 104ms/step - loss: 3.5721 - val_loss: 3.8752\n",
      "Epoch 11/50\n",
      "303/303 [==============================] - 31s 103ms/step - loss: 3.4824 - val_loss: 3.8368\n",
      "Epoch 12/50\n",
      "303/303 [==============================] - 31s 103ms/step - loss: 3.4024 - val_loss: 3.8063\n",
      "Epoch 13/50\n",
      "303/303 [==============================] - 31s 104ms/step - loss: 3.3274 - val_loss: 3.7798\n",
      "Epoch 14/50\n",
      "303/303 [==============================] - 31s 103ms/step - loss: 3.2599 - val_loss: 3.7563\n",
      "Epoch 15/50\n",
      "303/303 [==============================] - 31s 104ms/step - loss: 3.1957 - val_loss: 3.7363\n",
      "Epoch 16/50\n",
      "303/303 [==============================] - 31s 103ms/step - loss: 3.1376 - val_loss: 3.7216\n",
      "Epoch 17/50\n",
      "303/303 [==============================] - 31s 103ms/step - loss: 3.0823 - val_loss: 3.7172\n",
      "Epoch 18/50\n",
      "303/303 [==============================] - 31s 104ms/step - loss: 3.0296 - val_loss: 3.7063\n",
      "Epoch 19/50\n",
      "303/303 [==============================] - 31s 104ms/step - loss: 2.9806 - val_loss: 3.6924\n",
      "Epoch 20/50\n",
      "303/303 [==============================] - 31s 104ms/step - loss: 2.9329 - val_loss: 3.6871\n",
      "Epoch 21/50\n",
      "303/303 [==============================] - 31s 104ms/step - loss: 2.8877 - val_loss: 3.6881\n",
      "Epoch 22/50\n",
      "303/303 [==============================] - 31s 104ms/step - loss: 2.8490 - val_loss: 3.6781\n",
      "Epoch 23/50\n",
      "303/303 [==============================] - 31s 103ms/step - loss: 2.8118 - val_loss: 3.6767\n",
      "Epoch 24/50\n",
      "303/303 [==============================] - 31s 103ms/step - loss: 2.7750 - val_loss: 3.6703\n",
      "Epoch 25/50\n",
      "303/303 [==============================] - 31s 104ms/step - loss: 2.7396 - val_loss: 3.6758\n",
      "Epoch 26/50\n",
      "303/303 [==============================] - 31s 104ms/step - loss: 2.7071 - val_loss: 3.6710\n",
      "Epoch 00026: early stopping\n"
     ]
    }
   ],
   "source": [
    "model.compile(optimizer='rmsprop', loss='sparse_categorical_crossentropy')\n",
    "es = EarlyStopping(monitor='val_loss', patience=2, verbose=1)\n",
    "history = model.fit(x=[encoder_input_train, decoder_input_train], y=decoder_target_train, \\\n",
    "          validation_data=([encoder_input_test, decoder_input_test], decoder_target_test), \\\n",
    "          batch_size=256, callbacks=[es], epochs=50)"
   ]
  },
  {
   "cell_type": "markdown",
   "id": "ab9123ca",
   "metadata": {},
   "source": [
    "## 훈련 데이터 결과 시각화"
   ]
  },
  {
   "cell_type": "code",
   "execution_count": 35,
   "id": "0e8b4df3",
   "metadata": {},
   "outputs": [
    {
     "data": {
      "image/png": "[encoded data removed]",
      "text/plain": [
       "<Figure size 432x288 with 1 Axes>"
      ]
     },
     "metadata": {
      "needs_background": "light"
     },
     "output_type": "display_data"
    }
   ],
   "source": [
    "plt.plot(history.history['loss'], label='train')\n",
    "plt.plot(history.history['val_loss'], label='test')\n",
    "plt.legend()\n",
    "plt.show()"
   ]
  },
  {
   "cell_type": "markdown",
   "id": "16f77854",
   "metadata": {},
   "source": [
    "## 인퍼런스 모델 구현하기 이전 3개의 사전 정의하기"
   ]
  },
  {
   "cell_type": "code",
   "execution_count": 36,
   "id": "d1bc5041",
   "metadata": {},
   "outputs": [],
   "source": [
    "src_index_to_word = src_tokenizer.index_word # 원문 단어 집합에서 정수 -> 단어를 얻음\n",
    "tar_word_to_index = tar_tokenizer.word_index # 요약 단어 집합에서 단어 -> 정수를 얻음\n",
    "tar_index_to_word = tar_tokenizer.index_word # 요약 단어 집합에서 정수 -> 단어를 얻음"
   ]
  },
  {
   "cell_type": "markdown",
   "id": "9757062a",
   "metadata": {},
   "source": [
    "## 인코더와 디코더 모델 분리해서 설계하기"
   ]
  },
  {
   "cell_type": "code",
   "execution_count": 37,
   "id": "6809b9a5",
   "metadata": {},
   "outputs": [],
   "source": [
    "# 인코더 설계\n",
    "encoder_model = Model(inputs=encoder_inputs, outputs=[encoder_outputs, state_h, state_c])\n",
    "\n",
    "# 이전 시점의 상태들을 저장하는 텐서\n",
    "decoder_state_input_h = Input(shape=(hidden_size,))\n",
    "decoder_state_input_c = Input(shape=(hidden_size,))\n",
    "\n",
    "dec_emb2 = dec_emb_layer(decoder_inputs)\n",
    "\n",
    "# 문장의 다음 단어를 예측하기 위해서 초기 상태(initial_state)를 이전 시점의 상태로 사용. 이는 뒤의 함수 decode_sequence()에 구현\n",
    "# 훈련 과정에서와 달리 LSTM의 리턴하는 은닉 상태와 셀 상태인 state_h와 state_c를 버리지 않음.\n",
    "decoder_outputs2, state_h2, state_c2 = decoder_lstm(dec_emb2, initial_state=[decoder_state_input_h, decoder_state_input_c])"
   ]
  },
  {
   "cell_type": "markdown",
   "id": "a837cc0c",
   "metadata": {},
   "source": [
    "## 어텐션 메커니즘을 사용하는 출력층 설계하기"
   ]
  },
  {
   "cell_type": "code",
   "execution_count": 38,
   "id": "133f2bf0",
   "metadata": {},
   "outputs": [],
   "source": [
    "# 어텐션 함수\n",
    "decoder_hidden_state_input = Input(shape=(text_max_len, hidden_size))\n",
    "attn_out_inf = attn_layer([decoder_outputs2, decoder_hidden_state_input])\n",
    "decoder_inf_concat = Concatenate(axis=-1, name='concat')([decoder_outputs2, attn_out_inf])\n",
    "\n",
    "# 디코더의 출력층\n",
    "decoder_outputs2 = decoder_softmax_layer(decoder_inf_concat) \n",
    "\n",
    "# 최종 디코더 모델\n",
    "decoder_model = Model(\n",
    "    [decoder_inputs] + [decoder_hidden_state_input,decoder_state_input_h, decoder_state_input_c],\n",
    "    [decoder_outputs2] + [state_h2, state_c2])"
   ]
  },
  {
   "cell_type": "markdown",
   "id": "dea26f00",
   "metadata": {},
   "source": [
    "## 인퍼런스 단계에서 단어 시퀀스를 완성하는 함수 만들기"
   ]
  },
  {
   "cell_type": "code",
   "execution_count": 39,
   "id": "4cd33615",
   "metadata": {},
   "outputs": [],
   "source": [
    "def decode_sequence(input_seq):\n",
    "    # 입력으로부터 인코더의 상태를 얻음\n",
    "    e_out, e_h, e_c = encoder_model.predict(input_seq)\n",
    "\n",
    "     # <SOS>에 해당하는 토큰 생성\n",
    "    target_seq = np.zeros((1,1))\n",
    "    target_seq[0, 0] = tar_word_to_index['sostoken']\n",
    "\n",
    "    stop_condition = False\n",
    "    decoded_sentence = ''\n",
    "    while not stop_condition: # stop_condition이 True가 될 때까지 루프 반복\n",
    "\n",
    "        output_tokens, h, c = decoder_model.predict([target_seq] + [e_out, e_h, e_c])\n",
    "        sampled_token_index = np.argmax(output_tokens[0, -1, :])\n",
    "        sampled_token = tar_index_to_word[sampled_token_index]\n",
    "\n",
    "        if (sampled_token!='eostoken'):\n",
    "            decoded_sentence += ' '+sampled_token\n",
    "\n",
    "        #  <eos>에 도달하거나 최대 길이를 넘으면 중단.\n",
    "        if (sampled_token == 'eostoken'  or len(decoded_sentence.split()) >= (headlines_max_len-1)):\n",
    "            stop_condition = True\n",
    "\n",
    "        # 길이가 1인 타겟 시퀀스를 업데이트\n",
    "        target_seq = np.zeros((1,1))\n",
    "        target_seq[0, 0] = sampled_token_index\n",
    "\n",
    "        # 상태를 업데이트 합니다.\n",
    "        e_h, e_c = h, c\n",
    "\n",
    "    return decoded_sentence"
   ]
  },
  {
   "cell_type": "markdown",
   "id": "ba325c72",
   "metadata": {},
   "source": [
    "# Step 4. 실제 결과와 요약문 비교하기"
   ]
  },
  {
   "cell_type": "markdown",
   "id": "7566a2c9",
   "metadata": {},
   "source": [
    "## 결과 확인해보기"
   ]
  },
  {
   "cell_type": "code",
   "execution_count": 40,
   "id": "f90779b1",
   "metadata": {},
   "outputs": [],
   "source": [
    "# 원문의 정수 시퀀스를 텍스트 시퀀스로 변환\n",
    "def seq2text(input_seq):\n",
    "    temp=''\n",
    "    for i in input_seq:\n",
    "        if (i!=0):\n",
    "            temp = temp + src_index_to_word[i]+' '\n",
    "    return temp\n",
    "\n",
    "# 요약문의 정수 시퀀스를 텍스트 시퀀스로 변환\n",
    "def seq2summary(input_seq):\n",
    "    temp = ''\n",
    "    for i in input_seq:\n",
    "        if (i != 0 and i != tar_word_to_index['sostoken'] and i != tar_word_to_index['eostoken']):\n",
    "            temp = temp + tar_index_to_word[i] + ' '\n",
    "    return temp.strip()"
   ]
  },
  {
   "cell_type": "code",
   "execution_count": 41,
   "id": "f4ad8699",
   "metadata": {
    "scrolled": true
   },
   "outputs": [
    {
     "name": "stdout",
     "output_type": "stream",
     "text": [
      "원문 : former england captain alastair cook said would kept mouth shut retirement test cricket england india test series levelled year old batsman said revealed news english team drinking beers otherwise would cried actually \n",
      "실제 헤드라인 : would have kept mouth shut on retirement if series was cook\n",
      "예측 헤드라인:  england will have been in england cricket england test\n",
      "\n",
      "\n",
      "원문 : apple thursday announced investing billion build new campus austin texas acre campus accommodate initial employees total capacity employees apple also invest billion data centres part five year investment aimed creating jobs us \n",
      "실제 헤드라인 : apple to build new billion campus in us texas\n",
      "예측 헤드라인:  apple to invest mn in us for billion\n",
      "\n",
      "\n",
      "원문 : cbi court tuesday rejected discharge application filed accused including lk advani uma bharti babri mosque demolition case ruled face criminal conspiracy charges leaders pleaded drop charges saying role demolition babri masjid \n",
      "실제 헤드라인 : advani uma bharti to face charges in babri case\n",
      "예측 헤드라인:  cbi chief cbi to probe into babri masjid case\n",
      "\n",
      "\n",
      "원문 : mumbai based digital lending startup raised crore funding led founder bhupinder singh private equity investors including partners co founded siddharth parekh funds raised new business platform singh reported invested around crore partners invested crore fund \n",
      "실제 헤드라인 : mumbai based fintech startup raises crore\n",
      "예측 헤드라인:  mumbai based startup raises crore\n",
      "\n",
      "\n",
      "원문 : reacting india captain virat kohli giving opener shikhar dhawan head massage dressing room third india south africa user tweeted kohli transferring skills dhawan captain users wrote kohli giving free massage people say arrogant kohli apologising dhawan run st odi \n",
      "실제 헤드라인 : what captain tweets user on kohli giving dhawan massage\n",
      "예측 헤드라인:  kohli tweets user on kohli look at the tweets user\n",
      "\n",
      "\n",
      "원문 : south korea proposed military talks north korea ease tensions latter nuclear ballistic missile programme first time president moon jae offer jae vowed achieve peace north korea comes reclusive state claimed test fired first intercontinental ballistic missile \n",
      "실제 헤드라인 : south korea seeks rare military talks with north korea\n",
      "예측 헤드라인:  north korea conducts icbm test drill\n",
      "\n",
      "\n",
      "원문 : seen failure part police far extremely helpful said varnika kundu allegedly stalked haryana bjp chief son vikas barala whether win know raised awareness win may next one may one added \n",
      "실제 헤드라인 : no failure on part of police chandigarh stalking victim\n",
      "예측 헤드라인:  bjp leader claims she was the stage with him\n",
      "\n",
      "\n",
      "원문 : according details uploaded bihar government website cm nitish kumar owns assets worth lakh son nishant kumar possesses assets worth crore four times father wealth nishant assets include ancestral land residential buildings nitish assets worth lakh addition flat delhi valued lakh \n",
      "실제 헤드라인 : bihar cm nitish kumar son four times richer than him\n",
      "예측 헤드라인:  bihar cm assets assets worth crore\n",
      "\n",
      "\n",
      "원문 : swiss known trolling apple unveiled mechanical watch concept looks similar apple watch minute second hands know time user needs sound minute whose tell time time wasting smart device displaying notifications company said \n",
      "실제 헤드라인 : watch concept with no minute second hands unveiled\n",
      "예측 헤드라인:  apple makes iphone watch for iphone\n",
      "\n",
      "\n",
      "원문 : reacting chennai super kings fast bowler lungi ngidi dismissing delhi daredevils rishabh pant monday user tweeted lungi gets pant tweets read whatever lifestyle maybe lungi always beats pant pant lungi played extremely well yesterday match must proud \n",
      "실제 헤드라인 : lungi gets the pant off tweets user as lungi dismisses pant\n",
      "예측 헤드라인:  raina is the best tweets user on pant rumours\n",
      "\n",
      "\n",
      "원문 : carbon dioxide levels atmosphere hit new record last year un world meteorological organization said thursday without rapid cuts co greenhouse gases climate change increasingly destructive impacts life secretary general said carbon dioxide levels rose pre industrial era added \n",
      "실제 헤드라인 : co levels hit new record will have impact un\n",
      "예측 헤드라인:  world record for the world largest study\n",
      "\n",
      "\n",
      "원문 : uk monday began year old tradition counting number mute owned queen elizabeth ii annual five day process called swan involves patrolling river thames capture tag release british crown owns mute open water \n",
      "실제 헤드라인 : uk begins annual counting of owned by queen\n",
      "예측 헤드라인:  uk queen elizabeth to be auctioned for\n",
      "\n",
      "\n",
      "원문 : zee group companies market capitalisation fell nearly crore friday report said promoter essel group name emerged probe linked large deposits made demonetisation zee entertainment shares fell dish tv lost probing company called deposits crore made demonetisation report said \n",
      "실제 헤드라인 : zee firms lose crore market value in day after media report\n",
      "예측 헤드라인:  crore market cap value since reports\n",
      "\n",
      "\n",
      "원문 : pnb listed bankruptcy documents filed us court three companies affiliated fraud accused nirav modi nirav us based firestar diamond inc filed bankruptcy monday along affiliates inc fantasy inc document blamed liquidity supply chain challenges bankruptcy nearly billion fraud \n",
      "실제 헤드라인 : pnb not nirav modi bankrupt us firm\n",
      "예측 헤드라인:  nirav modi moves pnb fraud accused of nirav modi\n",
      "\n",
      "\n",
      "원문 : united nations environment programme executive director erik solheim india world environment day said prime minister narendra modi global leader tackling climate change indian government really act many like banning plastic maharashtra universities made plastic free hyderabad solheim added \n",
      "실제 헤드라인 : pm modi leader in climate change un body chief\n",
      "예측 헤드라인:  india to be world economic forum pm modi\n",
      "\n",
      "\n",
      "원문 : lashkar taiba terrorist sheikh abdullah sentenced death fast track court west bengal saturday involvement mumbai blasts attacks indian army camps kashmir engineer profession fled custody tried caught security forces later \n",
      "실제 헤드라인 : mumbai blast accused sentenced to death by bengal court\n",
      "예측 헤드라인:  death toll in terror attack case in karnataka\n",
      "\n",
      "\n",
      "원문 : french foreign ministry thursday confirmed website citizens travelling abroad hacked users personal data stolen information include sensitive financial material data likely disclose destinations ministry said website set enable french citizens receive security related updates abroad \n",
      "실제 헤드라인 : french foreign ministry confirms hackers stole website data\n",
      "예측 헤드라인:  uk parliament to get data of fake accounts\n",
      "\n",
      "\n",
      "원문 : australian opener david warner took social media ask fans suggest best places visit kolkata ahead second india australia odi many fans suggested visit former india captain sourav ganguly house one writing visit dada house feel like visiting one best kingdom living king \n",
      "실제 헤드라인 : fans suggest warner to visit ganguly house in kolkata\n",
      "예측 헤드라인:  warner posts video of india getting married to india\n",
      "\n",
      "\n",
      "원문 : year old man reportedly unable bear excessive pain due head injury committed suicide jumping front train bengaluru deceased suffered skull fracture three years ago depressed due pain doctors ruled surgery pain would able sustain \n",
      "실제 헤드라인 : unable to bear pain luru man jumps in front of train\n",
      "예측 헤드라인:  man dies after being jumps off for hrs in delhi\n",
      "\n",
      "\n",
      "원문 : according reports actors anil kapoor madhuri dixit approached star total dhamaal third instalment dhamaal film series directed indra kumar film also star ajay devgn previous films starred sanjay dutt arshad warsi riteish deshmukh jaaved jaaferi ashish \n",
      "실제 헤드라인 : anil madhuri approached to star in total reports\n",
      "예측 헤드라인:  kareena to star in upcoming film reports\n",
      "\n",
      "\n",
      "원문 : reacting india muslim personal law board statement misuse triple talaq face social boycott lyricist javed akhtar questioned meaning misuse triple talaq tweeted tomorrow may hear misuse molestation misuse rape misuse wife beating javed called aimplb decision hoax \n",
      "실제 헤드라인 : javed slams muslim law board triple talaq misuse remark\n",
      "예측 헤드라인:  can triple talaq issue be linked to sc\n",
      "\n",
      "\n",
      "원문 : student delhi university slapped physically assaulted professor awarded low marks student also reportedly kicked professor car front college principal rp professor left haryana following incident filing fir student \n",
      "실제 헤드라인 : student slaps professor after scoring low marks\n",
      "예측 헤드라인:  student who got yr old abused by du students\n",
      "\n",
      "\n",
      "원문 : real madrid captain sergio ramos holds joint record red cards received la liga history handed th red side victory la sunday year old spanish defender shares record former barcelona sevilla defender pablo former real defender \n",
      "실제 헤드라인 : equals all time la liga record of red cards\n",
      "예측 헤드라인:  ronaldo sets record for most liga in la liga\n",
      "\n",
      "\n",
      "원문 : supreme court restoring conspiracy charges bjp leaders lk advani uma bharti others excluded party leader kalyan singh trial since kalyan singh enjoys constitutional immunity rajasthan governor tried hold office apex court stated meanwhile congress demanded kalyan singh resignation \n",
      "실제 헤드라인 : raj governor kalyan singh excluded from babri masjid trial\n",
      "예측 헤드라인:  sharad yadav to be held for anti party activities\n",
      "\n",
      "\n",
      "원문 : responding complaints billion flipkart walmart deal minister commerce industry suresh prabhu said making value judgement adding violations looked agencies mandated said job enforcement directorate rbi look complaints deal \n",
      "실제 헤드라인 : will not make value on flipkart walmart deal prabhu\n",
      "예측 헤드라인:  flipkart is not flipkart walmart deal in flipkart flipkart\n",
      "\n",
      "\n",
      "원문 : walt disney company ceo bob iger received million compensation fiscal fiscal iger received remuneration million fiscal iger base salary remained steady million non equity compensation fell million million \n",
      "실제 헤드라인 : disney ceo bob pay fell to million in\n",
      "예측 헤드라인:  netflix ceo pay rises to crore\n",
      "\n",
      "\n",
      "원문 : uk national allegedly sexually molested two bike borne men rajasthan jodhpur thursday police said woman molested returning hostel two men motorcycle grabbed incident shocked police tracking culprits using cctv footage victim said \n",
      "실제 헤드라인 : uk national molested by bike borne men in rajasthan\n",
      "예측 헤드라인:  female student accused of sexually assaulting police\n",
      "\n",
      "\n",
      "원문 : series suicides maharashtra secretariat building state government installed safety net building second floor prevent incidents future four suicide attempts around secretariat building since january resulting death three meanwhile opposition dubbed building suicide point \n",
      "실제 헤드라인 : maha secretariat gets safety net after multiple suicides\n",
      "예측 헤드라인:  maha govt to maha forest park in maha\n",
      "\n",
      "\n",
      "원문 : england based airline plane passengers four crew members descended feet seconds january pilot selected wrong autopilot setting shortly take government inquiry revealed glasgow flight become visual ground staff said cockpit alarms year old pilot disconnected autopilot feet altitude \n",
      "실제 헤드라인 : uk plane with people fell to ft from ground over pilot error\n",
      "예측 헤드라인:  flight makes emergency landing mid air\n",
      "\n",
      "\n",
      "원문 : us hedge fund manager roy said accept bitcoin six floor square foot mansion new york listed nearly million big bitcoin really want added mansion ballroom foot high \n",
      "실제 헤드라인 : will accept bitcoin for cr mansion us hedge fund manager\n",
      "예측 헤드라인:  billionaire buys billionaire for crore\n",
      "\n",
      "\n",
      "원문 : ms dhoni bhuvneshwar kumar record run eighth wicket partnership helped india win sri lanka second odi coach ravi shastri tweeted witnessed jail break kandy exactly half hour midnight ipl side chennai super kings praised dhoni tweeting even fridge warm next man msd \n",
      "실제 헤드라인 : ravi shastri calls dhoni bhuvneshwar stand\n",
      "예측 헤드라인:  dhoni record for ms dhoni highest ever test win in india\n",
      "\n",
      "\n",
      "원문 : delhi court sentenced actor yadav six months prison cheque bounce case however granted bail short period time seven cases pay fine crore per case court convicted failing repay loan crore \n",
      "실제 헤드라인 : jailed for months in cheque bounce case gets bail\n",
      "예측 헤드라인:  delhi court acquits abu salem for yrs in jail\n",
      "\n",
      "\n",
      "원문 : air india better positioned full service airline superior product competitors strive position low cost carriers chairman managing director rajiv bansal said amid attempts improve air india time performance increase market share bansal said airline plans invest technological upgradation \n",
      "실제 헤드라인 : air india better with product cmd\n",
      "예측 헤드라인:  air india is the worst business air india chairman\n",
      "\n",
      "\n",
      "원문 : barcelona forward lionel messi donated food drinks marriage charity based hometown rosario argentina messi wife antonella roccuzzo got married june also requested guests donate south american non profit organisation instead buying gifts guests attended messi wedding \n",
      "실제 헤드라인 : lionel messi donates wedding food to charity\n",
      "예측 헤드라인:  messi marries lionel messi for refusing to marry\n",
      "\n",
      "\n",
      "원문 : reserve bank india said cash vans banks cctv wireless communication gps connectivity tyres service provider must net worth crore minimum fleet specifically fabricated cash vans per guidelines cash van move without armed guards \n",
      "실제 헤드라인 : cash vans should have cctv gps wireless sets rbi\n",
      "예측 헤드라인:  rbi imposes crore on sbi phones\n",
      "\n",
      "\n",
      "원문 : qatar airways ceo akbar al baker criticised referring us airlines flight attendants said average age cabin crew years need travel crap american carriers stated adding know always served american carriers \n",
      "실제 헤드라인 : us airlines their crew qatar airways ceo\n",
      "예측 헤드라인:  qatar airways will be airlines to qatar airways ceo\n",
      "\n",
      "\n",
      "원문 : bharat year old man died heart attack seventh edition vadodara international marathon sunday resident rajkot spotted lying road distress taken hospital declared dead arrival organisers said earlier participated rajkot ahmedabad \n",
      "실제 헤드라인 : year old man dies of heart attack at vadodara marathon\n",
      "예측 헤드라인:  year old dies after being stabbed in delhi\n",
      "\n",
      "\n",
      "원문 : pm narendra modi absence lok sabha congress president rahul gandhi tweeted seems pm fled parliament open book rafale exam instead students lovely request students ask please answer questions posed added \n",
      "실제 헤드라인 : pm fled parliament to lecture lovely university students rahul\n",
      "예측 헤드라인:  pm modi is like answer rahul gandhi\n",
      "\n",
      "\n",
      "원문 : noida based government service provider raised undisclosed amount funding angel round led tata trust social alpha investors like google india managing director rajan also participated round founded amit shukla saas startup aims provide easy access schemes services government \n",
      "실제 헤드라인 : service provider backed by tata trust others\n",
      "예측 헤드라인:  online startup gets funding from others\n",
      "\n",
      "\n",
      "원문 : researchers recently reported discovery first european cave fish first sighted cave diver germany strange looking live caught research purposes fish shows cave like including small inner curved eyes skin long like organs heads larger living closer surface \n",
      "실제 헤드라인 : researchers announce discovery of europe first cave fish\n",
      "예측 헤드라인:  fish found in st ever human species study\n",
      "\n",
      "\n",
      "원문 : least people killed struck lightning andhra pradesh west bengal telangana sunday officials said victims include three farmers killed visited fields telangana check crop four children killed lightning went collect mangoes west bengal howrah \n",
      "실제 헤드라인 : lightning kills in andhra telangana west bengal\n",
      "예측 헤드라인:  killed as bus overturns in andhra pradesh\n",
      "\n",
      "\n",
      "원문 : praising co actor nawazuddin siddiqui sanya malhotra said used come set would leave back home huge thing work nawaz sir favourite actor added sanya seen nawazuddin upcoming film photograph \n",
      "실제 헤드라인 : nawazuddin never carried his to the set sanya\n",
      "예측 헤드라인:  was told to work with my work nawazuddin on nawazuddin\n",
      "\n",
      "\n",
      "원문 : home minister rajnath singh said working towards providing crore monetary relief families central armed forces personnel killed duty four day visit jammu kashmir singh said government considering helicopter services crpf personnel serving jammu kashmir facilitate movement troops \n",
      "실제 헤드라인 : aim to provide cr for killed on duty rajnath\n",
      "예측 헤드라인:  rajnath singh to give crore to kin of martyred martyrs\n",
      "\n",
      "\n",
      "원문 : model bella hadid note twitter wrote feel sorry badly reference fyre festival hadid along celebrities like kendall jenner previously promoted endorsed luxury festival several guests left stranded without food forced stay disaster relief tents festival bahamas got cancelled \n",
      "실제 헤드라인 : feel so sorry and bella hadid on festival\n",
      "예측 헤드라인:  gigi hadid apologises for using gigi hadid in assam\n",
      "\n",
      "\n",
      "원문 : comedian kapil sharma ex manager ex girlfriend preeti simoes reacting abusive tweets deleted said think suicidal scared added think needs family take care put hands experts clearly right senses \n",
      "실제 헤드라인 : kapil is suicidal am scared for him ex girlfriend\n",
      "예측 헤드라인:  kapil apologises for years of kapil sharma ex girlfriend\n",
      "\n",
      "\n",
      "원문 : central government friday extended housing scheme subsidy home loans middle income group march credit linked subsidy scheme pradhan mantri awas yojana earlier made applicable till december prime minister finance ministry intends target mig people scheme \n",
      "실제 헤드라인 : govt middle class housing scheme subsidy extended till\n",
      "예측 헤드라인:  govt approves lakh for lakh in up\n",
      "\n",
      "\n",
      "원문 : according reports phone friend kaun banega crorepati replaced video friend show upcoming ninth season contestants also reportedly option get partner sets instead using audience poll prize money also said higher last season crore \n",
      "실제 헤드라인 : video friend to replace phone friend in kbc report\n",
      "예측 헤드라인:  kapil sharma show out of his show reports\n",
      "\n",
      "\n",
      "원문 : deepika padukone ranveer singh shahid kapoor starrer padmaavat spectacular looking period film matches international standards wrote bollywood hungama hindustan times wrote ranveer towers deepika shahid beautiful film india today wrote film covered jewels rated \n",
      "실제 헤드라인 : deepika ranveer shahid starrer padmaavat hits theatres\n",
      "예측 헤드라인:  deepika ranveer starrer padmaavat is released\n",
      "\n",
      "\n",
      "원문 : actors taapsee pannu rishi kapoor seen together upcoming film titled mulk taapsee reportedly play role rishi daughter law film directed anubhav sinha film shot upcoming months varanasi lucknow \n",
      "실제 헤드라인 : taapsee rishi to be seen together in upcoming film mulk\n",
      "예측 헤드라인:  taapsee to play in an star in upcoming film\n",
      "\n",
      "\n",
      "원문 : year old woman recently gave birth police control room van delhi police police revealed police officers taking hospital finding labour pain incident occurred woman helped female constable later admitted hospital along newborn daughter \n",
      "실제 헤드라인 : woman delivers baby inside delhi police van\n",
      "예측 헤드라인:  woman gangraped by men in delhi\n",
      "\n",
      "\n"
     ]
    }
   ],
   "source": [
    "for i in range(50, 100):\n",
    "    print(\"원문 :\", seq2text(encoder_input_test[i]))\n",
    "    print(\"실제 헤드라인 :\", seq2summary(decoder_input_test[i]))\n",
    "    print(\"예측 헤드라인:\", decode_sequence(encoder_input_test[i].reshape(1, text_max_len)))\n",
    "    print(\"\\n\")"
   ]
  },
  {
   "cell_type": "markdown",
   "id": "19f0c9ca",
   "metadata": {},
   "source": [
    "# Step 5. Summa을 이용해서 추출적 요약해보기"
   ]
  },
  {
   "cell_type": "code",
   "execution_count": 5,
   "id": "c9605f5b",
   "metadata": {},
   "outputs": [],
   "source": [
    "data_2 = pd.read_csv('news_summary_more.csv', encoding='iso-8859-1')"
   ]
  },
  {
   "cell_type": "markdown",
   "id": "de7e43a2",
   "metadata": {},
   "source": [
    "## 데이터 일부만 가져오기 (text만 사용)"
   ]
  },
  {
   "cell_type": "code",
   "execution_count": 6,
   "id": "27b7e199",
   "metadata": {
    "scrolled": true
   },
   "outputs": [
    {
     "data": {
      "text/html": [
       "<div>\n",
       "<style scoped>\n",
       "    .dataframe tbody tr th:only-of-type {\n",
       "        vertical-align: middle;\n",
       "    }\n",
       "\n",
       "    .dataframe tbody tr th {\n",
       "        vertical-align: top;\n",
       "    }\n",
       "\n",
       "    .dataframe thead th {\n",
       "        text-align: right;\n",
       "    }\n",
       "</style>\n",
       "<table border=\"1\" class=\"dataframe\">\n",
       "  <thead>\n",
       "    <tr style=\"text-align: right;\">\n",
       "      <th></th>\n",
       "      <th>text</th>\n",
       "    </tr>\n",
       "  </thead>\n",
       "  <tbody>\n",
       "    <tr>\n",
       "      <th>37978</th>\n",
       "      <td>As many as 600 girls have been reported missin...</td>\n",
       "    </tr>\n",
       "    <tr>\n",
       "      <th>68004</th>\n",
       "      <td>'Avatar' director James Cameron has said that ...</td>\n",
       "    </tr>\n",
       "    <tr>\n",
       "      <th>58215</th>\n",
       "      <td>Gujarat Chief Minister Vijay Rupani has said C...</td>\n",
       "    </tr>\n",
       "    <tr>\n",
       "      <th>40671</th>\n",
       "      <td>A zoo in Australia has shared a video that sho...</td>\n",
       "    </tr>\n",
       "    <tr>\n",
       "      <th>8213</th>\n",
       "      <td>German luxury automaker BMW said that it can f...</td>\n",
       "    </tr>\n",
       "    <tr>\n",
       "      <th>35388</th>\n",
       "      <td>Police officers said they found animal poop an...</td>\n",
       "    </tr>\n",
       "    <tr>\n",
       "      <th>23999</th>\n",
       "      <td>Union Minister Rajyavardhan Rathore said that ...</td>\n",
       "    </tr>\n",
       "    <tr>\n",
       "      <th>10873</th>\n",
       "      <td>Team India opener Rohit Sharma on Tuesday brok...</td>\n",
       "    </tr>\n",
       "    <tr>\n",
       "      <th>71702</th>\n",
       "      <td>Kangana Ranaut, in a recent interview with Anu...</td>\n",
       "    </tr>\n",
       "    <tr>\n",
       "      <th>18143</th>\n",
       "      <td>India captain Virat Kohli has said he doesn't ...</td>\n",
       "    </tr>\n",
       "    <tr>\n",
       "      <th>67099</th>\n",
       "      <td>A day after BSF Assistant Sub-Inspector Brij K...</td>\n",
       "    </tr>\n",
       "    <tr>\n",
       "      <th>34691</th>\n",
       "      <td>US President Donald Trump had asked FBI to cla...</td>\n",
       "    </tr>\n",
       "    <tr>\n",
       "      <th>37964</th>\n",
       "      <td>US President Donald Trump said he would be cal...</td>\n",
       "    </tr>\n",
       "    <tr>\n",
       "      <th>54441</th>\n",
       "      <td>The Samajwadi Party opened the application pro...</td>\n",
       "    </tr>\n",
       "    <tr>\n",
       "      <th>1340</th>\n",
       "      <td>BJP General Secretary Ram Madhav on Sunday sai...</td>\n",
       "    </tr>\n",
       "  </tbody>\n",
       "</table>\n",
       "</div>"
      ],
      "text/plain": [
       "                                                    text\n",
       "37978  As many as 600 girls have been reported missin...\n",
       "68004  'Avatar' director James Cameron has said that ...\n",
       "58215  Gujarat Chief Minister Vijay Rupani has said C...\n",
       "40671  A zoo in Australia has shared a video that sho...\n",
       "8213   German luxury automaker BMW said that it can f...\n",
       "35388  Police officers said they found animal poop an...\n",
       "23999  Union Minister Rajyavardhan Rathore said that ...\n",
       "10873  Team India opener Rohit Sharma on Tuesday brok...\n",
       "71702  Kangana Ranaut, in a recent interview with Anu...\n",
       "18143  India captain Virat Kohli has said he doesn't ...\n",
       "67099  A day after BSF Assistant Sub-Inspector Brij K...\n",
       "34691  US President Donald Trump had asked FBI to cla...\n",
       "37964  US President Donald Trump said he would be cal...\n",
       "54441  The Samajwadi Party opened the application pro...\n",
       "1340   BJP General Secretary Ram Madhav on Sunday sai..."
      ]
     },
     "execution_count": 6,
     "metadata": {},
     "output_type": "execute_result"
    }
   ],
   "source": [
    "text = data_2[['text']]\n",
    "text.head()\n",
    "\n",
    "text.sample(15)"
   ]
  },
  {
   "cell_type": "markdown",
   "id": "85091aa6",
   "metadata": {},
   "source": [
    "## 원문의 0.005% 만 출력하도록 설정하고, 리스트로 출력 결과 받기"
   ]
  },
  {
   "cell_type": "code",
   "execution_count": 8,
   "id": "9a81f1de",
   "metadata": {},
   "outputs": [
    {
     "name": "stdout",
     "output_type": "stream",
     "text": [
      "Headlines:\n"
     ]
    },
    {
     "ename": "ValueError",
     "evalue": "Text parameter must be a Unicode object (str)!",
     "output_type": "error",
     "traceback": [
      "\u001b[0;31m---------------------------------------------------------------------------\u001b[0m",
      "\u001b[0;31mValueError\u001b[0m                                Traceback (most recent call last)",
      "\u001b[0;32m/tmp/ipykernel_31/294874574.py\u001b[0m in \u001b[0;36m<module>\u001b[0;34m\u001b[0m\n\u001b[1;32m      2\u001b[0m \u001b[0;34m\u001b[0m\u001b[0m\n\u001b[1;32m      3\u001b[0m \u001b[0mprint\u001b[0m\u001b[0;34m(\u001b[0m\u001b[0;34m'Headlines:'\u001b[0m\u001b[0;34m)\u001b[0m\u001b[0;34m\u001b[0m\u001b[0;34m\u001b[0m\u001b[0m\n\u001b[0;32m----> 4\u001b[0;31m \u001b[0mprint\u001b[0m\u001b[0;34m(\u001b[0m\u001b[0msummarize\u001b[0m\u001b[0;34m(\u001b[0m\u001b[0mtext\u001b[0m\u001b[0;34m,\u001b[0m \u001b[0mratio\u001b[0m\u001b[0;34m=\u001b[0m\u001b[0;36m0.005\u001b[0m\u001b[0;34m,\u001b[0m \u001b[0msplit\u001b[0m\u001b[0;34m=\u001b[0m\u001b[0;32mTrue\u001b[0m\u001b[0;34m)\u001b[0m\u001b[0;34m)\u001b[0m\u001b[0;34m\u001b[0m\u001b[0;34m\u001b[0m\u001b[0m\n\u001b[0m",
      "\u001b[0;32m/opt/conda/lib/python3.9/site-packages/summa/summarizer.py\u001b[0m in \u001b[0;36msummarize\u001b[0;34m(text, ratio, words, language, split, scores, additional_stopwords)\u001b[0m\n\u001b[1;32m    112\u001b[0m \u001b[0;32mdef\u001b[0m \u001b[0msummarize\u001b[0m\u001b[0;34m(\u001b[0m\u001b[0mtext\u001b[0m\u001b[0;34m,\u001b[0m \u001b[0mratio\u001b[0m\u001b[0;34m=\u001b[0m\u001b[0;36m0.2\u001b[0m\u001b[0;34m,\u001b[0m \u001b[0mwords\u001b[0m\u001b[0;34m=\u001b[0m\u001b[0;32mNone\u001b[0m\u001b[0;34m,\u001b[0m \u001b[0mlanguage\u001b[0m\u001b[0;34m=\u001b[0m\u001b[0;34m\"english\"\u001b[0m\u001b[0;34m,\u001b[0m \u001b[0msplit\u001b[0m\u001b[0;34m=\u001b[0m\u001b[0;32mFalse\u001b[0m\u001b[0;34m,\u001b[0m \u001b[0mscores\u001b[0m\u001b[0;34m=\u001b[0m\u001b[0;32mFalse\u001b[0m\u001b[0;34m,\u001b[0m \u001b[0madditional_stopwords\u001b[0m\u001b[0;34m=\u001b[0m\u001b[0;32mNone\u001b[0m\u001b[0;34m)\u001b[0m\u001b[0;34m:\u001b[0m\u001b[0;34m\u001b[0m\u001b[0;34m\u001b[0m\u001b[0m\n\u001b[1;32m    113\u001b[0m     \u001b[0;32mif\u001b[0m \u001b[0;32mnot\u001b[0m \u001b[0misinstance\u001b[0m\u001b[0;34m(\u001b[0m\u001b[0mtext\u001b[0m\u001b[0;34m,\u001b[0m \u001b[0mstr\u001b[0m\u001b[0;34m)\u001b[0m\u001b[0;34m:\u001b[0m\u001b[0;34m\u001b[0m\u001b[0;34m\u001b[0m\u001b[0m\n\u001b[0;32m--> 114\u001b[0;31m         \u001b[0;32mraise\u001b[0m \u001b[0mValueError\u001b[0m\u001b[0;34m(\u001b[0m\u001b[0;34m\"Text parameter must be a Unicode object (str)!\"\u001b[0m\u001b[0;34m)\u001b[0m\u001b[0;34m\u001b[0m\u001b[0;34m\u001b[0m\u001b[0m\n\u001b[0m\u001b[1;32m    115\u001b[0m \u001b[0;34m\u001b[0m\u001b[0m\n\u001b[1;32m    116\u001b[0m     \u001b[0;31m# Gets a list of processed sentences.\u001b[0m\u001b[0;34m\u001b[0m\u001b[0;34m\u001b[0m\u001b[0m\n",
      "\u001b[0;31mValueError\u001b[0m: Text parameter must be a Unicode object (str)!"
     ]
    }
   ],
   "source": [
    "from summa.summarizer import summarize\n",
    "\n",
    "print('Headlines:')\n",
    "print(summarize(text, ratio=0.005, split=True))"
   ]
  },
  {
   "cell_type": "markdown",
   "id": "667eed2b",
   "metadata": {},
   "source": [
    "## 이렇게 text를 뜯어오면 데이터프레임 객체여서 에러가 발생한다\n",
    "## 따라서 아래처럼 이를 문자열로 변환해주고 다시 해봤다"
   ]
  },
  {
   "cell_type": "code",
   "execution_count": 9,
   "id": "7368f0c6",
   "metadata": {},
   "outputs": [
    {
     "name": "stdout",
     "output_type": "stream",
     "text": [
      "Headlines:\n"
     ]
    },
    {
     "ename": "KeyboardInterrupt",
     "evalue": "",
     "output_type": "error",
     "traceback": [
      "\u001b[0;31m---------------------------------------------------------------------------\u001b[0m",
      "\u001b[0;31mKeyboardInterrupt\u001b[0m                         Traceback (most recent call last)",
      "\u001b[0;32m/tmp/ipykernel_31/2382615411.py\u001b[0m in \u001b[0;36m<module>\u001b[0;34m\u001b[0m\n\u001b[1;32m      4\u001b[0m \u001b[0;31m# 텍스트 요약\u001b[0m\u001b[0;34m\u001b[0m\u001b[0;34m\u001b[0m\u001b[0m\n\u001b[1;32m      5\u001b[0m \u001b[0mprint\u001b[0m\u001b[0;34m(\u001b[0m\u001b[0;34m'Headlines:'\u001b[0m\u001b[0;34m)\u001b[0m\u001b[0;34m\u001b[0m\u001b[0;34m\u001b[0m\u001b[0m\n\u001b[0;32m----> 6\u001b[0;31m \u001b[0mprint\u001b[0m\u001b[0;34m(\u001b[0m\u001b[0msummarize\u001b[0m\u001b[0;34m(\u001b[0m\u001b[0mtext\u001b[0m\u001b[0;34m,\u001b[0m \u001b[0mratio\u001b[0m\u001b[0;34m=\u001b[0m\u001b[0;36m0.005\u001b[0m\u001b[0;34m,\u001b[0m \u001b[0msplit\u001b[0m\u001b[0;34m=\u001b[0m\u001b[0;32mTrue\u001b[0m\u001b[0;34m)\u001b[0m\u001b[0;34m)\u001b[0m\u001b[0;34m\u001b[0m\u001b[0;34m\u001b[0m\u001b[0m\n\u001b[0m",
      "\u001b[0;32m/opt/conda/lib/python3.9/site-packages/summa/summarizer.py\u001b[0m in \u001b[0;36msummarize\u001b[0;34m(text, ratio, words, language, split, scores, additional_stopwords)\u001b[0m\n\u001b[1;32m    119\u001b[0m     \u001b[0;31m# Creates the graph and calculates the similarity coefficient for every pair of nodes.\u001b[0m\u001b[0;34m\u001b[0m\u001b[0;34m\u001b[0m\u001b[0m\n\u001b[1;32m    120\u001b[0m     \u001b[0mgraph\u001b[0m \u001b[0;34m=\u001b[0m \u001b[0m_build_graph\u001b[0m\u001b[0;34m(\u001b[0m\u001b[0;34m[\u001b[0m\u001b[0msentence\u001b[0m\u001b[0;34m.\u001b[0m\u001b[0mtoken\u001b[0m \u001b[0;32mfor\u001b[0m \u001b[0msentence\u001b[0m \u001b[0;32min\u001b[0m \u001b[0msentences\u001b[0m\u001b[0;34m]\u001b[0m\u001b[0;34m)\u001b[0m\u001b[0;34m\u001b[0m\u001b[0;34m\u001b[0m\u001b[0m\n\u001b[0;32m--> 121\u001b[0;31m     \u001b[0m_set_graph_edge_weights\u001b[0m\u001b[0;34m(\u001b[0m\u001b[0mgraph\u001b[0m\u001b[0;34m)\u001b[0m\u001b[0;34m\u001b[0m\u001b[0;34m\u001b[0m\u001b[0m\n\u001b[0m\u001b[1;32m    122\u001b[0m \u001b[0;34m\u001b[0m\u001b[0m\n\u001b[1;32m    123\u001b[0m     \u001b[0;31m# Remove all nodes with all edges weights equal to zero.\u001b[0m\u001b[0;34m\u001b[0m\u001b[0;34m\u001b[0m\u001b[0m\n",
      "\u001b[0;32m/opt/conda/lib/python3.9/site-packages/summa/summarizer.py\u001b[0m in \u001b[0;36m_set_graph_edge_weights\u001b[0;34m(graph)\u001b[0m\n\u001b[1;32m     15\u001b[0m                 \u001b[0msimilarity\u001b[0m \u001b[0;34m=\u001b[0m \u001b[0m_get_similarity\u001b[0m\u001b[0;34m(\u001b[0m\u001b[0msentence_1\u001b[0m\u001b[0;34m,\u001b[0m \u001b[0msentence_2\u001b[0m\u001b[0;34m)\u001b[0m\u001b[0;34m\u001b[0m\u001b[0;34m\u001b[0m\u001b[0m\n\u001b[1;32m     16\u001b[0m                 \u001b[0;32mif\u001b[0m \u001b[0msimilarity\u001b[0m \u001b[0;34m!=\u001b[0m \u001b[0;36m0\u001b[0m\u001b[0;34m:\u001b[0m\u001b[0;34m\u001b[0m\u001b[0;34m\u001b[0m\u001b[0m\n\u001b[0;32m---> 17\u001b[0;31m                     \u001b[0mgraph\u001b[0m\u001b[0;34m.\u001b[0m\u001b[0madd_edge\u001b[0m\u001b[0;34m(\u001b[0m\u001b[0medge\u001b[0m\u001b[0;34m,\u001b[0m \u001b[0msimilarity\u001b[0m\u001b[0;34m)\u001b[0m\u001b[0;34m\u001b[0m\u001b[0;34m\u001b[0m\u001b[0m\n\u001b[0m\u001b[1;32m     18\u001b[0m \u001b[0;34m\u001b[0m\u001b[0m\n\u001b[1;32m     19\u001b[0m     \u001b[0;31m# Handles the case in which all similarities are zero.\u001b[0m\u001b[0;34m\u001b[0m\u001b[0;34m\u001b[0m\u001b[0m\n",
      "\u001b[0;32m/opt/conda/lib/python3.9/site-packages/summa/graph.py\u001b[0m in \u001b[0;36madd_edge\u001b[0;34m(self, edge, wt, label, attrs)\u001b[0m\n\u001b[1;32m    168\u001b[0m     \u001b[0;32mdef\u001b[0m \u001b[0madd_edge\u001b[0m\u001b[0;34m(\u001b[0m\u001b[0mself\u001b[0m\u001b[0;34m,\u001b[0m \u001b[0medge\u001b[0m\u001b[0;34m,\u001b[0m \u001b[0mwt\u001b[0m\u001b[0;34m=\u001b[0m\u001b[0;36m1\u001b[0m\u001b[0;34m,\u001b[0m \u001b[0mlabel\u001b[0m\u001b[0;34m=\u001b[0m\u001b[0;34m''\u001b[0m\u001b[0;34m,\u001b[0m \u001b[0mattrs\u001b[0m\u001b[0;34m=\u001b[0m\u001b[0;34m[\u001b[0m\u001b[0;34m]\u001b[0m\u001b[0;34m)\u001b[0m\u001b[0;34m:\u001b[0m\u001b[0;34m\u001b[0m\u001b[0;34m\u001b[0m\u001b[0m\n\u001b[1;32m    169\u001b[0m         \u001b[0mu\u001b[0m\u001b[0;34m,\u001b[0m \u001b[0mv\u001b[0m \u001b[0;34m=\u001b[0m \u001b[0medge\u001b[0m\u001b[0;34m\u001b[0m\u001b[0;34m\u001b[0m\u001b[0m\n\u001b[0;32m--> 170\u001b[0;31m         \u001b[0;32mif\u001b[0m \u001b[0;34m(\u001b[0m\u001b[0mv\u001b[0m \u001b[0;32mnot\u001b[0m \u001b[0;32min\u001b[0m \u001b[0mself\u001b[0m\u001b[0;34m.\u001b[0m\u001b[0mnode_neighbors\u001b[0m\u001b[0;34m[\u001b[0m\u001b[0mu\u001b[0m\u001b[0;34m]\u001b[0m \u001b[0;32mand\u001b[0m \u001b[0mu\u001b[0m \u001b[0;32mnot\u001b[0m \u001b[0;32min\u001b[0m \u001b[0mself\u001b[0m\u001b[0;34m.\u001b[0m\u001b[0mnode_neighbors\u001b[0m\u001b[0;34m[\u001b[0m\u001b[0mv\u001b[0m\u001b[0;34m]\u001b[0m\u001b[0;34m)\u001b[0m\u001b[0;34m:\u001b[0m\u001b[0;34m\u001b[0m\u001b[0;34m\u001b[0m\u001b[0m\n\u001b[0m\u001b[1;32m    171\u001b[0m             \u001b[0mself\u001b[0m\u001b[0;34m.\u001b[0m\u001b[0mnode_neighbors\u001b[0m\u001b[0;34m[\u001b[0m\u001b[0mu\u001b[0m\u001b[0;34m]\u001b[0m\u001b[0;34m.\u001b[0m\u001b[0mappend\u001b[0m\u001b[0;34m(\u001b[0m\u001b[0mv\u001b[0m\u001b[0;34m)\u001b[0m\u001b[0;34m\u001b[0m\u001b[0;34m\u001b[0m\u001b[0m\n\u001b[1;32m    172\u001b[0m             \u001b[0;32mif\u001b[0m \u001b[0;34m(\u001b[0m\u001b[0mu\u001b[0m \u001b[0;34m!=\u001b[0m \u001b[0mv\u001b[0m\u001b[0;34m)\u001b[0m\u001b[0;34m:\u001b[0m\u001b[0;34m\u001b[0m\u001b[0;34m\u001b[0m\u001b[0m\n",
      "\u001b[0;31mKeyboardInterrupt\u001b[0m: "
     ]
    }
   ],
   "source": [
    "# 텍스트 컬럼을 하나의 문자열로 변환\n",
    "text = ' '.join(data_2['text'].astype(str))\n",
    "\n",
    "# 텍스트 요약\n",
    "print('Headlines:')\n",
    "print(summarize(text, ratio=0.005, split=True))"
   ]
  },
  {
   "cell_type": "code",
   "execution_count": 10,
   "id": "6d579ee0",
   "metadata": {},
   "outputs": [
    {
     "name": "stdout",
     "output_type": "stream",
     "text": [
      "Headlines:\n"
     ]
    },
    {
     "ename": "KeyboardInterrupt",
     "evalue": "",
     "output_type": "error",
     "traceback": [
      "\u001b[0;31m---------------------------------------------------------------------------\u001b[0m",
      "\u001b[0;31mKeyboardInterrupt\u001b[0m                         Traceback (most recent call last)",
      "\u001b[0;32m/tmp/ipykernel_31/2600267550.py\u001b[0m in \u001b[0;36m<module>\u001b[0;34m\u001b[0m\n\u001b[1;32m      4\u001b[0m \u001b[0;31m# 텍스트 요약\u001b[0m\u001b[0;34m\u001b[0m\u001b[0;34m\u001b[0m\u001b[0m\n\u001b[1;32m      5\u001b[0m \u001b[0mprint\u001b[0m\u001b[0;34m(\u001b[0m\u001b[0;34m'Headlines:'\u001b[0m\u001b[0;34m)\u001b[0m\u001b[0;34m\u001b[0m\u001b[0;34m\u001b[0m\u001b[0m\n\u001b[0;32m----> 6\u001b[0;31m \u001b[0mprint\u001b[0m\u001b[0;34m(\u001b[0m\u001b[0msummarize\u001b[0m\u001b[0;34m(\u001b[0m\u001b[0mtext\u001b[0m\u001b[0;34m,\u001b[0m \u001b[0mwords\u001b[0m\u001b[0;34m=\u001b[0m\u001b[0;36m50\u001b[0m\u001b[0;34m,\u001b[0m \u001b[0msplit\u001b[0m\u001b[0;34m=\u001b[0m\u001b[0;32mTrue\u001b[0m\u001b[0;34m)\u001b[0m\u001b[0;34m)\u001b[0m\u001b[0;34m\u001b[0m\u001b[0;34m\u001b[0m\u001b[0m\n\u001b[0m",
      "\u001b[0;32m/opt/conda/lib/python3.9/site-packages/summa/summarizer.py\u001b[0m in \u001b[0;36msummarize\u001b[0;34m(text, ratio, words, language, split, scores, additional_stopwords)\u001b[0m\n\u001b[1;32m    119\u001b[0m     \u001b[0;31m# Creates the graph and calculates the similarity coefficient for every pair of nodes.\u001b[0m\u001b[0;34m\u001b[0m\u001b[0;34m\u001b[0m\u001b[0m\n\u001b[1;32m    120\u001b[0m     \u001b[0mgraph\u001b[0m \u001b[0;34m=\u001b[0m \u001b[0m_build_graph\u001b[0m\u001b[0;34m(\u001b[0m\u001b[0;34m[\u001b[0m\u001b[0msentence\u001b[0m\u001b[0;34m.\u001b[0m\u001b[0mtoken\u001b[0m \u001b[0;32mfor\u001b[0m \u001b[0msentence\u001b[0m \u001b[0;32min\u001b[0m \u001b[0msentences\u001b[0m\u001b[0;34m]\u001b[0m\u001b[0;34m)\u001b[0m\u001b[0;34m\u001b[0m\u001b[0;34m\u001b[0m\u001b[0m\n\u001b[0;32m--> 121\u001b[0;31m     \u001b[0m_set_graph_edge_weights\u001b[0m\u001b[0;34m(\u001b[0m\u001b[0mgraph\u001b[0m\u001b[0;34m)\u001b[0m\u001b[0;34m\u001b[0m\u001b[0;34m\u001b[0m\u001b[0m\n\u001b[0m\u001b[1;32m    122\u001b[0m \u001b[0;34m\u001b[0m\u001b[0m\n\u001b[1;32m    123\u001b[0m     \u001b[0;31m# Remove all nodes with all edges weights equal to zero.\u001b[0m\u001b[0;34m\u001b[0m\u001b[0;34m\u001b[0m\u001b[0m\n",
      "\u001b[0;32m/opt/conda/lib/python3.9/site-packages/summa/summarizer.py\u001b[0m in \u001b[0;36m_set_graph_edge_weights\u001b[0;34m(graph)\u001b[0m\n\u001b[1;32m     15\u001b[0m                 \u001b[0msimilarity\u001b[0m \u001b[0;34m=\u001b[0m \u001b[0m_get_similarity\u001b[0m\u001b[0;34m(\u001b[0m\u001b[0msentence_1\u001b[0m\u001b[0;34m,\u001b[0m \u001b[0msentence_2\u001b[0m\u001b[0;34m)\u001b[0m\u001b[0;34m\u001b[0m\u001b[0;34m\u001b[0m\u001b[0m\n\u001b[1;32m     16\u001b[0m                 \u001b[0;32mif\u001b[0m \u001b[0msimilarity\u001b[0m \u001b[0;34m!=\u001b[0m \u001b[0;36m0\u001b[0m\u001b[0;34m:\u001b[0m\u001b[0;34m\u001b[0m\u001b[0;34m\u001b[0m\u001b[0m\n\u001b[0;32m---> 17\u001b[0;31m                     \u001b[0mgraph\u001b[0m\u001b[0;34m.\u001b[0m\u001b[0madd_edge\u001b[0m\u001b[0;34m(\u001b[0m\u001b[0medge\u001b[0m\u001b[0;34m,\u001b[0m \u001b[0msimilarity\u001b[0m\u001b[0;34m)\u001b[0m\u001b[0;34m\u001b[0m\u001b[0;34m\u001b[0m\u001b[0m\n\u001b[0m\u001b[1;32m     18\u001b[0m \u001b[0;34m\u001b[0m\u001b[0m\n\u001b[1;32m     19\u001b[0m     \u001b[0;31m# Handles the case in which all similarities are zero.\u001b[0m\u001b[0;34m\u001b[0m\u001b[0;34m\u001b[0m\u001b[0m\n",
      "\u001b[0;32m/opt/conda/lib/python3.9/site-packages/summa/graph.py\u001b[0m in \u001b[0;36madd_edge\u001b[0;34m(self, edge, wt, label, attrs)\u001b[0m\n\u001b[1;32m    168\u001b[0m     \u001b[0;32mdef\u001b[0m \u001b[0madd_edge\u001b[0m\u001b[0;34m(\u001b[0m\u001b[0mself\u001b[0m\u001b[0;34m,\u001b[0m \u001b[0medge\u001b[0m\u001b[0;34m,\u001b[0m \u001b[0mwt\u001b[0m\u001b[0;34m=\u001b[0m\u001b[0;36m1\u001b[0m\u001b[0;34m,\u001b[0m \u001b[0mlabel\u001b[0m\u001b[0;34m=\u001b[0m\u001b[0;34m''\u001b[0m\u001b[0;34m,\u001b[0m \u001b[0mattrs\u001b[0m\u001b[0;34m=\u001b[0m\u001b[0;34m[\u001b[0m\u001b[0;34m]\u001b[0m\u001b[0;34m)\u001b[0m\u001b[0;34m:\u001b[0m\u001b[0;34m\u001b[0m\u001b[0;34m\u001b[0m\u001b[0m\n\u001b[1;32m    169\u001b[0m         \u001b[0mu\u001b[0m\u001b[0;34m,\u001b[0m \u001b[0mv\u001b[0m \u001b[0;34m=\u001b[0m \u001b[0medge\u001b[0m\u001b[0;34m\u001b[0m\u001b[0;34m\u001b[0m\u001b[0m\n\u001b[0;32m--> 170\u001b[0;31m         \u001b[0;32mif\u001b[0m \u001b[0;34m(\u001b[0m\u001b[0mv\u001b[0m \u001b[0;32mnot\u001b[0m \u001b[0;32min\u001b[0m \u001b[0mself\u001b[0m\u001b[0;34m.\u001b[0m\u001b[0mnode_neighbors\u001b[0m\u001b[0;34m[\u001b[0m\u001b[0mu\u001b[0m\u001b[0;34m]\u001b[0m \u001b[0;32mand\u001b[0m \u001b[0mu\u001b[0m \u001b[0;32mnot\u001b[0m \u001b[0;32min\u001b[0m \u001b[0mself\u001b[0m\u001b[0;34m.\u001b[0m\u001b[0mnode_neighbors\u001b[0m\u001b[0;34m[\u001b[0m\u001b[0mv\u001b[0m\u001b[0;34m]\u001b[0m\u001b[0;34m)\u001b[0m\u001b[0;34m:\u001b[0m\u001b[0;34m\u001b[0m\u001b[0;34m\u001b[0m\u001b[0m\n\u001b[0m\u001b[1;32m    171\u001b[0m             \u001b[0mself\u001b[0m\u001b[0;34m.\u001b[0m\u001b[0mnode_neighbors\u001b[0m\u001b[0;34m[\u001b[0m\u001b[0mu\u001b[0m\u001b[0;34m]\u001b[0m\u001b[0;34m.\u001b[0m\u001b[0mappend\u001b[0m\u001b[0;34m(\u001b[0m\u001b[0mv\u001b[0m\u001b[0;34m)\u001b[0m\u001b[0;34m\u001b[0m\u001b[0;34m\u001b[0m\u001b[0m\n\u001b[1;32m    172\u001b[0m             \u001b[0;32mif\u001b[0m \u001b[0;34m(\u001b[0m\u001b[0mu\u001b[0m \u001b[0;34m!=\u001b[0m \u001b[0mv\u001b[0m\u001b[0;34m)\u001b[0m\u001b[0;34m:\u001b[0m\u001b[0;34m\u001b[0m\u001b[0;34m\u001b[0m\u001b[0m\n",
      "\u001b[0;31mKeyboardInterrupt\u001b[0m: "
     ]
    }
   ],
   "source": [
    "# 텍스트 컬럼을 하나의 문자열로 변환\n",
    "text = ' '.join(data_2['text'].astype(str))\n",
    "\n",
    "# 텍스트 요약\n",
    "print('Headlines:')\n",
    "print(summarize(text, words=50, split=True))"
   ]
  },
  {
   "cell_type": "markdown",
   "id": "cddad904",
   "metadata": {},
   "source": [
    "## 너무 오래걸려서 그루분들께 여쭤보고 상위 100개만 가지고 하면 빨리 된다고 해서 그렇게 해보겠다"
   ]
  },
  {
   "cell_type": "code",
   "execution_count": 11,
   "id": "10d169ca",
   "metadata": {
    "scrolled": true
   },
   "outputs": [
    {
     "name": "stdout",
     "output_type": "stream",
     "text": [
      "Headlines:\n",
      "['He added, \"The time has come for the people of Odisha to put a full stop to their activities...The time has come for us to ask for an explanation from this corrupt government.\" Claiming there is a dearth of ideas among opposition parties, Prime Minister Narendra Modi on Wednesday said, \"The opposition talks only about Modi the whole day, I suspect they even dream about me.\" PM Modi, who was addressing the New India Youth Conclave inÃ¢Â\\x80Â\\x8b Surat, added that the opposition parties have only one agenda which is \"Modi\".']\n"
     ]
    }
   ],
   "source": [
    "# 상위 100개의 텍스트 데이터만 선택\n",
    "text = ' '.join(data_2['text'].astype(str).head(100))\n",
    "\n",
    "# 텍스트 요약\n",
    "print('Headlines:')\n",
    "print(summarize(text, ratio=0.005, split=True))"
   ]
  },
  {
   "cell_type": "markdown",
   "id": "de401774",
   "metadata": {},
   "source": [
    "## words로 조절해보겠다"
   ]
  },
  {
   "cell_type": "code",
   "execution_count": 13,
   "id": "8411d764",
   "metadata": {},
   "outputs": [
    {
     "name": "stdout",
     "output_type": "stream",
     "text": [
      "Headlines:\n",
      "['He added, \"The time has come for the people of Odisha to put a full stop to their activities...The time has come for us to ask for an explanation from this corrupt government.\" Claiming there is a dearth of ideas among opposition parties, Prime Minister Narendra Modi on Wednesday said, \"The opposition talks only about Modi the whole day, I suspect they even dream about me.\" PM Modi, who was addressing the New India Youth Conclave inÃ¢Â\\x80Â\\x8b Surat, added that the opposition parties have only one agenda which is \"Modi\".']\n"
     ]
    }
   ],
   "source": [
    "# 상위 100개의 텍스트 데이터만 선택\n",
    "text = ' '.join(data_2['text'].astype(str).head(100))\n",
    "\n",
    "# 텍스트 요약\n",
    "print('Headlines:')\n",
    "print(summarize(text, words=50, split=True))"
   ]
  },
  {
   "cell_type": "markdown",
   "id": "fceedfed",
   "metadata": {},
   "source": [
    "## 이것도 실제 헤드라인과 비교해봤다"
   ]
  },
  {
   "cell_type": "code",
   "execution_count": 19,
   "id": "52742479",
   "metadata": {},
   "outputs": [
    {
     "name": "stdout",
     "output_type": "stream",
     "text": [
      "원문: Saurav Kant, an alumnus of upGrad and IIIT-B's PG Program in Machine learning and Artificial Intelligence, was a Sr Systems Engineer at Infosys with almost 5 years of work experience. The program and upGrad's 360-degree career support helped him transition to a Data Scientist at Tech Mahindra with 90% salary hike. upGrad's Online Power Learning has powered 3 lakh+ careers.\n",
      "실제 헤드라인: upGrad learner switches to career in ML & Al with 90% salary hike\n",
      "예측 헤드라인: upGrad's Online Power Learning has powered 3 lakh+ careers.\n",
      "--------------------------------------------------\n",
      "원문: Kunal Shah's credit card bill payment platform, CRED, gave users a chance to win free food from Swiggy for one year. Pranav Kaushik, a Delhi techie, bagged this reward after spending 2000 CRED coins. Users get one CRED coin per rupee of bill paid, which can be used to avail rewards from brands like Ixigo, BookMyShow, UberEats, Cult.Fit and more.\n",
      "실제 헤드라인: Delhi techie wins free food from Swiggy for one year on CRED\n",
      "예측 헤드라인: Users get one CRED coin per rupee of bill paid, which can be used to avail rewards from brands like Ixigo, BookMyShow, UberEats, Cult.Fit and more.\n",
      "--------------------------------------------------\n",
      "원문: New Zealand defeated India by 8 wickets in the fourth ODI at Hamilton on Thursday to win their first match of the five-match ODI series. India lost an international match under Rohit Sharma's captaincy after 12 consecutive victories dating back to March 2018. The match witnessed India getting all out for 92, their seventh lowest total in ODI cricket history.\n",
      "실제 헤드라인: New Zealand end Rohit Sharma-led India's 12-match winning streak\n",
      "예측 헤드라인: The match witnessed India getting all out for 92, their seventh lowest total in ODI cricket history.\n",
      "--------------------------------------------------\n",
      "원문: With Aegon Life iTerm Insurance plan, customers can enjoy tax benefits on your premiums paid and save up to Ã¢ÂÂ¹46,800^ on taxes. The plan provides life cover up to the age of 100 years. Also, customers have options to insure against Critical Illnesses, Disability and Accidental Death Benefit Rider with a life cover up to the age of 80 years.\n",
      "실제 헤드라인: Aegon life iTerm insurance plan helps customers save tax\n",
      "예측 헤드라인: Also, customers have options to insure against Critical Illnesses, Disability and Accidental Death Benefit Rider with a life cover up to the age of 80 years.\n",
      "--------------------------------------------------\n",
      "원문: Speaking about the sexual harassment allegations against Rajkumar Hirani, Sonam Kapoor said, \"I've known Hirani for many years...What if it's not true, the [#MeToo] movement will get derailed.\" \"In the #MeToo movement, I always believe a woman. But in this case, we need to reserve our judgment,\" she added. Hirani has been accused by an assistant who worked in 'Sanju'.\n",
      "실제 헤드라인: Have known Hirani for yrs, what if MeToo claims are not true: Sonam\n",
      "예측 헤드라인: Speaking about the sexual harassment allegations against Rajkumar Hirani, Sonam Kapoor said, \"I've known Hirani for many years...What if it's not true, the [#MeToo] movement will get derailed.\" \"In the #MeToo movement, I always believe a woman.\n",
      "--------------------------------------------------\n",
      "원문: Pakistani singer Rahat Fateh Ali Khan has denied receiving any notice from the Enforcement Directorate over allegedly smuggling foreign currency out of India. \"It would have been better if the authorities would have served the notice first if any and then publicised this,\" reads a press release issued on behalf of Rahat. The statement further called the allegation \"bizarre\".\n",
      "실제 헤드라인: Rahat Fateh Ali Khan denies getting notice for smuggling currency\n",
      "예측 헤드라인: Pakistani singer Rahat Fateh Ali Khan has denied receiving any notice from the Enforcement Directorate over allegedly smuggling foreign currency out of India.\n",
      "--------------------------------------------------\n",
      "원문: India recorded their lowest ODI total in New Zealand after getting all out for 92 runs in 30.5 overs in the fourth ODI at Hamilton on Thursday. Seven of India's batsmen were dismissed for single-digit scores, while their number ten batsman Yuzvendra Chahal top-scored with 18*(37). India's previous lowest ODI total in New Zealand was 108.\n",
      "실제 헤드라인: India get all out for 92, their lowest ODI total in New Zealand\n",
      "예측 헤드라인: India's previous lowest ODI total in New Zealand was 108.\n",
      "--------------------------------------------------\n",
      "원문: Weeks after ex-CBI Director Alok Verma told the Department of Personnel and Training to consider him retired, the Home Ministry asked him to join work on the last day of his fixed tenure as Director on Thursday. The ministry directed him to immediately join as DG, Fire Services, the post he was transferred to after his removal as CBI chief.\n",
      "실제 헤드라인: Govt directs Alok Verma to join work 1 day before his retirement\n",
      "예측 헤드라인: Weeks after ex-CBI Director Alok Verma told the Department of Personnel and Training to consider him retired, the Home Ministry asked him to join work on the last day of his fixed tenure as Director on Thursday.\n",
      "--------------------------------------------------\n",
      "원문: Andhra Pradesh CM N Chandrababu Naidu has said, \"When I met then US President Bill Clinton, I addressed him as Mr Clinton, not as 'sir'. (PM Narendra) Modi is my junior in politics...I addressed him as sir 10 times.\" \"I did this...to satisfy his ego in the hope that he will do justice to the state,\" he added.\n",
      "실제 헤드라인: Called PM Modi 'sir' 10 times to satisfy his ego: Andhra CM\n",
      "예측 헤드라인: Andhra Pradesh CM N Chandrababu Naidu has said, \"When I met then US President Bill Clinton, I addressed him as Mr Clinton, not as 'sir'.\n",
      "--------------------------------------------------\n",
      "원문: Congress candidate Shafia Zubair won the Ramgarh Assembly seat in Rajasthan, by defeating BJP's Sukhwant Singh with a margin of 12,228 votes in the bypoll. With this victory, Congress has taken its total to 100 seats in the 200-member assembly. The election to the Ramgarh seat was delayed due to the death of sitting MLA and BSP candidate Laxman Singh.\n",
      "실제 헤드라인: Cong wins Ramgarh bypoll in Rajasthan, takes total to 100 seats\n",
      "예측 헤드라인: Congress candidate Shafia Zubair won the Ramgarh Assembly seat in Rajasthan, by defeating BJP's Sukhwant Singh with a margin of 12,228 votes in the bypoll.\n",
      "--------------------------------------------------\n",
      "원문: Two minor cousins in Uttar Pradesh's Gorakhpur were allegedly repeatedly burnt with tongs and forced to eat human excreta by their family for being friends with two boys from the same school. The cousins revealed their ordeal to the police and Child Welfare Committee after being brought back to Gorakhpur from Nepal, where they had fled to escape the torture.\n",
      "실제 헤드라인: UP cousins fed human excreta for friendship with boys\n",
      "예측 헤드라인: Two minor cousins in Uttar Pradesh's Gorakhpur were allegedly repeatedly burnt with tongs and forced to eat human excreta by their family for being friends with two boys from the same school.\n",
      "--------------------------------------------------\n",
      "원문: Isha Ghosh, an 81-year-old member of Bharat Scouts and Guides (BSG), has been imparting physical and mental training to schoolchildren in Jharkhand for several decades. Chaibasa-based Ghosh reportedly walks seven kilometres daily and spends eight hours conducting physical training, apart from climbing and yoga sessions. She says, \"One should do something for society till one's last breath.\"\n",
      "실제 헤드라인: 81-yr-old woman conducts physical training in J'khand schools\n",
      "예측 헤드라인: Isha Ghosh, an 81-year-old member of Bharat Scouts and Guides (BSG), has been imparting physical and mental training to schoolchildren in Jharkhand for several decades.\n",
      "--------------------------------------------------\n",
      "원문: Urging saints and seers at the Kumbh Mela to quit smoking, Yoga guru Ramdev said, \"We follow Ram and Krishna who never smoked in their life then why should we?\" Making them take a pledge to quit tobacco, he collected chillum (clay pipe) from several sadhus. He said he will deposit the chillums for display at a museum he'll build.\n",
      "실제 헤드라인: Ram, Krishna didn't smoke, why should we: Ramdev to sadhus at Kumbh\n",
      "예측 헤드라인: Urging saints and seers at the Kumbh Mela to quit smoking, Yoga guru Ramdev said, \"We follow Ram and Krishna who never smoked in their life then why should we?\" Making them take a pledge to quit tobacco, he collected chillum (clay pipe) from several sadhus.\n",
      "--------------------------------------------------\n",
      "원문: Former stripper and regional sales director of a pharmaceutical company, Sunrise Lee, gave a doctor a lap dance in a nightclub to persuade him to prescribe an addictive fentanyl spray in 2012, the company's sales representative told a US court. She said she saw Lee \"sitting on [doctor's] lap, kind of bouncing around.\" Lee has been accused of bribing doctors.\n",
      "실제 헤드라인: Pharma exec gave doctor a lap dance to sell medicine in US: Witness\n",
      "예측 헤드라인: Former stripper and regional sales director of a pharmaceutical company, Sunrise Lee, gave a doctor a lap dance in a nightclub to persuade him to prescribe an addictive fentanyl spray in 2012, the company's sales representative told a US court.\n",
      "--------------------------------------------------\n",
      "원문: Reliance Industries' Chairman Mukesh Ambani's daughter Isha Ambani, who got married last month, said she only cried at her 'bidaai' because she felt peer pressure as everyone was crying, especially her parents. \"I was emotional too but everyone around me would cry all the time,\" she added. \"It was a very emotional affair for everyone in my family,\" said Isha.\n",
      "실제 헤드라인:  I only cried at my 'bidaai' as I felt peer pressure: Isha Ambani\n",
      "예측 헤드라인: \"It was a very emotional affair for everyone in my family,\" said Isha.\n",
      "--------------------------------------------------\n",
      "원문: Louis Vuitton owner LVMH, which makes high-end beverages like MoÃÂ«t & Chandon champagne and Hennessy cognac, said it's stockpiling four months' worth of wine and spirits in UK in preparation for Brexit. \"We're ready for worst case scenario if there are difficulties with deliveries,\" the French luxury giant said. The UK is scheduled to leave the EU on March 29.\n",
      "실제 헤드라인: Louis Vuitton owner to stockpile 4 months of wine, spirits in UK\n",
      "예측 헤드라인: Louis Vuitton owner LVMH, which makes high-end beverages like MoÃÂ«t & Chandon champagne and Hennessy cognac, said it's stockpiling four months' worth of wine and spirits in UK in preparation for Brexit.\n",
      "--------------------------------------------------\n",
      "원문: Filmmaker Karan Johar and actress Tabu turned showstoppers for Gaurav Gupta on the opening night of LakmÃÂ© Fashion Week Summer/ Resort 2019. While Johar wore a red sequinned jacket with black pants, Tabu walked the ramp in a grey embellished gown. The fashion show, which began on January 29, will continue till February 3.\n",
      "실제 헤드라인: Karan Johar, Tabu turn showstoppers on opening night of LFW\n",
      "예측 헤드라인: Filmmaker Karan Johar and actress Tabu turned showstoppers for Gaurav Gupta on the opening night of LakmÃÂ© Fashion Week Summer/ Resort 2019.\n",
      "--------------------------------------------------\n",
      "원문: In a jibe at Congress President Rahul Gandhi, PM Narendra Modi on Wednesday said those on \"bail will have to go to jail.\" PM Modi added, \"He is out on bail and his associates too are facing charges...I know they will be convicted one day.\" The PM claimed he'd waged a war on corruption because he's from a common household. \n",
      "실제 헤드라인: Those on bail will go to jail: PM Modi takes jibe at Rahul\n",
      "예측 헤드라인: No summary generated\n",
      "--------------------------------------------------\n",
      "원문: Days after he threatened to step down from his post if Congress MLAs continue \"crossing the line,\" Karnataka Chief Minister HD Kumaraswamy accused them of taking potshots and asked, \"How many more days can I tolerate such stuff?\" Kumaraswamy, who made the statements after a Congress MLA demanded that Siddaramaiah be made CM again, said, \"Power is ephemeral.\"\n",
      "실제 헤드라인: How long can I tolerate Congress leaders' potshots: K'taka CM\n",
      "예측 헤드라인: No summary generated\n",
      "--------------------------------------------------\n",
      "원문: Union Minister Dharmendra Pradhan on Wednesday claimed the illegal mining mafia in Odisha operates under the control of CM Naveen Patnaik and state Congress chief Niranjan Patnaik. He added, \"The time has come for the people of Odisha to put a full stop to their activities...The time has come for us to ask for an explanation from this corrupt government.\"\n",
      "실제 헤드라인: Odisha CM Patnaik controls mining mafia: Union Minister\n",
      "예측 헤드라인: Union Minister Dharmendra Pradhan on Wednesday claimed the illegal mining mafia in Odisha operates under the control of CM Naveen Patnaik and state Congress chief Niranjan Patnaik.\n",
      "--------------------------------------------------\n",
      "원문: Claiming there is a dearth of ideas among opposition parties, Prime Minister Narendra Modi on Wednesday said, \"The opposition talks only about Modi the whole day, I suspect they even dream about me.\" PM Modi, who was addressing the New India Youth Conclave inÃ¢ÂÂ Surat, added that the opposition parties have only one agenda which is \"Modi\". \n",
      "실제 헤드라인: I think the opposition even dreams about me: PM Modi\n",
      "예측 헤드라인: No summary generated\n",
      "--------------------------------------------------\n",
      "원문: The Indian Space Research Organisation on Wednesday unveiled Human Space Flight Centre in Bengaluru for its Ã¢ÂÂ¹10,000-crore manned space mission 'Gaganyaan' scheduled for 2021. ISRO said the centre will be responsible for development of engineering systems for crew survival in space and crew selection and training. It'll also pursue activities for sustained human space flight missions, ISRO added.\n",
      "실제 헤드라인: ISRO unveils Bengaluru centre for manned space mission \n",
      "예측 헤드라인: It'll also pursue activities for sustained human space flight missions, ISRO added.\n",
      "--------------------------------------------------\n",
      "원문: At least 12 people have been killed and 170 others have been injured in Saudi Arabia this week due to flooding from heavy rain. The emergency services rescued 271 people from the flooded areas, more than half of them in Tabuk. Heavy rains hit mainly western and northwestern parts of Saudi Arabia, near its border with Jordan.\n",
      "실제 헤드라인: 12 killed, 170 injured in Saudi Arabia floods\n",
      "예측 헤드라인: At least 12 people have been killed and 170 others have been injured in Saudi Arabia this week due to flooding from heavy rain.\n",
      "--------------------------------------------------\n",
      "원문: Reliance Industries' Chairman Mukesh Ambani's daughter Isha Ambani has featured on the cover of the February edition of Vogue India. She's dressed in a white shirt dress and black ruffled skirt by Australian designer Toni Maticevski, while accessorising her look with a Misho ring. In the cover story on her, Isha has spoken about her work and life after marriage.\n",
      " \n",
      "실제 헤드라인: Isha Ambani features on February cover of Vogue magazine\n",
      "예측 헤드라인: Reliance Industries' Chairman Mukesh Ambani's daughter Isha Ambani has featured on the cover of the February edition of Vogue India.\n",
      "--------------------------------------------------\n",
      "원문: Indian Oil Corporation on Wednesday said it's looking for an annual deal to buy US crude as it seeks to broaden oil purchasing options. This comes amid uncertainties over Iran imports. The US had in November granted a six-month waiver to India from sanctions against Iran and restricted the country's monthly intake of Iranian oil to 3,00,000 barrels per day.\n",
      "\n",
      "\n",
      "실제 헤드라인: Indian Oil looking for annual deal to buy crude from US\n",
      "예측 헤드라인: The US had in November granted a six-month waiver to India from sanctions against Iran and restricted the country's monthly intake of Iranian oil to 3,00,000 barrels per day.\n",
      "--------------------------------------------------\n",
      "원문: Former Windies fast bowler Curtly Ambrose dismissed seven Australian batsmen within a span of 32 balls giving away just one run, in a Test match on January 30, 1993. Ambrose's spell helped his team bowl out Australia for 119 in the first innings, after being 85 for 2 at one point. Ambrose ended with first-innings figures of 18-9-25-7.\n",
      "실제 헤드라인: Pacer once took 7 wickets for just 1 run in 32 balls in a Test\n",
      "예측 헤드라인: Ambrose ended with first-innings figures of 18-9-25-7.\n",
      "--------------------------------------------------\n",
      "원문: A London zoo is offering people to name a cockroach after their exes on Valentine's Day for ÃÂ£1.50 (nearly Ã¢ÂÂ¹140). \"For those that don't quite require revenge, there's another way to make you feel better about getting back at your ex,\" the zoo said in a statement. The names will appear on zoo's 'roach board' on February 14. \n",
      "실제 헤드라인: UK zoo offers people to name cockroach after their ex on Valentine's\n",
      "예측 헤드라인: The names will appear on zoo's 'roach board' on February 14.\n",
      "--------------------------------------------------\n",
      "원문: Stand-in captain Rohit Sharma has become the 14th Indian cricketer to play 200 ODIs, achieving the feat after taking the field against New Zealand in fourth ODI at Hamilton on Thursday. The 31-year-old had made his ODI debut on June 23, 2007, against Ireland in Belfast. Rohit scored 7,799 runs in his first 199 ODIs at an average of 48.14.\n",
      "실제 헤드라인: Rohit Sharma becomes 14th Indian cricketer to play 200 ODIs\n",
      "예측 헤드라인: Rohit scored 7,799 runs in his first 199 ODIs at an average of 48.14.\n",
      "--------------------------------------------------\n",
      "원문: Batsman Shubman Gill has become the 227th cricketer to represent India in ODI cricket, achieving the feat against New Zealand in the fourth ODI at Hamilton on Thursday. The 19-year-old received his maiden ODI cap from former captain MS Dhoni. Notably, Shubman was named Player of the Under-19 World Cup in New Zealand last year.\n",
      "실제 헤드라인: 19-year-old Shubman Gill becomes India's 227th ODI cricketer\n",
      "예측 헤드라인: Notably, Shubman was named Player of the Under-19 World Cup in New Zealand last year.\n",
      "--------------------------------------------------\n",
      "원문: Investigators searching for a lost plane carrying Argentine forward Emiliano Sala found two seat cushions on French coast that \"likely\" belonged to the aircraft. The investigators said they'll now launch an underwater seabed search for aircraft wreckage. The Cardiff City footballer was travelling from France's Nantes to Wales' Cardiff when his plane disappeared over English Channel on January 21.\n",
      "실제 헤드라인: 2 seat cushions from 'missing plane carrying footballer' found\n",
      "예측 헤드라인: Investigators searching for a lost plane carrying Argentine forward Emiliano Sala found two seat cushions on French coast that \"likely\" belonged to the aircraft.\n",
      "--------------------------------------------------\n",
      "원문: Italian third division football side Lucchese's head coach Giancarlo Favarin has been banned for five months for headbutting Alessandria's assistant coach Gaetano Mancino during a brawl following the teams' 2-2 draw on Sunday. Mancino was caught off-balance and knocked to the ground after the headbutt. Earlier in the match, Favarin had told his own player to break an opponent's legs.\n",
      "실제 헤드라인: Italian coach knocks rival down with headbutt, banned for 5 months\n",
      "예측 헤드라인: Italian third division football side Lucchese's head coach Giancarlo Favarin has been banned for five months for headbutting Alessandria's assistant coach Gaetano Mancino during a brawl following the teams' 2-2 draw on Sunday.\n",
      "--------------------------------------------------\n",
      "원문: Cyclists taking part in National Track Cycling Championship in Jaipur opted to sleep on the floor inside the stadium instead of hotels over expensive cycles. The organisers had booked hotels but they didn't have the provision for cyclists to keep their bikes inside. A national gold medallist said their cycles cost between Ã¢ÂÂ¹5-9 lakh and once damaged, they become non-repairable. \n",
      "실제 헤드라인: Cyclists sleep on stadium floor instead of hotel over costly cycles\n",
      "예측 헤드라인: Cyclists taking part in National Track Cycling Championship in Jaipur opted to sleep on the floor inside the stadium instead of hotels over expensive cycles.\n",
      "--------------------------------------------------\n",
      "원문: Silvia Grecco, a 56-year-old Brazilian mother narrates her local football team Palmeiras' matches live to her 12-year-old blind and autistic son Nickollas from the stands. \"I describe details: this player is wearing short sleeves...colour of...football boots, hair colour...Everything I see and feel, I tell him, even when I need to curse the referee!\" Grecco said after a recent match.\n",
      "실제 헤드라인: Brazilian mother narrates football matches to blind son from stands\n",
      "예측 헤드라인: Silvia Grecco, a 56-year-old Brazilian mother narrates her local football team Palmeiras' matches live to her 12-year-old blind and autistic son Nickollas from the stands.\n",
      "--------------------------------------------------\n",
      "원문: A TechCrunch report has claimed that IndiaÃ¢ÂÂs largest bank SBI secured a passwordless server \"overnight\" on being alerted it allowed anyone to access phone numbers, bank balances, and transactions of millions of its customers. The Mumbai-based server was containing two months of data from SBI Quick, an SMS and call-based system used to request basic information about accounts, TechCrunch revealed.\n",
      "실제 헤드라인: SBI left account data of millions of users unprotected: Report\n",
      "예측 헤드라인: A TechCrunch report has claimed that IndiaÃ¢ÂÂs largest bank SBI secured a passwordless server \"overnight\" on being alerted it allowed anyone to access phone numbers, bank balances, and transactions of millions of its customers.\n",
      "--------------------------------------------------\n",
      "원문: Rahul Gandhi has replied to Goa CM Manohar Parrikar's letter, which accused the Congress President of using his \"visit to an ailing man for political gains\". \"He's under immense pressure from the PM after our meeting and needs to demonstrate his loyalty by attacking me,\" Gandhi wrote in his letter. Parrikar had clarified he didn't discuss Rafale deal with Rahul.\n",
      "실제 헤드라인: CM Parrikar under pressure from PM after our Goa meet: Rahul\n",
      "예측 헤드라인: Rahul Gandhi has replied to Goa CM Manohar Parrikar's letter, which accused the Congress President of using his \"visit to an ailing man for political gains\".\n",
      "--------------------------------------------------\n",
      "원문: Twenty-seven-year-old Mohammed Mahuwala was arrested in Indore on Wednesday for allegedly cheating e-commerce giant Amazon of nearly Ã¢ÂÂ¹30 lakh. Mahuwala was a member of a gang who ordered costly gadgets from Amazon. \"[They] used to get refund of the amount paid...by saying the parcel...was empty. In reality, these devices were taken out from parcel and sold...to local shopkeepers,\" said police.\n",
      "실제 헤드라인: Man arrested for cheating Amazon of Ã¢ÂÂ¹30 lakh by taking refunds\n",
      "예측 헤드라인: Twenty-seven-year-old Mohammed Mahuwala was arrested in Indore on Wednesday for allegedly cheating e-commerce giant Amazon of nearly Ã¢ÂÂ¹30 lakh.\n",
      "Mahuwala was a member of a gang who ordered costly gadgets from Amazon.\n",
      "--------------------------------------------------\n",
      "원문: AgustaWestland chopper scam co-accused Rajiv Saxena was extradited to India from UAE on Wednesday. He had been evading the Enforcement Directorate's summons claiming he was suffering from leukaemia but had moved an anti-money laundering court for anticipatory bail in December, stating he had never been summoned at his Dubai address. Saxena's lawyers alleged he had been \"illegally extradited\". \n",
      "실제 헤드라인: AgustaWestland scam accused Rajiv Saxena extradited to India\n",
      "예측 헤드라인: AgustaWestland chopper scam co-accused Rajiv Saxena was extradited to India from UAE on Wednesday.\n",
      "--------------------------------------------------\n",
      "원문: Afghan President Ashraf Ghani has said the \"keys to war\" are in Pakistan's Islamabad, Quetta and Rawalpindi, accusing the country of providing safe havens to militants, including those belonging to the Taliban. Ghani added the \"key to peace was in Afghanistan\". His comments came amid the talks between the US and the Taliban to end the 17-year war in Afghanistan.\n",
      "실제 헤드라인: Pakistan holds 'keys to war': Afghanistan\n",
      "예측 헤드라인: Afghan President Ashraf Ghani has said the \"keys to war\" are in Pakistan's Islamabad, Quetta and Rawalpindi, accusing the country of providing safe havens to militants, including those belonging to the Taliban.\n",
      "--------------------------------------------------\n",
      "원문: A Singapore-based insurance agent has been jailed for two years and five months for threatening to harm his clients unless they paid him in bitcoins. The 36-year-old set up an email account, and signed the messages as 'Lord Voldemort', a fictional character from the Harry Potter series. Ye Lin Myint targeted about 33 people, including those who cancelled insurance policies.\n",
      "실제 헤드라인: Insurance agent 'Lord Voldemort' jailed for threatening clients\n",
      "예측 헤드라인: A Singapore-based insurance agent has been jailed for two years and five months for threatening to harm his clients unless they paid him in bitcoins.\n",
      "--------------------------------------------------\n",
      "원문: Gabrielle Reilly, a 22-year-old US woman, created earrings for her Apple AirPods and put it up for sale online for $20 (about Ã¢ÂÂ¹1,500). \"I absolutely refuse to lose them (AirPods)...So I made earrings,\" she explained. The earrings, which took her over an hour to make, debuted in a video on Twitter that has since garnered over three million views.\n",
      "실제 헤드라인: Woman turns Apple AirPods into earrings to avoid losing them\n",
      "예측 헤드라인: \"I absolutely refuse to lose them (AirPods)...So I made earrings,\" she explained.\n",
      "--------------------------------------------------\n",
      "원문: Ex-ICICI Bank CEO Chanda Kochhar said she's \"utterly disappointed, hurt and shocked\" by the bank's decision to terminate her. Kochhar said she served ICICI for 34 years with utmost honesty and integrity and that ultimately truth will prevail. Adding that she hasn't been given a copy of the independent probe report, Kochhar said none of ICICI's credit decisions are unilateral\n",
      "실제 헤드라인: Shocked, hurt by ICICI's decision, truth will prevail: Kochhar\n",
      "예측 헤드라인: Adding that she hasn't been given a copy of the independent probe report, Kochhar said none of ICICI's credit decisions are unilateral\n",
      "--------------------------------------------------\n",
      "원문: Swedish multinational fast-fashion brand Hennes & Mauritz AB (H&M) has hired Christopher Wylie, the whistleblower who exposed Facebook's Cambridge Analytica data scandal. WylieÃ¢ÂÂs focus will be to help get better insights on customers, products and markets and support work on sustainable and ethical artificial intelligence, H&M spokesperson said. Wylie is a former employee of Cambridge Analytica.\n",
      "실제 헤드라인: Fashion brand H&M hires Facebook data scandal whistleblower\n",
      "예측 헤드라인: Swedish multinational fast-fashion brand Hennes & Mauritz AB (H&M) has hired Christopher Wylie, the whistleblower who exposed Facebook's Cambridge Analytica data scandal.\n",
      "--------------------------------------------------\n",
      "원문: Micro-blogging platform Twitter is testing a new feature on Android to put news on the top of a user's timeline. \"With this update, weÃ¢ÂÂre making it easier for people to see news and stories their followers have been discussing,\" Product Manager Walter Gurzynski said. The feature comes alongside a prompt saying, \"Catch up on what's happened while you were away.\"\n",
      "실제 헤드라인: Twitter testing news-first timeline feature on Android\n",
      "예측 헤드라인: Micro-blogging platform Twitter is testing a new feature on Android to put news on the top of a user's timeline.\n",
      "--------------------------------------------------\n",
      "원문: Samsung has started mass producing its one terabyte 'embedded Universal Flash Storage (eUFS) 2.1' technology for \"use in next-generation mobile applications\", which it claims is the industry's first such eUFS. The company added the new eUFS will let smartphones store 260 10-minute videos shot in 4K UHD format. It'll be sized the same as the previous 512GB version, Samsung said.\n",
      "실제 헤드라인: Samsung builds world's first 1TB storage chip for smartphones \n",
      "예측 헤드라인: Samsung has started mass producing its one terabyte 'embedded Universal Flash Storage (eUFS) 2.1' technology for \"use in next-generation mobile applications\", which it claims is the industry's first such eUFS.\n",
      "--------------------------------------------------\n",
      "원문: Prime Minister Narendra Modi on Wednesday said the people with 'negative mindset' are questioning him and his government for floating pro-poor schemes. He added negative mindset people are raising doubts about schemes such as building toilets and providing free gas connections to the poor. He further said that negative mentality laced with a vested interest still exists in the country.\n",
      "실제 헤드라인: People with 'negative mindset' quizzing pro-poor schemes: PM\n",
      "예측 헤드라인: Prime Minister Narendra Modi on Wednesday said the people with 'negative mindset' are questioning him and his government for floating pro-poor schemes.\n",
      "--------------------------------------------------\n",
      "원문: Union Minister Anantkumar Hegde took a dig at Congress President Rahul Gandhi by calling him a \"hybrid specimen\" who has no clue about religion. \"A father who's...Muslim, a mother who's...Christian and the son is supposed to be...Brahmin. How is that even possible?\" he said. He added such \"hybrid specimen\" cannot be found in any laboratory in the world.\n",
      "실제 헤드라인: Rahul is hybrid specimen, has no clue about religion: Hegde\n",
      "예측 헤드라인: Union Minister Anantkumar Hegde took a dig at Congress President Rahul Gandhi by calling him a \"hybrid specimen\" who has no clue about religion.\n",
      "He added such \"hybrid specimen\" cannot be found in any laboratory in the world.\n",
      "--------------------------------------------------\n",
      "원문: Several parts of the US are set to experience record low temperatures as the polar vortex hit the Upper Midwest, with more than 200 million people expected to experience below-freezing temperatures this week. Temperatures throughout the Upper Midwest are expected to be at least 20-40Ã¢ÂÂ below zero. Government offices and schools have been closed in several areas.\n",
      "실제 헤드라인: Extreme cold to affect 200 million people as polar vortex hits US\n",
      "예측 헤드라인: Several parts of the US are set to experience record low temperatures as the polar vortex hit the Upper Midwest, with more than 200 million people expected to experience below-freezing temperatures this week.\n",
      "--------------------------------------------------\n",
      "원문: The police on Wednesday registered cases against 13 persons, including a woman leader of Hindu Mahasabha, in Aligarh for firing at an effigy of Mahatma Gandhi with an air pistol. \"The incident took place in a house in Naurangabad locality of the city,\" Senior Superintendent of Police said. The video of the event went viral on social media, he added.\n",
      "실제 헤드라인: 13 booked for firing air shots at Mahatma Gandhi's effigy\n",
      "예측 헤드라인: The police on Wednesday registered cases against 13 persons, including a woman leader of Hindu Mahasabha, in Aligarh for firing at an effigy of Mahatma Gandhi with an air pistol.\n",
      "--------------------------------------------------\n",
      "원문: Railway police has rescued a woman travelling on a train in Chennai who got her leg stuck inside the commode of a toilet. After being caught inside the commode hole, she struggled to remove her leg and following failed attempts, she shouted for help, reports said. Railway police used a cutter to pry open the commode and freed her leg.\n",
      "실제 헤드라인: Railway police rescues woman with leg stuck in train toilet\n",
      "예측 헤드라인: Railway police has rescued a woman travelling on a train in Chennai who got her leg stuck inside the commode of a toilet.\n",
      "--------------------------------------------------\n",
      "원문: The US on Tuesday began returning asylum seekers to Mexico, sending back a migrant from a Central American nation and called the move a \"response to the illegal migration crisis\" faced by it. Under its Migrant Protection Protocols policy, the US will return certain migrants who cross into the country illegally back to Mexico while their asylum requests are processed.\n",
      "실제 헤드라인: US begins sending back asylum seekers to Mexico\n",
      "예측 헤드라인: The US on Tuesday began returning asylum seekers to Mexico, sending back a migrant from a Central American nation and called the move a \"response to the illegal migration crisis\" faced by it.\n",
      "--------------------------------------------------\n",
      "원문: Former Finance Minister Yashwant Sinha on Tuesday demanded a probe into the alleged diversion of loans worth Ã¢ÂÂ¹31,000 crore by Dewan Housing Finance (DHFL). All agencies including regulators of the government have failed to track nefarious deals, he said. This comes after a media report on Tuesday accused DHFL's controlling shareholders of diverting funds to shell companies to buy assets.\n",
      "실제 헤드라인: Yashwant Sinha demands probe into alleged fund diversion by DHFL\n",
      "예측 헤드라인: Former Finance Minister Yashwant Sinha on Tuesday demanded a probe into the alleged diversion of loans worth Ã¢ÂÂ¹31,000 crore by Dewan Housing Finance (DHFL).\n",
      "--------------------------------------------------\n",
      "원문: US-based Boeing on Wednesday reported annual sales worth $101.12 billion in 2018, the first time the planemaker's sales crossed the $100-billion mark in its 102-year history. The company said it expects to deliver between 895 and 905 commercial aircraft in 2019. Boeing retained its position as the world's largest planemaker for the seventh straight year, delivering 806 aircraft in 2018. \n",
      "실제 헤드라인: Boeing sales cross $100bn for 1st time in its 102-yr history\n",
      "예측 헤드라인: Boeing retained its position as the world's largest planemaker for the seventh straight year, delivering 806 aircraft in 2018.\n",
      "--------------------------------------------------\n",
      "원문: text\n",
      "실제 헤드라인: headlines\n",
      "예측 헤드라인: No summary generated\n",
      "--------------------------------------------------\n",
      "원문: OnePlus has emerged as India's best-selling premium smartphone brand of 2018, as per a report by Counterpoint. It captured 36% of the market share in the premium segment, in Q4 2018. Further, its OnePlus 6 emerged as the highest selling premium smartphone of 2018 followed by OnePlus 6T.\n",
      "실제 헤드라인: OnePlus named bestselling premium smartphone brand of 2018: Report\n",
      "예측 헤드라인: Further, its OnePlus 6 emerged as the highest selling premium smartphone of 2018 followed by OnePlus 6T.\n",
      "--------------------------------------------------\n",
      "원문: Filmmaker Pooja Bhatt, while talking about the presentation of women in her films, said, \"I can never look at a female body, even if it's naked, in a vulgar manner.\" \"Our audience can say...the women in my films are bold or sensual, but never ever vulgar,\" she added. Pooja further said her censor board is her \"own heart and mind\".\n",
      "실제 헤드라인: Can never look at female body, even if naked, in vulgar way: Pooja\n",
      "예측 헤드라인: Filmmaker Pooja Bhatt, while talking about the presentation of women in her films, said, \"I can never look at a female body, even if it's naked, in a vulgar manner.\" \"Our audience can say...the women in my films are bold or sensual, but never ever vulgar,\" she added.\n",
      "--------------------------------------------------\n",
      "원문: Actress Mishti, who has featured in 'Manikarnika: The Queen of Jhansi', has said the film's co-director Kangana Ranaut made false promises to the cast. \"Kangana had said, 'I want dates because all characters look jumbled up...I'm trying my best to give everybody a prominent space on screen.' After watching the movie, there is no scope for other characters,\" Mishti added. \n",
      "실제 헤드라인: Kangana made fake promises to cast: 'Manikarnika' actress Mishti\n",
      "예측 헤드라인: Actress Mishti, who has featured in 'Manikarnika: The Queen of Jhansi', has said the film's co-director Kangana Ranaut made false promises to the cast.\n",
      "--------------------------------------------------\n",
      "원문: The high-powered committee led by PM Narendra Modi to select the next CBI Director will meet again on February 1, Congress leader Mallikarjun Kharge has said. The panel consisting of Kharge and Chief Justice of India Ranjan Gogoi met on January 24, but the meeting ended \"inconclusively\" after Kharge cited lack of details in the list of 80 IPS officers. \n",
      "실제 헤드라인: PM-led panel to meet on Friday to pick new CBI chief: Kharge\n",
      "예측 헤드라인: The high-powered committee led by PM Narendra Modi to select the next CBI Director will meet again on February 1, Congress leader Mallikarjun Kharge has said.\n",
      "--------------------------------------------------\n",
      "원문: Nevada State Athletic Commission has banned MMA fighters Conor McGregor and Khabib Nurmagomedov for six months and nine months respectively over their roles in the mass brawl that occurred after their fight at UFC 229 last October. McGregor and Khabib have been fined $50,000 (Ã¢ÂÂ¹35 lakh) and $500,000 (Ã¢ÂÂ¹3.5 crore) respectively. The brawl occurred after Nurmagomedov confronted McGregor's teammate.\n",
      "실제 헤드라인: McGregor fined Ã¢ÂÂ¹35 lakh, Khabib Ã¢ÂÂ¹3.5 crore for brawl; both banned\n",
      "예측 헤드라인: Nevada State Athletic Commission has banned MMA fighters Conor McGregor and Khabib Nurmagomedov for six months and nine months respectively over their roles in the mass brawl that occurred after their fight at UFC 229 last October.\n",
      "--------------------------------------------------\n",
      "원문: Pakistan captain Sarfaraz Ahmed, who has been banned for four matches over racist remarks, took an apparent dig at his critics by sharing a video of a child reciting 'log hai na' poem on Twitter. \"Pyaar karna hai to khud se kar...dushmani karne ke liye log hai na,\" the poem read. \"This is how the world is,\" Sarfaraz wrote.\n",
      "실제 헤드라인: Banned for 4 matches, Sarfaraz shares 'log hai na' poem for critics\n",
      "예측 헤드라인: Pakistan captain Sarfaraz Ahmed, who has been banned for four matches over racist remarks, took an apparent dig at his critics by sharing a video of a child reciting 'log hai na' poem on Twitter.\n",
      "--------------------------------------------------\n",
      "원문: Banned cricketer Sreesanth has told Supreme Court he initially confessed to Delhi Police about his alleged involvement in 2013 IPL spot-fixing scandal to escape continuous police torture. Sreesanth further said the bookie tried dragging him into spot-fixing but he didn't fall for it. Citing Sreesanth not informing BCCI about fixing approach, the apex court said Sreesanth's conduct \"wasn't good\".\n",
      "실제 헤드라인: Confessed to spot-fixing to escape police torture: Sreesanth to SC\n",
      "예측 헤드라인: Sreesanth further said the bookie tried dragging him into spot-fixing but he didn't fall for it.\n",
      "--------------------------------------------------\n",
      "원문: The Finance Ministry on Wednesday said the government will present an Interim Budget on February 1. The clarification came amid speculations that a full Budget may be presented during the session. The government recently assigned Piyush Goyal temporary additional charge of the Finance and Corporate Affairs ministries in the absence of Arun Jaitley, who is in the US for treatment.\n",
      "실제 헤드라인: Govt to present Interim Budget, not full Budget on February 1\n",
      "예측 헤드라인: The Finance Ministry on Wednesday said the government will present an Interim Budget on February 1.\n",
      "--------------------------------------------------\n",
      "원문: US President Donald Trump on Wednesday called his country's top intelligence chiefs \"naive\" and \"wrong\" on Iran and added that they should perhaps \"go back to school\". Trump claimed Iran is testing rockets, calling the country \"a source of potential danger and conflict\". Top US intelligence officials on Tuesday said that Iran isn't currently taking steps towards building nuclear weapons.\n",
      "실제 헤드라인: US intelligence naive and wrong, should go back to school: Trump\n",
      "예측 헤드라인: US President Donald Trump on Wednesday called his country's top intelligence chiefs \"naive\" and \"wrong\" on Iran and added that they should perhaps \"go back to school\".\n",
      "--------------------------------------------------\n",
      "원문: A senior priest at the Vatican who handled cases of sexual abuse has quit after being accused of sexual abuse by a former nun. The accused priest claimed he is innocent and said he would consider taking legal action. The Vatican said in a statement that a Church investigation of the case was underway.\n",
      "실제 헤드라인: Vatican priest handling sex abuse cases quits over alleged sex abuse\n",
      "예측 헤드라인: A senior priest at the Vatican who handled cases of sexual abuse has quit after being accused of sexual abuse by a former nun.\n",
      "--------------------------------------------------\n",
      "원문: A 22-year-old writer turned down a job offer, claiming she was bullied to the point of tears during her two-hour interview by a UK company's CEO. Olivia Bland added the \"brutal\" interview brought back painful memories of her abusive relationship. \"I am so sorry that anyone has been hurt, it is never my intent,\" Web Applications CEO Craig Dean replied. \n",
      "실제 헤드라인: Woman rejects job after CEO bullies her in interview; he apologises\n",
      "예측 헤드라인: A 22-year-old writer turned down a job offer, claiming she was bullied to the point of tears during her two-hour interview by a UK company's CEO.\n",
      "--------------------------------------------------\n",
      "원문: Noida Police has arrested Sector 20 station in-charge Manoj Pant and three journalists for allegedly extorting money from a call centre owner for removing his name from an FIR. The four were caught while taking bribe money of Ã¢ÂÂ¹8 lakh, police said. Pant was the lead investigator in the Paytm extortion case involving Founder Vijay Shekhar Sharma's secretary Sonia Dhawan.\n",
      "실제 헤드라인: Police officer probing Paytm extortion case arrested for extortion\n",
      "예측 헤드라인: Noida Police has arrested Sector 20 station in-charge Manoj Pant and three journalists for allegedly extorting money from a call centre owner for removing his name from an FIR.\n",
      "--------------------------------------------------\n",
      "원문: Airtel on Wednesday said that Qatar's sovereign wealth fund Qatar Investment Authority will invest $200 million through a primary equity issuance in Airtel Africa. India's second-largest telecom operator's Africa unit recently raised $1.25 billion from six investors. Airtel Africa, the holding company for Airtel's operations in 14 African countries, is preparing for an initial public offering.\n",
      "실제 헤드라인: Qatar to invest $200 million in Airtel Africa\n",
      "예측 헤드라인: Airtel Africa, the holding company for Airtel's operations in 14 African countries, is preparing for an initial public offering.\n",
      "--------------------------------------------------\n",
      "원문: Actor Shreyas Talpade said that 'Golmaal' filmmaker Rohit Shetty is still working on the script for the fifth instalment of the 'Golmaal' film franchise. \"He was telling us the other day that he...cracked some story. Once he's done with the...scripting, he'll take a call,Ã¢ÂÂ the actor added. The series features Shreyas along with Ajay Devgn, Arshad Warsi and Tusshar Kapoor.\n",
      "실제 헤드라인: Rohit Shetty still working on script for Golmaal 5: Shreyas\n",
      "예측 헤드라인: Actor Shreyas Talpade said that 'Golmaal' filmmaker Rohit Shetty is still working on the script for the fifth instalment of the 'Golmaal' film franchise.\n",
      "Once he's done with the...scripting, he'll take a call,Ã¢ÂÂ the actor added.\n",
      "--------------------------------------------------\n",
      "원문: A 72-year-old man named Terry Sanderson has sued 'Avengers' actress Gwyneth Paltrow for allegedly crashing into him while skiing, and is seeking $3.1 million (over Ã¢ÂÂ¹22 crore) in damages. The lawsuit states the actress got up and skied away after knocking the man down, leaving him with broken ribs. The incident reportedly took place in 2016 in Utah, US. \n",
      "실제 헤드라인: Man sues Avengers actress Gwyneth for Ã¢ÂÂ¹22 crore over ski crash\n",
      "예측 헤드라인: A 72-year-old man named Terry Sanderson has sued 'Avengers' actress Gwyneth Paltrow for allegedly crashing into him while skiing, and is seeking $3.1 million (over Ã¢ÂÂ¹22 crore) in damages.\n",
      "--------------------------------------------------\n",
      "원문: Yami Gautam was felicitated by Border Security Force (BSF) in Amritsar for her performance in 'Uri: The Surgical Strike'. \"BSF is the first line of defence of our country and it gives me...pride to have met them,\" Yami said. The film, which also stars Vicky Kaushal, is based on the Indian Army's surgical strike operation which took place in 2016.\n",
      "실제 헤드라인: Yami Gautam felicitated by BSF for performance in 'Uri...'\n",
      "예측 헤드라인: Yami Gautam was felicitated by Border Security Force (BSF) in Amritsar for her performance in 'Uri: The Surgical Strike'.\n",
      "--------------------------------------------------\n",
      "원문: Social media giant Facebook has hired privacy critic Nate Cardozo, formerly the top legal counsel for US privacy watchdog EFF, as a privacy policy manager for WhatsApp. Cardozo had called Facebook a \"faceless corporation\" whose business model depends on user's confusion and indifference about privacy, in October 2015. Facebook has also hired attorney Robyn Greene as its privacy policy manager.\n",
      "실제 헤드라인: Facebook hires its privacy critic as privacy policy manager\n",
      "예측 헤드라인: Social media giant Facebook has hired privacy critic Nate Cardozo, formerly the top legal counsel for US privacy watchdog EFF, as a privacy policy manager for WhatsApp. Cardozo had called Facebook a \"faceless corporation\" whose business model depends on user's confusion and indifference about privacy, in October 2015.\n",
      "--------------------------------------------------\n",
      "원문: Apple CEO Tim Cook said the company plans to lower some iPhones' prices in markets with currencies that weakened against the US dollar in the past year. \"WeÃ¢ÂÂve decided to go back to (iPhone prices) more commensurate with...local prices...a year ago,\" Cook added. The price cuts, in hopes of increasing sales, are reportedly occurring for second time in 12 years.\n",
      "실제 헤드라인: Apple to cut some iPhones' prices outside US over strong dollar\n",
      "예측 헤드라인: \"WeÃ¢ÂÂve decided to go back to (iPhone prices) more commensurate with...local prices...a year ago,\" Cook added.\n",
      "--------------------------------------------------\n",
      "원문: Scientists in Australia's Flinders University are testing a wetsuit prototype that could protect its wearer after a shark attack. The suit, made of synthetic material similar to the material used in bulletproof vests, could help reduce blood loss after a shark attack. \"The majority of fatalities from shark bites is due to blood loss...shock from blood loss,\" a scientist said.\n",
      "실제 헤드라인: Scientists test wetsuit to protect wearer after shark attack\n",
      "예측 헤드라인: \"The majority of fatalities from shark bites is due to blood loss...shock from blood loss,\" a scientist said.\n",
      "--------------------------------------------------\n",
      "원문: BJP National Secretary Rahul Sinha on Wednesday asked the party workers in West Bengal to come armed with sticks to PM Narendra Modi's rally in the state on February 2. His statement came a day after clashes broke out following BJP chief Amit Shah's WB rally. Sinha added the TMC is indulged in violence as they're afraid of BJP's strength.\n",
      "실제 헤드라인: Come armed with sticks for PM Modi's rally in WB: BJP leader\n",
      "예측 헤드라인: BJP National Secretary Rahul Sinha on Wednesday asked the party workers in West Bengal to come armed with sticks to PM Narendra Modi's rally in the state on February 2.\n",
      "--------------------------------------------------\n",
      "원문: BJP President Amit Shah on Wednesday took a dig at the Opposition parties saying that the 'mahagathbandhan' for the Opposition is 4B - \"Bua-Bhatija-Bhai-Behen\". He added that 4B for the BJP meant \"Badhta Bharat, Banta Bharat\". He said Opposition's government cannot take the country ahead and \"only Modiji can provide a 'mazboot' (strong) government\".\n",
      "실제 헤드라인: '4B' for Opposition is 'Bua-Bhatija-Bhai-Behen': Amit Shah\n",
      "예측 헤드라인: BJP President Amit Shah on Wednesday took a dig at the Opposition parties saying that the 'mahagathbandhan' for the Opposition is 4B - \"Bua-Bhatija-Bhai-Behen\".\n",
      "--------------------------------------------------\n",
      "원문: German automaker Volkswagen Group has retained the car industry's top spot in global sales, beating its Japanese rival Toyota. Volkswagen's sales, including its MAN and Scania heavy trucks and buses, rose 0.9% to 10.83 million in 2018, the company had said. Toyota came second with around 10.6 million deliveries, including its affiliated brands Daihatsu and Hino, in 2018.\n",
      "실제 헤드라인: Volkswagen retains top spot in global sales, beats Toyota\n",
      "예측 헤드라인: Volkswagen's sales, including its MAN and Scania heavy trucks and buses, rose 0.9% to 10.83 million in 2018, the company had said.\n",
      "--------------------------------------------------\n",
      "원문: Ousted Nissan Chairman Carlos Ghosn has said his arrest over alleged financial misconduct was led by \"plot and treason\" by the Japanese carmaker's executives who opposed its deeper integration with Renault and Mitsubishi. Ghosn added he had discussed the integration plans with Nissan's CEO in September, a month before his arrest. He further said he wouldn't flee if granted bail.\n",
      "실제 헤드라인: Plot, treason by Nissan executives led to my arrest: Ghosn\n",
      "예측 헤드라인: Ousted Nissan Chairman Carlos Ghosn has said his arrest over alleged financial misconduct was led by \"plot and treason\" by the Japanese carmaker's executives who opposed its deeper integration with Renault and Mitsubishi.\n",
      "--------------------------------------------------\n",
      "원문: The government has cut down customs duty on import of parts and components for electric vehicles to 10-15%, down from the previous 15-30%. The Central Board of Indirect Taxes and Customs said disassembled parts will attract 10% duty, whereas 15% will be levied on pre-assembled packs. However, fully built electric vehicles will continue to attract 25% import duty.\n",
      "실제 헤드라인: Govt cuts customs duty on electric vehicle parts to 10-15%\n",
      "예측 헤드라인: The government has cut down customs duty on import of parts and components for electric vehicles to 10-15%, down from the previous 15-30%.\n",
      "--------------------------------------------------\n",
      "원문: Government officials on Wednesday said that a swine flu outbreak has killed 76 people this year in Rajasthan. Colder weather has worsened the seasonal outbreak of the H1N1 virus in the country, officials added. Rajasthan recorded more than a third of all swine flu deaths in India with Jodhpur being the worst affected area in the state, officials said.\n",
      "실제 헤드라인: Swine flu outbreak kills 76 in Rajasthan\n",
      "예측 헤드라인: Government officials on Wednesday said that a swine flu outbreak has killed 76 people this year in Rajasthan.\n",
      "--------------------------------------------------\n",
      "원문: North Korea is \"unlikely to completely give up its nuclear weapons and production capabilities\", Director of US' National Intelligence, Daniel Coats, said. \"North Korean leaders view nuclear arms as critical to regime survival,\" he added. His statements come despite North Korea's agreement with the US at the Singapore summit last year to denuclearise the Korean Peninsula. \n",
      "실제 헤드라인: N Korea unlikely to give up nuclear weapons: US intelligence chief\n",
      "예측 헤드라인: \"North Korean leaders view nuclear arms as critical to regime survival,\" he added.\n",
      "--------------------------------------------------\n",
      "원문: Jet Airways on Wednesday denied it was directed by GE Capital Aviation Services to ground its aircraft due to non-payment of dues. The airline said it's in the process of delivering three aircraft to lessors due to the expiry of lease terms. Further, three aircraft have been temporarily grounded to carry out an engine normalisation exercise, it added.\n",
      "실제 헤드라인: Jet Airways denies being told to ground aircraft\n",
      "예측 헤드라인: Further, three aircraft have been temporarily grounded to carry out an engine normalisation exercise, it added.\n",
      "--------------------------------------------------\n",
      "원문: Retired Justice Srikrishna's enquiry panel has found that ex-CEO Chanda Kochhar violated ICICI Bank's code of conduct. The bank said it'll treat Kochhar's exit as termination and will take back all bonuses paid to her from April 2009 until March 2018. The CBI recently filed a case against Kochhar, her husband, and Videocon MD in the ICICI-Videocon loan case.\n",
      "실제 헤드라인: ICICI fires Chanda Kochhar, to take back bonuses paid in last 9 yrs\n",
      "예측 헤드라인: Retired Justice Srikrishna's enquiry panel has found that ex-CEO Chanda Kochhar violated ICICI Bank's code of conduct.\n",
      "--------------------------------------------------\n",
      "원문: Ex-India cricketer Jacob Martin has been shifted to general ward from the ICU after being on a ventilator for nearly a month following a road accident, wherein he severely injured his lungs. Martin's wife Khyati mentioned there are chances that Jacob will be in hospital for two more months. BCCI, CSK and various cricketers provided financial assistance for Martin's treatment.\n",
      "실제 헤드라인: Ex-cricketer Martin out of ICU after being on ventilator for a month\n",
      "예측 헤드라인: Ex-India cricketer Jacob Martin has been shifted to general ward from the ICU after being on a ventilator for nearly a month following a road accident, wherein he severely injured his lungs.\n",
      "--------------------------------------------------\n",
      "원문: Sri Lanka all-rounder Thisara Perera has written to Sri Lanka Cricket CEO Ashley de Silva, asking the board to intervene after ODI captain Lasith Malinga's wife Tanya targeted him on Facebook. Tanya accused Perera of meeting country's Sports Minister to secure his place in the team. \"We've become laughing stock of whole country...because of one person's personal vendetta,\" Perera wrote.\n",
      "실제 헤드라인: Malinga's wife targets Perera on Facebook, he seeks board's help\n",
      "예측 헤드라인: Tanya accused Perera of meeting country's Sports Minister to secure his place in the team.\n",
      "--------------------------------------------------\n",
      "원문: Goa CM and ex-Defence Minister Manohar Parrikar has written a letter to Congress President Rahul Gandhi over his claim that Parrikar told him he has nothing to do with new Rafale deal. Parrikar wrote, \"Kindly do not use your visit to an ailing person to feed political opportunism.\" In their five-minute meeting, they didn't discuss anything about Rafale, he added.\n",
      "실제 헤드라인: Don't use visit to ailing man for political gains: Goa CM to Rahul\n",
      "예측 헤드라인: Goa CM and ex-Defence Minister Manohar Parrikar has written a letter to Congress President Rahul Gandhi over his claim that Parrikar told him he has nothing to do with new Rafale deal.\n",
      "--------------------------------------------------\n",
      "원문: Prime Minister Narendra Modi stopped his speech at the inauguration of the new terminal building at Surat airport after observing that a cameraman had fainted. PM Modi then asked his officers to urgently arrange for an ambulance for the cameraman. \"It's good that PM was paying attention to his surroundings during his speech,\" the cameraman later said from a hospital. \n",
      "실제 헤드라인: PM Modi stops speech after cameraman faints, asks officers to help\n",
      "예측 헤드라인: PM Modi then asked his officers to urgently arrange for an ambulance for the cameraman.\n",
      "--------------------------------------------------\n",
      "원문: A couple got divorced minutes after their wedding ceremony got over in Gujarat's Gondal as a disagreement broke out and relatives from both sides started throwing dishes at each other during lunch. The advocates representing both sides arrived at the marriage hall and got the couple divorced within minutes. The couple even reportedly returned the gifts exchanged during the ceremony.\n",
      "실제 헤드라인: Couple divorces minutes after marriage as families fight over lunch\n",
      "예측 헤드라인: A couple got divorced minutes after their wedding ceremony got over in Gujarat's Gondal as a disagreement broke out and relatives from both sides started throwing dishes at each other during lunch.\n",
      "--------------------------------------------------\n",
      "원문: Gujarat Education Minister Bhupendrasinh Chudasma has written a congratulatory message to a yoga ashram run by rape-convict Asaram's organisation for observing February 14 as \"Matru-Pitru Pujan Divas\" (Mother-Father worship day). After the Congress termed the letter as \"unfortunate\", saying it \"shows the nexus between BJP and godman\", Chudasma clarified, \"All I have done is sent best wishes.\" \n",
      "실제 헤드라인: Minister praises rape-convict Asaram over Matru-Pitru Divas\n",
      "예측 헤드라인: Gujarat Education Minister Bhupendrasinh Chudasma has written a congratulatory message to a yoga ashram run by rape-convict Asaram's organisation for observing February 14 as \"Matru-Pitru Pujan Divas\" (Mother-Father worship day).\n",
      "--------------------------------------------------\n",
      "원문: Venezuelan President NicolÃÂ¡s Maduro has claimed that his American counterpart Donald Trump ordered the Colombian government and the Colombian mafia to kill him. \"If something happens to me, Trump and Colombian President IvÃÂ¡n MÃÂ¡rquez will bear responsibility,\" he added. The US has blamed Maduro for the economic crisis in Venezuela and recognised opposition leader Juan GuaidÃÂ³ as interim President.\n",
      "실제 헤드라인: Trump ordered to kill me: Venezuela President Maduro\n",
      "예측 헤드라인: Venezuelan President NicolÃÂ¡s Maduro has claimed that his American counterpart Donald Trump ordered the Colombian government and the Colombian mafia to kill him.\n",
      "--------------------------------------------------\n",
      "원문: Eight Asian billionaires aged 90 or above on the Bloomberg Billionaires Index of world's 500 richest people have a combined net worth of $125 billion. The richest among them is Hong Kong's Li Ka Shing with a net worth of $30.5 billion. India's 90-year-old Pallonji Mistry, who controls 18.3% of Tata Sons through Shapoorji Pallonji Group, is worth $20.1 billion.\n",
      "실제 헤드라인: 8 Asian billionaires aged over 90, including Mistry, control $125bn\n",
      "예측 헤드라인: The richest among them is Hong Kong's Li Ka Shing with a net worth of $30.5 billion.\n",
      "--------------------------------------------------\n",
      "원문: Tamil Nadu food safety officials on Wednesday raided and seized 1,000 kgs of banned plastic items from Hotel Saravana Bhavan in Chennai's Vadapalani. Officials began a surprise check in the branch at 8 am. The state government had banned single-use plastics from January 1 and said the banned items should be handed over at the offices of the city corporation.\n",
      "실제 헤드라인: 1,000 kg banned plastic seized from Saravana Bhavan in Chennai\n",
      "예측 헤드라인: Tamil Nadu food safety officials on Wednesday raided and seized 1,000 kgs of banned plastic items from Hotel Saravana Bhavan in Chennai's Vadapalani.\n",
      "--------------------------------------------------\n",
      "원문: Actress Shamita Shetty was verbally abused and her driver was slapped in an incident of road rage in Mumbai on Tuesday, as per reports. The incident reportedly took place after a motorist who was accompanied by two friends, rammed his vehicle into Shamita's car. The men allegedly manhandled and threatened Shamita's driver when he stepped out to inspect the damage. \n",
      "실제 헤드라인: Shamita Shetty abused, driver slapped after accident: Report\n",
      "예측 헤드라인: Actress Shamita Shetty was verbally abused and her driver was slapped in an incident of road rage in Mumbai on Tuesday, as per reports.\n",
      "--------------------------------------------------\n",
      "원문: Actress Vaani Kapoor said that trolling has become a norm on social media, adding, \"There's no one who hasn't got trolled on social media.\" \"Everybody is out there to pull the other person down but it'll only bother [you] if you let it bother you,\" Vaani added. She further said, social media offers a platform \"where people enjoy belittling everybody\". \n",
      "실제 헤드라인: Trolling has become the norm on social media: Vaani\n",
      "예측 헤드라인: Actress Vaani Kapoor said that trolling has become a norm on social media, adding, \"There's no one who hasn't got trolled on social media.\" \"Everybody is out there to pull the other person down but it'll only bother [you] if you let it bother you,\" Vaani added.\n",
      "--------------------------------------------------\n",
      "원문: Actress Sushmita Sen took to Instagram to share a joke on the subject of marriage. \"Whoever invented marriage was creepy as hell. Like I love you so much IÃ¢ÂÂm gonna get the government involved so you canÃ¢ÂÂt leave,\" Sushmita's post read. \"This is an insult to [the] beauty of marriage,\" an Instagram user commented on her post.\n",
      "실제 헤드라인: Whoever invented marriage was creepy as hell: Sushmita posts joke\n",
      "예측 헤드라인: Actress Sushmita Sen took to Instagram to share a joke on the subject of marriage.\n",
      "\"This is an insult to [the] beauty of marriage,\" an Instagram user commented on her post.\n",
      "--------------------------------------------------\n",
      "원문: Television actor Karanvir Bohra, who flew to Russia on Tuesday to attend a film festival, has been detained in Moscow due to passport damage. \"They [are] contemplating to deport me back to India,\" the actor wrote on Twitter. The Indian embassy in Russia's capital responded to his tweet and said that they were looking into the issue. \n",
      "실제 헤드라인: Actor Karanvir Bohra detained in Russia over passport damage\n",
      "예측 헤드라인: Television actor Karanvir Bohra, who flew to Russia on Tuesday to attend a film festival, has been detained in Moscow due to passport damage.\n",
      "--------------------------------------------------\n",
      "원문: While speaking about winning awards for his films, Shah Rukh Khan said, \"If I don't get an award, that award is at a loss.\" \"Sometimes, the prestige of an award increases when I receive it,\" the actor jokingly added. Shah Rukh further said that he was \"extremely ambitious\" but in a \"fair manner\". \n",
      "실제 헤드라인: If I don't get an award, that award is at loss: SRK\n",
      "예측 헤드라인: While speaking about winning awards for his films, Shah Rukh Khan said, \"If I don't get an award, that award is at a loss.\" \"Sometimes, the prestige of an award increases when I receive it,\" the actor jokingly added.\n",
      "--------------------------------------------------\n",
      "원문: Actress Patralekhaa will make her debut in the Kannada film industry with the action-comedy film 'Where is my Kannadaka?' \"I can definitely say that itÃ¢ÂÂs a kind of role that I havenÃ¢ÂÂt portrayed on screen so far and that makes it special for me,\" the actress said in a statement. Shooting for the film will reportedly begin in April.\n",
      "실제 헤드라인: Actress Patralekhaa to make her Kannada film debut \n",
      "예측 헤드라인: Actress Patralekhaa will make her debut in the Kannada film industry with the action-comedy film 'Where is my Kannadaka?' \"I can definitely say that itÃ¢ÂÂs a kind of role that I havenÃ¢ÂÂt portrayed on screen so far and that makes it special for me,\" the actress said in a statement.\n",
      "--------------------------------------------------\n",
      "원문: Gmail on Tuesday faced a global outage, which also affected India, wherein certain users complained they faced a '404 error' message while trying to sign-in to their accounts. The error message read: \"The requested URL was not found on this server. That's all we know.\" Google responded saying \"problem with Gmail should be resolved (now). We apologise for the inconvenience\".\n",
      "실제 헤드라인: Gmail faces temporary global outage, users face '404 error'\n",
      "예측 헤드라인: Gmail on Tuesday faced a global outage, which also affected India, wherein certain users complained they faced a '404 error' message while trying to sign-in to their accounts.\n",
      "The error message read: \"The requested URL was not found on this server.\n",
      "--------------------------------------------------\n",
      "원문: Shiv Sena chief Uddhav Thackeray has asked the BJP to decide about the alliance with the Sena within 15 days and said the BJP should make a concrete proposal on the alliance. Thackeray added that only if the BJP agrees to Sena's terms and conditions, the party will agree for an alliance. Sena is free to fight independently, he said. \n",
      "실제 헤드라인: Decide about an alliance within 15 days: Uddhav to BJP\n",
      "예측 헤드라인: Shiv Sena chief Uddhav Thackeray has asked the BJP to decide about the alliance with the Sena within 15 days and said the BJP should make a concrete proposal on the alliance.\n",
      "--------------------------------------------------\n",
      "원문: BJP President Amit Shah on Wednesday took a dig at the Opposition's proposed grand alliance saying if the \"mahagathbandhan comes to power, each opposition leader will be a Prime Minister every day of the week\". He added, \"[The] country will go on...holiday on Sunday\". He said the Opposition is thinking about leading the country but does not have a leader.\n",
      "실제 헤드라인: Grand alliance, if wins, will see a new PM every day: Shah\n",
      "예측 헤드라인: He said the Opposition is thinking about leading the country but does not have a leader.\n",
      "--------------------------------------------------\n",
      "원문: Prime Minister Narendra Modi on Wednesday said his government's demonetisation decision made houses affordable for the aspiring youth. He added decisions like demonetisation and RERA have put a check on black money that used to be \"parked in the real estate sector\". He said 'UDAN' (Ude Desh ka Aam Nagrik) scheme has boosted the development of the country's aviation sector.\n",
      "실제 헤드라인: Demonetisation made homes affordable for youth: PM Modi\n",
      "예측 헤드라인: He added decisions like demonetisation and RERA have put a check on black money that used to be \"parked in the real estate sector\".\n",
      "--------------------------------------------------\n"
     ]
    }
   ],
   "source": [
    "# 실제 헤드라인과 예측 헤드라인을 비교하는 함수 (상위 100개, ratio=0.005 적용)\n",
    "def compare_summaries(data, ratio=0.5, n=100):\n",
    "    # 상위 n개의 데이터만 처리\n",
    "    data = data.head(n)\n",
    "    \n",
    "    for i in range(len(data)):\n",
    "        original_text = data['text'].iloc[i]\n",
    "        actual_headline = data['headlines'].iloc[i]\n",
    "        \n",
    "        # 예측 헤드라인 생성 (텍스트 요약)\n",
    "        predicted_headline = summarize(original_text, ratio=ratio)\n",
    "\n",
    "        # 비교 출력\n",
    "        print(f\"원문: {original_text}\")\n",
    "        print(f\"실제 헤드라인: {actual_headline}\")\n",
    "        print(f\"예측 헤드라인: {predicted_headline if predicted_headline else 'No summary generated'}\")\n",
    "        print(\"-\" * 50)\n",
    "\n",
    "# 상위 100개 샘플을 대상으로 비교 (ratio=0.005)\n",
    "compare_summaries(data_2, ratio=0.5, n=100)"
   ]
  },
  {
   "cell_type": "markdown",
   "id": "ac5d11e6",
   "metadata": {},
   "source": [
    "# 회고\n",
    "---\n",
    "* 오늘은 노드와 동일하게 진행하면 크게 문제되는 것은 없었다.\n",
    "* 하지만, summa를 사용하는 부분에서 text의 크기가 너무 크면 너무 오래걸리는 경향이 있어서 과감하게 상위 100개만 사용하는 등으로 조치했다.\n",
    "* 시간이 난다면 LSTM 모델이 아니라, 다른 모델들을 적용해서 해보는 것도 재밌을 것 같다."
   ]
  },
  {
   "cell_type": "code",
   "execution_count": null,
   "id": "c50ab3b2",
   "metadata": {},
   "outputs": [],
   "source": []
  }
 ],
 "metadata": {
  "kernelspec": {
   "display_name": "Python 3 (ipykernel)",
   "language": "python",
   "name": "python3"
  },
  "language_info": {
   "codemirror_mode": {
    "name": "ipython",
    "version": 3
   },
   "file_extension": ".py",
   "mimetype": "text/x-python",
   "name": "python",
   "nbconvert_exporter": "python",
   "pygments_lexer": "ipython3",
   "version": "3.9.7"
  }
 },
 "nbformat": 4,
 "nbformat_minor": 5
}
